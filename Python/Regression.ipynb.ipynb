{
 "cells": [
  {
   "cell_type": "code",
   "execution_count": null,
   "id": "a123b23f",
   "metadata": {
    "id": "a123b23f"
   },
   "outputs": [],
   "source": [
    "import numpy as np\n",
    "import pandas as pd\n",
    "import matplotlib.pyplot as plt"
   ]
  },
  {
   "cell_type": "markdown",
   "id": "5674288f",
   "metadata": {
    "id": "5674288f"
   },
   "source": [
    "# Data preprocessing"
   ]
  },
  {
   "cell_type": "markdown",
   "id": "d7ecff03",
   "metadata": {
    "id": "d7ecff03"
   },
   "source": [
    "### Importing data"
   ]
  },
  {
   "cell_type": "code",
   "execution_count": null,
   "id": "2ce0bd16",
   "metadata": {
    "colab": {
     "base_uri": "https://localhost:8080/",
     "height": 488
    },
    "executionInfo": {
     "elapsed": 415,
     "status": "ok",
     "timestamp": 1670466797214,
     "user": {
      "displayName": "Seong Won Kim",
      "userId": "17984956289819639053"
     },
     "user_tz": 300
    },
    "id": "2ce0bd16",
    "outputId": "4773de2d-4f16-4f39-b7af-2ac1ed23ca8f",
    "scrolled": false
   },
   "outputs": [
    {
     "data": {
      "text/html": [
       "\n",
       "  <div id=\"df-6eade46c-c033-4867-a370-bf7b95d1d86a\">\n",
       "    <div class=\"colab-df-container\">\n",
       "      <div>\n",
       "<style scoped>\n",
       "    .dataframe tbody tr th:only-of-type {\n",
       "        vertical-align: middle;\n",
       "    }\n",
       "\n",
       "    .dataframe tbody tr th {\n",
       "        vertical-align: top;\n",
       "    }\n",
       "\n",
       "    .dataframe thead th {\n",
       "        text-align: right;\n",
       "    }\n",
       "</style>\n",
       "<table border=\"1\" class=\"dataframe\">\n",
       "  <thead>\n",
       "    <tr style=\"text-align: right;\">\n",
       "      <th></th>\n",
       "      <th>subject#</th>\n",
       "      <th>age</th>\n",
       "      <th>sex</th>\n",
       "      <th>test_time</th>\n",
       "      <th>motor_UPDRS</th>\n",
       "      <th>total_UPDRS</th>\n",
       "      <th>Jitter(%)</th>\n",
       "      <th>Jitter(Abs)</th>\n",
       "      <th>Jitter:RAP</th>\n",
       "      <th>Jitter:PPQ5</th>\n",
       "      <th>...</th>\n",
       "      <th>Shimmer(dB)</th>\n",
       "      <th>Shimmer:APQ3</th>\n",
       "      <th>Shimmer:APQ5</th>\n",
       "      <th>Shimmer:APQ11</th>\n",
       "      <th>Shimmer:DDA</th>\n",
       "      <th>NHR</th>\n",
       "      <th>HNR</th>\n",
       "      <th>RPDE</th>\n",
       "      <th>DFA</th>\n",
       "      <th>PPE</th>\n",
       "    </tr>\n",
       "  </thead>\n",
       "  <tbody>\n",
       "    <tr>\n",
       "      <th>0</th>\n",
       "      <td>1</td>\n",
       "      <td>72</td>\n",
       "      <td>0</td>\n",
       "      <td>5.6431</td>\n",
       "      <td>28.199</td>\n",
       "      <td>34.398</td>\n",
       "      <td>0.00662</td>\n",
       "      <td>0.000034</td>\n",
       "      <td>0.00401</td>\n",
       "      <td>0.00317</td>\n",
       "      <td>...</td>\n",
       "      <td>0.230</td>\n",
       "      <td>0.01438</td>\n",
       "      <td>0.01309</td>\n",
       "      <td>0.01662</td>\n",
       "      <td>0.04314</td>\n",
       "      <td>0.014290</td>\n",
       "      <td>21.640</td>\n",
       "      <td>0.41888</td>\n",
       "      <td>0.54842</td>\n",
       "      <td>0.16006</td>\n",
       "    </tr>\n",
       "    <tr>\n",
       "      <th>1</th>\n",
       "      <td>1</td>\n",
       "      <td>72</td>\n",
       "      <td>0</td>\n",
       "      <td>12.6660</td>\n",
       "      <td>28.447</td>\n",
       "      <td>34.894</td>\n",
       "      <td>0.00300</td>\n",
       "      <td>0.000017</td>\n",
       "      <td>0.00132</td>\n",
       "      <td>0.00150</td>\n",
       "      <td>...</td>\n",
       "      <td>0.179</td>\n",
       "      <td>0.00994</td>\n",
       "      <td>0.01072</td>\n",
       "      <td>0.01689</td>\n",
       "      <td>0.02982</td>\n",
       "      <td>0.011112</td>\n",
       "      <td>27.183</td>\n",
       "      <td>0.43493</td>\n",
       "      <td>0.56477</td>\n",
       "      <td>0.10810</td>\n",
       "    </tr>\n",
       "    <tr>\n",
       "      <th>2</th>\n",
       "      <td>1</td>\n",
       "      <td>72</td>\n",
       "      <td>0</td>\n",
       "      <td>19.6810</td>\n",
       "      <td>28.695</td>\n",
       "      <td>35.389</td>\n",
       "      <td>0.00481</td>\n",
       "      <td>0.000025</td>\n",
       "      <td>0.00205</td>\n",
       "      <td>0.00208</td>\n",
       "      <td>...</td>\n",
       "      <td>0.181</td>\n",
       "      <td>0.00734</td>\n",
       "      <td>0.00844</td>\n",
       "      <td>0.01458</td>\n",
       "      <td>0.02202</td>\n",
       "      <td>0.020220</td>\n",
       "      <td>23.047</td>\n",
       "      <td>0.46222</td>\n",
       "      <td>0.54405</td>\n",
       "      <td>0.21014</td>\n",
       "    </tr>\n",
       "    <tr>\n",
       "      <th>3</th>\n",
       "      <td>1</td>\n",
       "      <td>72</td>\n",
       "      <td>0</td>\n",
       "      <td>25.6470</td>\n",
       "      <td>28.905</td>\n",
       "      <td>35.810</td>\n",
       "      <td>0.00528</td>\n",
       "      <td>0.000027</td>\n",
       "      <td>0.00191</td>\n",
       "      <td>0.00264</td>\n",
       "      <td>...</td>\n",
       "      <td>0.327</td>\n",
       "      <td>0.01106</td>\n",
       "      <td>0.01265</td>\n",
       "      <td>0.01963</td>\n",
       "      <td>0.03317</td>\n",
       "      <td>0.027837</td>\n",
       "      <td>24.445</td>\n",
       "      <td>0.48730</td>\n",
       "      <td>0.57794</td>\n",
       "      <td>0.33277</td>\n",
       "    </tr>\n",
       "    <tr>\n",
       "      <th>4</th>\n",
       "      <td>1</td>\n",
       "      <td>72</td>\n",
       "      <td>0</td>\n",
       "      <td>33.6420</td>\n",
       "      <td>29.187</td>\n",
       "      <td>36.375</td>\n",
       "      <td>0.00335</td>\n",
       "      <td>0.000020</td>\n",
       "      <td>0.00093</td>\n",
       "      <td>0.00130</td>\n",
       "      <td>...</td>\n",
       "      <td>0.176</td>\n",
       "      <td>0.00679</td>\n",
       "      <td>0.00929</td>\n",
       "      <td>0.01819</td>\n",
       "      <td>0.02036</td>\n",
       "      <td>0.011625</td>\n",
       "      <td>26.126</td>\n",
       "      <td>0.47188</td>\n",
       "      <td>0.56122</td>\n",
       "      <td>0.19361</td>\n",
       "    </tr>\n",
       "    <tr>\n",
       "      <th>...</th>\n",
       "      <td>...</td>\n",
       "      <td>...</td>\n",
       "      <td>...</td>\n",
       "      <td>...</td>\n",
       "      <td>...</td>\n",
       "      <td>...</td>\n",
       "      <td>...</td>\n",
       "      <td>...</td>\n",
       "      <td>...</td>\n",
       "      <td>...</td>\n",
       "      <td>...</td>\n",
       "      <td>...</td>\n",
       "      <td>...</td>\n",
       "      <td>...</td>\n",
       "      <td>...</td>\n",
       "      <td>...</td>\n",
       "      <td>...</td>\n",
       "      <td>...</td>\n",
       "      <td>...</td>\n",
       "      <td>...</td>\n",
       "      <td>...</td>\n",
       "    </tr>\n",
       "    <tr>\n",
       "      <th>5870</th>\n",
       "      <td>42</td>\n",
       "      <td>61</td>\n",
       "      <td>0</td>\n",
       "      <td>142.7900</td>\n",
       "      <td>22.485</td>\n",
       "      <td>33.485</td>\n",
       "      <td>0.00406</td>\n",
       "      <td>0.000031</td>\n",
       "      <td>0.00167</td>\n",
       "      <td>0.00168</td>\n",
       "      <td>...</td>\n",
       "      <td>0.160</td>\n",
       "      <td>0.00973</td>\n",
       "      <td>0.01133</td>\n",
       "      <td>0.01549</td>\n",
       "      <td>0.02920</td>\n",
       "      <td>0.025137</td>\n",
       "      <td>22.369</td>\n",
       "      <td>0.64215</td>\n",
       "      <td>0.55314</td>\n",
       "      <td>0.21367</td>\n",
       "    </tr>\n",
       "    <tr>\n",
       "      <th>5871</th>\n",
       "      <td>42</td>\n",
       "      <td>61</td>\n",
       "      <td>0</td>\n",
       "      <td>149.8400</td>\n",
       "      <td>21.988</td>\n",
       "      <td>32.988</td>\n",
       "      <td>0.00297</td>\n",
       "      <td>0.000025</td>\n",
       "      <td>0.00119</td>\n",
       "      <td>0.00147</td>\n",
       "      <td>...</td>\n",
       "      <td>0.215</td>\n",
       "      <td>0.01052</td>\n",
       "      <td>0.01277</td>\n",
       "      <td>0.01904</td>\n",
       "      <td>0.03157</td>\n",
       "      <td>0.011927</td>\n",
       "      <td>22.886</td>\n",
       "      <td>0.52598</td>\n",
       "      <td>0.56518</td>\n",
       "      <td>0.12621</td>\n",
       "    </tr>\n",
       "    <tr>\n",
       "      <th>5872</th>\n",
       "      <td>42</td>\n",
       "      <td>61</td>\n",
       "      <td>0</td>\n",
       "      <td>156.8200</td>\n",
       "      <td>21.495</td>\n",
       "      <td>32.495</td>\n",
       "      <td>0.00349</td>\n",
       "      <td>0.000025</td>\n",
       "      <td>0.00152</td>\n",
       "      <td>0.00187</td>\n",
       "      <td>...</td>\n",
       "      <td>0.244</td>\n",
       "      <td>0.01371</td>\n",
       "      <td>0.01456</td>\n",
       "      <td>0.01877</td>\n",
       "      <td>0.04112</td>\n",
       "      <td>0.017701</td>\n",
       "      <td>25.065</td>\n",
       "      <td>0.47792</td>\n",
       "      <td>0.57888</td>\n",
       "      <td>0.14157</td>\n",
       "    </tr>\n",
       "    <tr>\n",
       "      <th>5873</th>\n",
       "      <td>42</td>\n",
       "      <td>61</td>\n",
       "      <td>0</td>\n",
       "      <td>163.7300</td>\n",
       "      <td>21.007</td>\n",
       "      <td>32.007</td>\n",
       "      <td>0.00281</td>\n",
       "      <td>0.000020</td>\n",
       "      <td>0.00128</td>\n",
       "      <td>0.00151</td>\n",
       "      <td>...</td>\n",
       "      <td>0.131</td>\n",
       "      <td>0.00693</td>\n",
       "      <td>0.00870</td>\n",
       "      <td>0.01307</td>\n",
       "      <td>0.02078</td>\n",
       "      <td>0.007984</td>\n",
       "      <td>24.422</td>\n",
       "      <td>0.56865</td>\n",
       "      <td>0.56327</td>\n",
       "      <td>0.14204</td>\n",
       "    </tr>\n",
       "    <tr>\n",
       "      <th>5874</th>\n",
       "      <td>42</td>\n",
       "      <td>61</td>\n",
       "      <td>0</td>\n",
       "      <td>170.7300</td>\n",
       "      <td>20.513</td>\n",
       "      <td>31.513</td>\n",
       "      <td>0.00282</td>\n",
       "      <td>0.000021</td>\n",
       "      <td>0.00135</td>\n",
       "      <td>0.00166</td>\n",
       "      <td>...</td>\n",
       "      <td>0.171</td>\n",
       "      <td>0.00946</td>\n",
       "      <td>0.01154</td>\n",
       "      <td>0.01470</td>\n",
       "      <td>0.02839</td>\n",
       "      <td>0.008172</td>\n",
       "      <td>23.259</td>\n",
       "      <td>0.58608</td>\n",
       "      <td>0.57077</td>\n",
       "      <td>0.15336</td>\n",
       "    </tr>\n",
       "  </tbody>\n",
       "</table>\n",
       "<p>5875 rows × 22 columns</p>\n",
       "</div>\n",
       "      <button class=\"colab-df-convert\" onclick=\"convertToInteractive('df-6eade46c-c033-4867-a370-bf7b95d1d86a')\"\n",
       "              title=\"Convert this dataframe to an interactive table.\"\n",
       "              style=\"display:none;\">\n",
       "        \n",
       "  <svg xmlns=\"http://www.w3.org/2000/svg\" height=\"24px\"viewBox=\"0 0 24 24\"\n",
       "       width=\"24px\">\n",
       "    <path d=\"M0 0h24v24H0V0z\" fill=\"none\"/>\n",
       "    <path d=\"M18.56 5.44l.94 2.06.94-2.06 2.06-.94-2.06-.94-.94-2.06-.94 2.06-2.06.94zm-11 1L8.5 8.5l.94-2.06 2.06-.94-2.06-.94L8.5 2.5l-.94 2.06-2.06.94zm10 10l.94 2.06.94-2.06 2.06-.94-2.06-.94-.94-2.06-.94 2.06-2.06.94z\"/><path d=\"M17.41 7.96l-1.37-1.37c-.4-.4-.92-.59-1.43-.59-.52 0-1.04.2-1.43.59L10.3 9.45l-7.72 7.72c-.78.78-.78 2.05 0 2.83L4 21.41c.39.39.9.59 1.41.59.51 0 1.02-.2 1.41-.59l7.78-7.78 2.81-2.81c.8-.78.8-2.07 0-2.86zM5.41 20L4 18.59l7.72-7.72 1.47 1.35L5.41 20z\"/>\n",
       "  </svg>\n",
       "      </button>\n",
       "      \n",
       "  <style>\n",
       "    .colab-df-container {\n",
       "      display:flex;\n",
       "      flex-wrap:wrap;\n",
       "      gap: 12px;\n",
       "    }\n",
       "\n",
       "    .colab-df-convert {\n",
       "      background-color: #E8F0FE;\n",
       "      border: none;\n",
       "      border-radius: 50%;\n",
       "      cursor: pointer;\n",
       "      display: none;\n",
       "      fill: #1967D2;\n",
       "      height: 32px;\n",
       "      padding: 0 0 0 0;\n",
       "      width: 32px;\n",
       "    }\n",
       "\n",
       "    .colab-df-convert:hover {\n",
       "      background-color: #E2EBFA;\n",
       "      box-shadow: 0px 1px 2px rgba(60, 64, 67, 0.3), 0px 1px 3px 1px rgba(60, 64, 67, 0.15);\n",
       "      fill: #174EA6;\n",
       "    }\n",
       "\n",
       "    [theme=dark] .colab-df-convert {\n",
       "      background-color: #3B4455;\n",
       "      fill: #D2E3FC;\n",
       "    }\n",
       "\n",
       "    [theme=dark] .colab-df-convert:hover {\n",
       "      background-color: #434B5C;\n",
       "      box-shadow: 0px 1px 3px 1px rgba(0, 0, 0, 0.15);\n",
       "      filter: drop-shadow(0px 1px 2px rgba(0, 0, 0, 0.3));\n",
       "      fill: #FFFFFF;\n",
       "    }\n",
       "  </style>\n",
       "\n",
       "      <script>\n",
       "        const buttonEl =\n",
       "          document.querySelector('#df-6eade46c-c033-4867-a370-bf7b95d1d86a button.colab-df-convert');\n",
       "        buttonEl.style.display =\n",
       "          google.colab.kernel.accessAllowed ? 'block' : 'none';\n",
       "\n",
       "        async function convertToInteractive(key) {\n",
       "          const element = document.querySelector('#df-6eade46c-c033-4867-a370-bf7b95d1d86a');\n",
       "          const dataTable =\n",
       "            await google.colab.kernel.invokeFunction('convertToInteractive',\n",
       "                                                     [key], {});\n",
       "          if (!dataTable) return;\n",
       "\n",
       "          const docLinkHtml = 'Like what you see? Visit the ' +\n",
       "            '<a target=\"_blank\" href=https://colab.research.google.com/notebooks/data_table.ipynb>data table notebook</a>'\n",
       "            + ' to learn more about interactive tables.';\n",
       "          element.innerHTML = '';\n",
       "          dataTable['output_type'] = 'display_data';\n",
       "          await google.colab.output.renderOutput(dataTable, element);\n",
       "          const docLink = document.createElement('div');\n",
       "          docLink.innerHTML = docLinkHtml;\n",
       "          element.appendChild(docLink);\n",
       "        }\n",
       "      </script>\n",
       "    </div>\n",
       "  </div>\n",
       "  "
      ],
      "text/plain": [
       "      subject#  age  sex  test_time  motor_UPDRS  total_UPDRS  Jitter(%)  \\\n",
       "0            1   72    0     5.6431       28.199       34.398    0.00662   \n",
       "1            1   72    0    12.6660       28.447       34.894    0.00300   \n",
       "2            1   72    0    19.6810       28.695       35.389    0.00481   \n",
       "3            1   72    0    25.6470       28.905       35.810    0.00528   \n",
       "4            1   72    0    33.6420       29.187       36.375    0.00335   \n",
       "...        ...  ...  ...        ...          ...          ...        ...   \n",
       "5870        42   61    0   142.7900       22.485       33.485    0.00406   \n",
       "5871        42   61    0   149.8400       21.988       32.988    0.00297   \n",
       "5872        42   61    0   156.8200       21.495       32.495    0.00349   \n",
       "5873        42   61    0   163.7300       21.007       32.007    0.00281   \n",
       "5874        42   61    0   170.7300       20.513       31.513    0.00282   \n",
       "\n",
       "      Jitter(Abs)  Jitter:RAP  Jitter:PPQ5  ...  Shimmer(dB)  Shimmer:APQ3  \\\n",
       "0        0.000034     0.00401      0.00317  ...        0.230       0.01438   \n",
       "1        0.000017     0.00132      0.00150  ...        0.179       0.00994   \n",
       "2        0.000025     0.00205      0.00208  ...        0.181       0.00734   \n",
       "3        0.000027     0.00191      0.00264  ...        0.327       0.01106   \n",
       "4        0.000020     0.00093      0.00130  ...        0.176       0.00679   \n",
       "...           ...         ...          ...  ...          ...           ...   \n",
       "5870     0.000031     0.00167      0.00168  ...        0.160       0.00973   \n",
       "5871     0.000025     0.00119      0.00147  ...        0.215       0.01052   \n",
       "5872     0.000025     0.00152      0.00187  ...        0.244       0.01371   \n",
       "5873     0.000020     0.00128      0.00151  ...        0.131       0.00693   \n",
       "5874     0.000021     0.00135      0.00166  ...        0.171       0.00946   \n",
       "\n",
       "      Shimmer:APQ5  Shimmer:APQ11  Shimmer:DDA       NHR     HNR     RPDE  \\\n",
       "0          0.01309        0.01662      0.04314  0.014290  21.640  0.41888   \n",
       "1          0.01072        0.01689      0.02982  0.011112  27.183  0.43493   \n",
       "2          0.00844        0.01458      0.02202  0.020220  23.047  0.46222   \n",
       "3          0.01265        0.01963      0.03317  0.027837  24.445  0.48730   \n",
       "4          0.00929        0.01819      0.02036  0.011625  26.126  0.47188   \n",
       "...            ...            ...          ...       ...     ...      ...   \n",
       "5870       0.01133        0.01549      0.02920  0.025137  22.369  0.64215   \n",
       "5871       0.01277        0.01904      0.03157  0.011927  22.886  0.52598   \n",
       "5872       0.01456        0.01877      0.04112  0.017701  25.065  0.47792   \n",
       "5873       0.00870        0.01307      0.02078  0.007984  24.422  0.56865   \n",
       "5874       0.01154        0.01470      0.02839  0.008172  23.259  0.58608   \n",
       "\n",
       "          DFA      PPE  \n",
       "0     0.54842  0.16006  \n",
       "1     0.56477  0.10810  \n",
       "2     0.54405  0.21014  \n",
       "3     0.57794  0.33277  \n",
       "4     0.56122  0.19361  \n",
       "...       ...      ...  \n",
       "5870  0.55314  0.21367  \n",
       "5871  0.56518  0.12621  \n",
       "5872  0.57888  0.14157  \n",
       "5873  0.56327  0.14204  \n",
       "5874  0.57077  0.15336  \n",
       "\n",
       "[5875 rows x 22 columns]"
      ]
     },
     "execution_count": 3,
     "metadata": {},
     "output_type": "execute_result"
    }
   ],
   "source": [
    "URL = 'https://raw.githubusercontent.com/Andrewkimmm/Parkinson/main/parkinsons_updrs%20(1).data'\n",
    "data = pd.read_csv(URL)\n",
    "data"
   ]
  },
  {
   "cell_type": "markdown",
   "id": "_qHgEu8Cxa97",
   "metadata": {
    "id": "_qHgEu8Cxa97"
   },
   "source": [
    "### Dropping Unnecessary Columns"
   ]
  },
  {
   "cell_type": "code",
   "execution_count": null,
   "id": "2nv9VA2cxat6",
   "metadata": {
    "colab": {
     "base_uri": "https://localhost:8080/"
    },
    "executionInfo": {
     "elapsed": 3,
     "status": "ok",
     "timestamp": 1670466797214,
     "user": {
      "displayName": "Seong Won Kim",
      "userId": "17984956289819639053"
     },
     "user_tz": 300
    },
    "id": "2nv9VA2cxat6",
    "outputId": "e77200af-aa3c-443b-a740-26508d33001e"
   },
   "outputs": [
    {
     "name": "stdout",
     "output_type": "stream",
     "text": [
      "features: (5875, 19)\n",
      "labels: (5875, 2)\n"
     ]
    }
   ],
   "source": [
    "df_feature = data.drop(['subject#', 'motor_UPDRS', 'total_UPDRS'], axis = 1)\n",
    "df_label = data[['motor_UPDRS', 'total_UPDRS']]\n",
    "\n",
    "# to numpy\n",
    "feature = df_feature.to_numpy()\n",
    "label = df_label.to_numpy()\n",
    "\n",
    "print (f\"features: {feature.shape}\")\n",
    "print (f\"labels: {label.shape}\")"
   ]
  },
  {
   "cell_type": "markdown",
   "id": "75aadec5",
   "metadata": {
    "id": "75aadec5"
   },
   "source": [
    "### Missing data"
   ]
  },
  {
   "cell_type": "code",
   "execution_count": null,
   "id": "768427aa",
   "metadata": {
    "colab": {
     "base_uri": "https://localhost:8080/"
    },
    "executionInfo": {
     "elapsed": 2,
     "status": "ok",
     "timestamp": 1670466797214,
     "user": {
      "displayName": "Seong Won Kim",
      "userId": "17984956289819639053"
     },
     "user_tz": 300
    },
    "id": "768427aa",
    "outputId": "c51920eb-48cd-40d8-d375-528ab24f714e"
   },
   "outputs": [
    {
     "name": "stdout",
     "output_type": "stream",
     "text": [
      "age              False\n",
      "sex              False\n",
      "test_time        False\n",
      "Jitter(%)        False\n",
      "Jitter(Abs)      False\n",
      "Jitter:RAP       False\n",
      "Jitter:PPQ5      False\n",
      "Jitter:DDP       False\n",
      "Shimmer          False\n",
      "Shimmer(dB)      False\n",
      "Shimmer:APQ3     False\n",
      "Shimmer:APQ5     False\n",
      "Shimmer:APQ11    False\n",
      "Shimmer:DDA      False\n",
      "NHR              False\n",
      "HNR              False\n",
      "RPDE             False\n",
      "DFA              False\n",
      "PPE              False\n",
      "dtype: bool\n"
     ]
    }
   ],
   "source": [
    "print(df_feature.isnull().any())"
   ]
  },
  {
   "cell_type": "markdown",
   "id": "92b31c83",
   "metadata": {
    "id": "92b31c83"
   },
   "source": [
    "**No missing values**"
   ]
  },
  {
   "cell_type": "markdown",
   "id": "cd1ce5f6",
   "metadata": {
    "id": "cd1ce5f6"
   },
   "source": [
    "### Outlier detection"
   ]
  },
  {
   "cell_type": "code",
   "execution_count": null,
   "id": "3bcd4481",
   "metadata": {
    "colab": {
     "base_uri": "https://localhost:8080/",
     "height": 1000
    },
    "executionInfo": {
     "elapsed": 2990,
     "status": "ok",
     "timestamp": 1670466800203,
     "user": {
      "displayName": "Seong Won Kim",
      "userId": "17984956289819639053"
     },
     "user_tz": 300
    },
    "id": "3bcd4481",
    "outputId": "aae6819d-41de-4e91-f6ca-b7077149d09a",
    "scrolled": false
   },
   "outputs": [
    {
     "data": {
      "image/png": "[encoded data removed]",
      "text/plain": [
       "<Figure size 1440x1440 with 18 Axes>"
      ]
     },
     "metadata": {
      "needs_background": "light"
     },
     "output_type": "display_data"
    }
   ],
   "source": [
    "plt.figure(figsize = (20,20))\n",
    "\n",
    "for i in range(1, 19):\n",
    "    plt.subplot(5,5,i)\n",
    "    plt.plot(feature[:,i-1], 'bo-')\n",
    "    plt.title(f'{df_feature.columns[i-1]}')\n",
    "  \n",
    "plt.suptitle (\"Data distribution for each feature\", fontsize=24)\n",
    "plt.show ()"
   ]
  },
  {
   "cell_type": "markdown",
   "id": "6ead4c1f",
   "metadata": {
    "id": "6ead4c1f"
   },
   "source": [
    "**Looks like there are some Outliers, from Google, optimal Outlier removal is 0.3% in this case, 5875 * 0.003 = 17.7**"
   ]
  },
  {
   "cell_type": "code",
   "execution_count": null,
   "id": "31a2c6dd",
   "metadata": {
    "colab": {
     "base_uri": "https://localhost:8080/",
     "height": 314
    },
    "executionInfo": {
     "elapsed": 35203,
     "status": "ok",
     "timestamp": 1670466835397,
     "user": {
      "displayName": "Seong Won Kim",
      "userId": "17984956289819639053"
     },
     "user_tz": 300
    },
    "id": "31a2c6dd",
    "outputId": "2e31e568-9167-47ab-ae0c-bc4610608ea7",
    "scrolled": true
   },
   "outputs": [
    {
     "name": "stdout",
     "output_type": "stream",
     "text": [
      "minimum outliers: 146, n_neighbors: 9\n"
     ]
    },
    {
     "data": {
      "image/png": "[encoded data removed]",
      "text/plain": [
       "<Figure size 432x288 with 1 Axes>"
      ]
     },
     "metadata": {
      "needs_background": "light"
     },
     "output_type": "display_data"
    }
   ],
   "source": [
    "from sklearn.neighbors import LocalOutlierFactor\n",
    "outlier_number = []\n",
    "min_num_outlier = 2000 # placeholder\n",
    "\n",
    "for i in range(1,50):\n",
    "    lof = LocalOutlierFactor(n_neighbors = i)\n",
    "    outlier = lof.fit_predict(feature)\n",
    "\n",
    "    num_outlier = len(outlier[outlier == -1])\n",
    "\n",
    "    # n_neighbor that minimizes num_outlier\n",
    "    if num_outlier < min_num_outlier:\n",
    "      min_num_outlier = num_outlier\n",
    "      n_neigh = int(i)\n",
    "    \n",
    "    outlier_number += [num_outlier]\n",
    "    \n",
    "    \n",
    "print (f\"minimum outliers: {min_num_outlier}, n_neighbors: {n_neigh}\")\n",
    "\n",
    "plt.plot(range(1,50), outlier_number)\n",
    "plt.plot(n_neigh, min_num_outlier, \"ro\")\n",
    "plt.xlabel (\"n_neighbors\")\n",
    "plt.ylabel (\"Number of Outliers\")\n",
    "plt.title (\"Outlier Analysis\")\n",
    "plt.show ()"
   ]
  },
  {
   "cell_type": "markdown",
   "id": "e16eb053",
   "metadata": {
    "id": "e16eb053"
   },
   "source": [
    "we'll take 9 as n_neighbors"
   ]
  },
  {
   "cell_type": "code",
   "execution_count": null,
   "id": "92f1d71a",
   "metadata": {
    "colab": {
     "base_uri": "https://localhost:8080/"
    },
    "executionInfo": {
     "elapsed": 918,
     "status": "ok",
     "timestamp": 1670466836295,
     "user": {
      "displayName": "Seong Won Kim",
      "userId": "17984956289819639053"
     },
     "user_tz": 300
    },
    "id": "92f1d71a",
    "outputId": "16d8cbda-4d54-40f0-ab1b-4213bb5df46d"
   },
   "outputs": [
    {
     "name": "stdout",
     "output_type": "stream",
     "text": [
      "Using n_neighbors: 9\n",
      "Minimum num_outlier: 146\n",
      "Feature with dropped outliers: (5729, 19)\n",
      "Label with dropped outliers: (5729, 2)\n"
     ]
    }
   ],
   "source": [
    "lof = LocalOutlierFactor(n_neighbors = n_neigh)\n",
    "outlier = lof.fit_predict(feature)\n",
    "num_outlier = len(outlier[outlier == -1])\n",
    "\n",
    "print(f\"Using n_neighbors: {n_neigh}\")\n",
    "print(f\"Minimum num_outlier: {num_outlier}\")\n",
    "\n",
    "data_r = feature[outlier == 1] # data + removed\n",
    "label_r = label[outlier==1]\n",
    "print(f'Feature with dropped outliers: {data_r.shape}')\n",
    "print(f'Label with dropped outliers: {label_r.shape}')"
   ]
  },
  {
   "cell_type": "markdown",
   "id": "2d83c09d",
   "metadata": {
    "id": "2d83c09d"
   },
   "source": [
    "Two times than what we intended but since we have enough data, we think it's no big deal"
   ]
  },
  {
   "cell_type": "code",
   "execution_count": null,
   "id": "9fcddd79",
   "metadata": {
    "colab": {
     "base_uri": "https://localhost:8080/"
    },
    "executionInfo": {
     "elapsed": 4,
     "status": "ok",
     "timestamp": 1670466836296,
     "user": {
      "displayName": "Seong Won Kim",
      "userId": "17984956289819639053"
     },
     "user_tz": 300
    },
    "id": "9fcddd79",
    "outputId": "859f7d7c-f769-4633-8ec5-f90c346133ad"
   },
   "outputs": [
    {
     "name": "stdout",
     "output_type": "stream",
     "text": [
      "(5729, 19) (5729, 2)\n"
     ]
    }
   ],
   "source": [
    "#data_r_df = pd.DataFrame(data_r)\n",
    "\n",
    "#df_x_data = pd.DataFrame (data_r, columns=df_feature.columns)\n",
    "#df_y_data = pd.DataFrame (label_r, columns=df_label.columns)\n",
    "\n",
    "#X_updrs = data_r_df.drop (['subject#','motor_UPDRS', 'total_UPDRS'], axis=1)\n",
    "#y_updrs = data_r_df[['motor_UPDRS', 'total_UPDRS']]\n",
    "\n",
    "X_updrs = data_r\n",
    "y_updrs = label_r\n",
    "\n",
    "print(X_updrs.shape, y_updrs.shape)"
   ]
  },
  {
   "cell_type": "markdown",
   "id": "f8838d32",
   "metadata": {
    "id": "f8838d32"
   },
   "source": [
    "## Scaling - Standardization"
   ]
  },
  {
   "cell_type": "code",
   "execution_count": null,
   "id": "eee851c1",
   "metadata": {
    "colab": {
     "base_uri": "https://localhost:8080/"
    },
    "executionInfo": {
     "elapsed": 10,
     "status": "ok",
     "timestamp": 1670466836437,
     "user": {
      "displayName": "Seong Won Kim",
      "userId": "17984956289819639053"
     },
     "user_tz": 300
    },
    "id": "eee851c1",
    "outputId": "a0148a1b-852d-476c-8427-04543fc5e9f4"
   },
   "outputs": [
    {
     "data": {
      "text/plain": [
       "array([[ 0.82077574, -0.68014625, -1.63025408, ..., -1.22292207,\n",
       "        -1.48687479, -0.66570913],\n",
       "       [ 0.82077574, -0.68014625, -1.49903242, ..., -1.06221879,\n",
       "        -1.25616572, -1.24925255],\n",
       "       [ 0.82077574, -0.68014625, -1.36795837, ..., -0.78897313,\n",
       "        -1.54853831, -0.10327928],\n",
       "       ...,\n",
       "       [-0.43907584, -0.68014625,  1.19445997, ..., -0.63177428,\n",
       "        -1.0570645 , -0.87336344],\n",
       "       [-0.43907584, -0.68014625,  1.32357212, ...,  0.2766749 ,\n",
       "        -1.27733169, -0.86808504],\n",
       "       [-0.43907584, -0.68014625,  1.4543659 , ...,  0.45119567,\n",
       "        -1.17150184, -0.74095433]])"
      ]
     },
     "execution_count": 10,
     "metadata": {},
     "output_type": "execute_result"
    }
   ],
   "source": [
    "from sklearn.preprocessing import StandardScaler\n",
    "\n",
    "scaler = StandardScaler()\n",
    "X_updrs_s = scaler.fit_transform (X_updrs)\n",
    "\n",
    "X_updrs_s"
   ]
  },
  {
   "cell_type": "code",
   "execution_count": null,
   "id": "e5PDcsLZgzBH",
   "metadata": {
    "colab": {
     "base_uri": "https://localhost:8080/"
    },
    "executionInfo": {
     "elapsed": 7,
     "status": "ok",
     "timestamp": 1670466836437,
     "user": {
      "displayName": "Seong Won Kim",
      "userId": "17984956289819639053"
     },
     "user_tz": 300
    },
    "id": "e5PDcsLZgzBH",
    "outputId": "381fa7be-bfe5-419b-98ef-fe860687a2e7"
   },
   "outputs": [
    {
     "data": {
      "text/plain": [
       "array([[ 0.84877931,  0.50231816],\n",
       "       [ 0.87921676,  0.54855782],\n",
       "       [ 0.90965421,  0.59470425],\n",
       "       ...,\n",
       "       [ 0.02598639,  0.32491077],\n",
       "       [-0.03390665,  0.27941691],\n",
       "       [-0.09453609,  0.2333637 ]])"
      ]
     },
     "execution_count": 11,
     "metadata": {},
     "output_type": "execute_result"
    }
   ],
   "source": [
    "y_updrs_s = scaler.fit_transform(y_updrs)\n",
    "\n",
    "y_updrs_s"
   ]
  },
  {
   "cell_type": "markdown",
   "id": "38e90ae1",
   "metadata": {
    "id": "38e90ae1"
   },
   "source": [
    "## PCA(to reduce noises)"
   ]
  },
  {
   "cell_type": "code",
   "execution_count": null,
   "id": "e202142e",
   "metadata": {
    "colab": {
     "base_uri": "https://localhost:8080/"
    },
    "executionInfo": {
     "elapsed": 6,
     "status": "ok",
     "timestamp": 1670466836437,
     "user": {
      "displayName": "Seong Won Kim",
      "userId": "17984956289819639053"
     },
     "user_tz": 300
    },
    "id": "e202142e",
    "outputId": "390ae0da-50e8-48b6-d2a6-f18a6ee2290c"
   },
   "outputs": [
    {
     "data": {
      "text/plain": [
       "array([5.87075294e-01, 9.41887463e-02, 7.74358976e-02, 5.37748627e-02,\n",
       "       5.21307190e-02, 4.21256037e-02, 3.83647575e-02, 1.57548260e-02,\n",
       "       1.14888416e-02, 9.21920798e-03, 8.24143766e-03, 5.33097042e-03,\n",
       "       2.29675512e-03, 1.09532292e-03, 7.06508691e-04, 5.24278357e-04,\n",
       "       2.45946042e-04, 2.36527278e-08, 1.18961814e-09])"
      ]
     },
     "execution_count": 12,
     "metadata": {},
     "output_type": "execute_result"
    }
   ],
   "source": [
    "from sklearn.decomposition import PCA, KernelPCA\n",
    "\n",
    "pca = PCA(n_components = 19)\n",
    "X_data_pca = pca.fit_transform(X_updrs_s)\n",
    "pca.explained_variance_ratio_"
   ]
  },
  {
   "cell_type": "code",
   "execution_count": null,
   "id": "3b67bd2e",
   "metadata": {
    "colab": {
     "base_uri": "https://localhost:8080/",
     "height": 301
    },
    "executionInfo": {
     "elapsed": 5,
     "status": "ok",
     "timestamp": 1670466836437,
     "user": {
      "displayName": "Seong Won Kim",
      "userId": "17984956289819639053"
     },
     "user_tz": 300
    },
    "id": "3b67bd2e",
    "outputId": "fdc979f3-4795-44e4-9169-6731f9440d5e",
    "scrolled": true
   },
   "outputs": [
    {
     "data": {
      "image/png": "[encoded data removed]",
      "text/plain": [
       "<Figure size 432x288 with 1 Axes>"
      ]
     },
     "metadata": {
      "needs_background": "light"
     },
     "output_type": "display_data"
    }
   ],
   "source": [
    "plt.bar (range(1,20), pca.explained_variance_ratio_*100)\n",
    "plt.title (\"All features included\", fontsize=16)\n",
    "plt.xlabel (\"Principle component index\", fontsize=14)\n",
    "plt.ylabel (\"Explained variance (%)\", fontsize=14)\n",
    "plt.xticks (np.arange (1,20))\n",
    "plt.show ()"
   ]
  },
  {
   "cell_type": "code",
   "execution_count": null,
   "id": "1e3bf5c2",
   "metadata": {
    "colab": {
     "base_uri": "https://localhost:8080/"
    },
    "executionInfo": {
     "elapsed": 5,
     "status": "ok",
     "timestamp": 1670466836437,
     "user": {
      "displayName": "Seong Won Kim",
      "userId": "17984956289819639053"
     },
     "user_tz": 300
    },
    "id": "1e3bf5c2",
    "outputId": "cf49a755-0c28-4138-b9a4-94bbf2d7940c",
    "scrolled": true
   },
   "outputs": [
    {
     "name": "stdout",
     "output_type": "stream",
     "text": [
      "96.09% is explained using 8 features\n"
     ]
    }
   ],
   "source": [
    "print(f'{np.sum(pca.explained_variance_ratio_[0:8])*100:1.2f}% is explained using\\\n",
    " {len(pca.explained_variance_ratio_[0:8])} features')"
   ]
  },
  {
   "cell_type": "code",
   "execution_count": null,
   "id": "44015092",
   "metadata": {
    "colab": {
     "base_uri": "https://localhost:8080/"
    },
    "executionInfo": {
     "elapsed": 5,
     "status": "ok",
     "timestamp": 1670466836438,
     "user": {
      "displayName": "Seong Won Kim",
      "userId": "17984956289819639053"
     },
     "user_tz": 300
    },
    "id": "44015092",
    "outputId": "f6c091c4-5773-46cd-f288-1cd23b218b17"
   },
   "outputs": [
    {
     "name": "stdout",
     "output_type": "stream",
     "text": [
      "(5729, 8)\n"
     ]
    }
   ],
   "source": [
    "pca = PCA (n_components = 8)\n",
    "X_reduced = pca.fit_transform (X_updrs_s)\n",
    "\n",
    "\n",
    "print (X_reduced.shape)"
   ]
  },
  {
   "cell_type": "markdown",
   "id": "yMSzbxfrrykQ",
   "metadata": {
    "id": "yMSzbxfrrykQ"
   },
   "source": [
    "### train test split"
   ]
  },
  {
   "cell_type": "code",
   "execution_count": null,
   "id": "pZTNk4Unrx1s",
   "metadata": {
    "colab": {
     "base_uri": "https://localhost:8080/"
    },
    "executionInfo": {
     "elapsed": 4,
     "status": "ok",
     "timestamp": 1670466836438,
     "user": {
      "displayName": "Seong Won Kim",
      "userId": "17984956289819639053"
     },
     "user_tz": 300
    },
    "id": "pZTNk4Unrx1s",
    "outputId": "32c2e444-47f8-4b60-bd96-f47741351cd5"
   },
   "outputs": [
    {
     "name": "stdout",
     "output_type": "stream",
     "text": [
      "(4010, 8) (1719, 8) (4010, 2) (1719, 2)\n"
     ]
    }
   ],
   "source": [
    "from sklearn.model_selection import train_test_split\n",
    "\n",
    "X_train, X_test, y_train, y_test = train_test_split(X_reduced, y_updrs_s, test_size = 0.3, random_state = 924)\n",
    "\n",
    "print(X_train.shape, X_test.shape, y_train.shape, y_test.shape)"
   ]
  },
  {
   "cell_type": "markdown",
   "id": "387b76fa",
   "metadata": {
    "id": "387b76fa"
   },
   "source": [
    "\n",
    "# Different model tryouts"
   ]
  },
  {
   "cell_type": "code",
   "execution_count": null,
   "id": "XrOz3mMtdQIi",
   "metadata": {
    "id": "XrOz3mMtdQIi"
   },
   "outputs": [],
   "source": [
    "from sklearn.linear_model import LinearRegression, Ridge, Lasso, ElasticNet\n",
    "from sklearn.kernel_ridge import KernelRidge\n",
    "from sklearn.svm import SVR\n",
    "from sklearn.neighbors import KNeighborsRegressor\n",
    "from sklearn.tree import DecisionTreeRegressor\n",
    "from sklearn.ensemble import RandomForestRegressor, ExtraTreesRegressor, GradientBoostingRegressor, AdaBoostRegressor\n",
    "from sklearn.neural_network import MLPRegressor"
   ]
  },
  {
   "cell_type": "code",
   "execution_count": null,
   "id": "5jBdRDQTdQpf",
   "metadata": {
    "id": "5jBdRDQTdQpf"
   },
   "outputs": [],
   "source": [
    "names = [\"Linear\", \"Ridge\", \"Lasso\", \"ElasticNet\", \"KernelRidge\", \"SVR\",\\\n",
    "         \"Nearest_Neighbors\", \"Decision_Tree\", \"Random_Forest\", \" Extra_Trees\", \\\n",
    "         \"Gradient_Boosting\", \"Ada_Boost\", \"MLP\"]\n",
    "\n",
    "\n",
    "regressors = [\n",
    "    LinearRegression(),\n",
    "    Ridge(alpha = 1, max_iter = 1000),\n",
    "    Lasso(alpha = 1, max_iter = 1000),\n",
    "    ElasticNet(alpha = 1, l1_ratio = 0.5, max_iter = 1000),\n",
    "    KernelRidge(alpha = 1, degree = 3),\n",
    "    SVR(kernel = 'rbf', C = 1, epsilon = 0.1, max_iter = 1000),\n",
    "    KNeighborsRegressor(n_neighbors = 5),\n",
    "    DecisionTreeRegressor(max_depth = 10),\n",
    "    RandomForestRegressor(n_estimators = 100, max_depth = 10),\n",
    "    ExtraTreesRegressor(n_estimators = 100),\n",
    "    GradientBoostingRegressor(learning_rate = 0.1, n_estimators = 100, alpha = 0.9),\n",
    "    AdaBoostRegressor(n_estimators = 100, learning_rate = 0.1),\n",
    "    MLPRegressor(hidden_layer_sizes = 100, solver = 'adam', alpha = 0.0001, learning_rate_init = 0.001, max_iter = 1000, epsilon = 1e-8)]"
   ]
  },
  {
   "cell_type": "markdown",
   "id": "6nd9CoZmmBiC",
   "metadata": {
    "id": "6nd9CoZmmBiC"
   },
   "source": [
    "### motor_updrs(cross validation)"
   ]
  },
  {
   "cell_type": "code",
   "execution_count": null,
   "id": "Hz0OdOBVtclG",
   "metadata": {
    "colab": {
     "base_uri": "https://localhost:8080/",
     "height": 424
    },
    "executionInfo": {
     "elapsed": 6,
     "status": "ok",
     "timestamp": 1670466836754,
     "user": {
      "displayName": "Seong Won Kim",
      "userId": "17984956289819639053"
     },
     "user_tz": 300
    },
    "id": "Hz0OdOBVtclG",
    "outputId": "33813a8a-634d-47e7-e731-2b985ff24f2e"
   },
   "outputs": [
    {
     "data": {
      "text/html": [
       "\n",
       "  <div id=\"df-2530f010-5d4f-44d2-a355-365f85fce262\">\n",
       "    <div class=\"colab-df-container\">\n",
       "      <div>\n",
       "<style scoped>\n",
       "    .dataframe tbody tr th:only-of-type {\n",
       "        vertical-align: middle;\n",
       "    }\n",
       "\n",
       "    .dataframe tbody tr th {\n",
       "        vertical-align: top;\n",
       "    }\n",
       "\n",
       "    .dataframe thead th {\n",
       "        text-align: right;\n",
       "    }\n",
       "</style>\n",
       "<table border=\"1\" class=\"dataframe\">\n",
       "  <thead>\n",
       "    <tr style=\"text-align: right;\">\n",
       "      <th></th>\n",
       "      <th>PCA 1</th>\n",
       "      <th>PCA 2</th>\n",
       "      <th>PCA 3</th>\n",
       "      <th>PCA 4</th>\n",
       "      <th>PCA 5</th>\n",
       "      <th>PCA 6</th>\n",
       "      <th>PCA 7</th>\n",
       "      <th>PCA 8</th>\n",
       "    </tr>\n",
       "  </thead>\n",
       "  <tbody>\n",
       "    <tr>\n",
       "      <th>0</th>\n",
       "      <td>-0.316568</td>\n",
       "      <td>-1.857298</td>\n",
       "      <td>-1.456886</td>\n",
       "      <td>-0.140247</td>\n",
       "      <td>0.655788</td>\n",
       "      <td>0.160773</td>\n",
       "      <td>-1.715827</td>\n",
       "      <td>0.195994</td>\n",
       "    </tr>\n",
       "    <tr>\n",
       "      <th>1</th>\n",
       "      <td>-2.298542</td>\n",
       "      <td>-0.648520</td>\n",
       "      <td>-0.585914</td>\n",
       "      <td>0.656852</td>\n",
       "      <td>-0.740410</td>\n",
       "      <td>-0.208677</td>\n",
       "      <td>0.594399</td>\n",
       "      <td>0.517022</td>\n",
       "    </tr>\n",
       "    <tr>\n",
       "      <th>2</th>\n",
       "      <td>-0.106234</td>\n",
       "      <td>1.563202</td>\n",
       "      <td>-0.696856</td>\n",
       "      <td>-0.823608</td>\n",
       "      <td>0.902864</td>\n",
       "      <td>0.844192</td>\n",
       "      <td>0.038523</td>\n",
       "      <td>0.128284</td>\n",
       "    </tr>\n",
       "    <tr>\n",
       "      <th>3</th>\n",
       "      <td>-2.434051</td>\n",
       "      <td>0.880717</td>\n",
       "      <td>0.922743</td>\n",
       "      <td>-0.241464</td>\n",
       "      <td>-0.366600</td>\n",
       "      <td>-1.551227</td>\n",
       "      <td>0.729752</td>\n",
       "      <td>0.273019</td>\n",
       "    </tr>\n",
       "    <tr>\n",
       "      <th>4</th>\n",
       "      <td>-0.245497</td>\n",
       "      <td>0.951216</td>\n",
       "      <td>0.757374</td>\n",
       "      <td>0.445910</td>\n",
       "      <td>-1.151862</td>\n",
       "      <td>-0.869954</td>\n",
       "      <td>-1.016301</td>\n",
       "      <td>-0.821435</td>\n",
       "    </tr>\n",
       "    <tr>\n",
       "      <th>...</th>\n",
       "      <td>...</td>\n",
       "      <td>...</td>\n",
       "      <td>...</td>\n",
       "      <td>...</td>\n",
       "      <td>...</td>\n",
       "      <td>...</td>\n",
       "      <td>...</td>\n",
       "      <td>...</td>\n",
       "    </tr>\n",
       "    <tr>\n",
       "      <th>4005</th>\n",
       "      <td>2.496667</td>\n",
       "      <td>-1.952514</td>\n",
       "      <td>-0.530826</td>\n",
       "      <td>-0.038067</td>\n",
       "      <td>1.195666</td>\n",
       "      <td>0.617272</td>\n",
       "      <td>-0.569249</td>\n",
       "      <td>-0.089884</td>\n",
       "    </tr>\n",
       "    <tr>\n",
       "      <th>4006</th>\n",
       "      <td>-2.282838</td>\n",
       "      <td>-0.554629</td>\n",
       "      <td>-0.268736</td>\n",
       "      <td>-0.381928</td>\n",
       "      <td>0.283079</td>\n",
       "      <td>0.739362</td>\n",
       "      <td>-0.357208</td>\n",
       "      <td>-0.327823</td>\n",
       "    </tr>\n",
       "    <tr>\n",
       "      <th>4007</th>\n",
       "      <td>-2.249202</td>\n",
       "      <td>-1.721234</td>\n",
       "      <td>-0.840904</td>\n",
       "      <td>0.880592</td>\n",
       "      <td>1.216050</td>\n",
       "      <td>0.670403</td>\n",
       "      <td>-1.470214</td>\n",
       "      <td>1.153530</td>\n",
       "    </tr>\n",
       "    <tr>\n",
       "      <th>4008</th>\n",
       "      <td>0.802105</td>\n",
       "      <td>0.057637</td>\n",
       "      <td>-1.014667</td>\n",
       "      <td>2.159660</td>\n",
       "      <td>0.695838</td>\n",
       "      <td>0.474824</td>\n",
       "      <td>-0.477292</td>\n",
       "      <td>0.429899</td>\n",
       "    </tr>\n",
       "    <tr>\n",
       "      <th>4009</th>\n",
       "      <td>-1.338827</td>\n",
       "      <td>-0.142562</td>\n",
       "      <td>0.065840</td>\n",
       "      <td>1.866984</td>\n",
       "      <td>-0.511389</td>\n",
       "      <td>0.549491</td>\n",
       "      <td>0.529448</td>\n",
       "      <td>-0.264053</td>\n",
       "    </tr>\n",
       "  </tbody>\n",
       "</table>\n",
       "<p>4010 rows × 8 columns</p>\n",
       "</div>\n",
       "      <button class=\"colab-df-convert\" onclick=\"convertToInteractive('df-2530f010-5d4f-44d2-a355-365f85fce262')\"\n",
       "              title=\"Convert this dataframe to an interactive table.\"\n",
       "              style=\"display:none;\">\n",
       "        \n",
       "  <svg xmlns=\"http://www.w3.org/2000/svg\" height=\"24px\"viewBox=\"0 0 24 24\"\n",
       "       width=\"24px\">\n",
       "    <path d=\"M0 0h24v24H0V0z\" fill=\"none\"/>\n",
       "    <path d=\"M18.56 5.44l.94 2.06.94-2.06 2.06-.94-2.06-.94-.94-2.06-.94 2.06-2.06.94zm-11 1L8.5 8.5l.94-2.06 2.06-.94-2.06-.94L8.5 2.5l-.94 2.06-2.06.94zm10 10l.94 2.06.94-2.06 2.06-.94-2.06-.94-.94-2.06-.94 2.06-2.06.94z\"/><path d=\"M17.41 7.96l-1.37-1.37c-.4-.4-.92-.59-1.43-.59-.52 0-1.04.2-1.43.59L10.3 9.45l-7.72 7.72c-.78.78-.78 2.05 0 2.83L4 21.41c.39.39.9.59 1.41.59.51 0 1.02-.2 1.41-.59l7.78-7.78 2.81-2.81c.8-.78.8-2.07 0-2.86zM5.41 20L4 18.59l7.72-7.72 1.47 1.35L5.41 20z\"/>\n",
       "  </svg>\n",
       "      </button>\n",
       "      \n",
       "  <style>\n",
       "    .colab-df-container {\n",
       "      display:flex;\n",
       "      flex-wrap:wrap;\n",
       "      gap: 12px;\n",
       "    }\n",
       "\n",
       "    .colab-df-convert {\n",
       "      background-color: #E8F0FE;\n",
       "      border: none;\n",
       "      border-radius: 50%;\n",
       "      cursor: pointer;\n",
       "      display: none;\n",
       "      fill: #1967D2;\n",
       "      height: 32px;\n",
       "      padding: 0 0 0 0;\n",
       "      width: 32px;\n",
       "    }\n",
       "\n",
       "    .colab-df-convert:hover {\n",
       "      background-color: #E2EBFA;\n",
       "      box-shadow: 0px 1px 2px rgba(60, 64, 67, 0.3), 0px 1px 3px 1px rgba(60, 64, 67, 0.15);\n",
       "      fill: #174EA6;\n",
       "    }\n",
       "\n",
       "    [theme=dark] .colab-df-convert {\n",
       "      background-color: #3B4455;\n",
       "      fill: #D2E3FC;\n",
       "    }\n",
       "\n",
       "    [theme=dark] .colab-df-convert:hover {\n",
       "      background-color: #434B5C;\n",
       "      box-shadow: 0px 1px 3px 1px rgba(0, 0, 0, 0.15);\n",
       "      filter: drop-shadow(0px 1px 2px rgba(0, 0, 0, 0.3));\n",
       "      fill: #FFFFFF;\n",
       "    }\n",
       "  </style>\n",
       "\n",
       "      <script>\n",
       "        const buttonEl =\n",
       "          document.querySelector('#df-2530f010-5d4f-44d2-a355-365f85fce262 button.colab-df-convert');\n",
       "        buttonEl.style.display =\n",
       "          google.colab.kernel.accessAllowed ? 'block' : 'none';\n",
       "\n",
       "        async function convertToInteractive(key) {\n",
       "          const element = document.querySelector('#df-2530f010-5d4f-44d2-a355-365f85fce262');\n",
       "          const dataTable =\n",
       "            await google.colab.kernel.invokeFunction('convertToInteractive',\n",
       "                                                     [key], {});\n",
       "          if (!dataTable) return;\n",
       "\n",
       "          const docLinkHtml = 'Like what you see? Visit the ' +\n",
       "            '<a target=\"_blank\" href=https://colab.research.google.com/notebooks/data_table.ipynb>data table notebook</a>'\n",
       "            + ' to learn more about interactive tables.';\n",
       "          element.innerHTML = '';\n",
       "          dataTable['output_type'] = 'display_data';\n",
       "          await google.colab.output.renderOutput(dataTable, element);\n",
       "          const docLink = document.createElement('div');\n",
       "          docLink.innerHTML = docLinkHtml;\n",
       "          element.appendChild(docLink);\n",
       "        }\n",
       "      </script>\n",
       "    </div>\n",
       "  </div>\n",
       "  "
      ],
      "text/plain": [
       "         PCA 1     PCA 2     PCA 3     PCA 4     PCA 5     PCA 6     PCA 7  \\\n",
       "0    -0.316568 -1.857298 -1.456886 -0.140247  0.655788  0.160773 -1.715827   \n",
       "1    -2.298542 -0.648520 -0.585914  0.656852 -0.740410 -0.208677  0.594399   \n",
       "2    -0.106234  1.563202 -0.696856 -0.823608  0.902864  0.844192  0.038523   \n",
       "3    -2.434051  0.880717  0.922743 -0.241464 -0.366600 -1.551227  0.729752   \n",
       "4    -0.245497  0.951216  0.757374  0.445910 -1.151862 -0.869954 -1.016301   \n",
       "...        ...       ...       ...       ...       ...       ...       ...   \n",
       "4005  2.496667 -1.952514 -0.530826 -0.038067  1.195666  0.617272 -0.569249   \n",
       "4006 -2.282838 -0.554629 -0.268736 -0.381928  0.283079  0.739362 -0.357208   \n",
       "4007 -2.249202 -1.721234 -0.840904  0.880592  1.216050  0.670403 -1.470214   \n",
       "4008  0.802105  0.057637 -1.014667  2.159660  0.695838  0.474824 -0.477292   \n",
       "4009 -1.338827 -0.142562  0.065840  1.866984 -0.511389  0.549491  0.529448   \n",
       "\n",
       "         PCA 8  \n",
       "0     0.195994  \n",
       "1     0.517022  \n",
       "2     0.128284  \n",
       "3     0.273019  \n",
       "4    -0.821435  \n",
       "...        ...  \n",
       "4005 -0.089884  \n",
       "4006 -0.327823  \n",
       "4007  1.153530  \n",
       "4008  0.429899  \n",
       "4009 -0.264053  \n",
       "\n",
       "[4010 rows x 8 columns]"
      ]
     },
     "execution_count": 19,
     "metadata": {},
     "output_type": "execute_result"
    }
   ],
   "source": [
    "# rearranging index\n",
    "X_train_cols = [\"PCA \"+str(i+1) for i in range (X_train.shape[1])]\n",
    "X_train = pd.DataFrame(X_train, columns=X_train_cols)\n",
    "X_train"
   ]
  },
  {
   "cell_type": "code",
   "execution_count": null,
   "id": "CBIt4jLitI7K",
   "metadata": {
    "colab": {
     "base_uri": "https://localhost:8080/",
     "height": 424
    },
    "executionInfo": {
     "elapsed": 4,
     "status": "ok",
     "timestamp": 1670466836754,
     "user": {
      "displayName": "Seong Won Kim",
      "userId": "17984956289819639053"
     },
     "user_tz": 300
    },
    "id": "CBIt4jLitI7K",
    "outputId": "4d4acce7-50f1-4c45-99d8-961d80682f0c"
   },
   "outputs": [
    {
     "data": {
      "text/html": [
       "\n",
       "  <div id=\"df-9364d192-f4c2-424a-b75c-0d5be1964236\">\n",
       "    <div class=\"colab-df-container\">\n",
       "      <div>\n",
       "<style scoped>\n",
       "    .dataframe tbody tr th:only-of-type {\n",
       "        vertical-align: middle;\n",
       "    }\n",
       "\n",
       "    .dataframe tbody tr th {\n",
       "        vertical-align: top;\n",
       "    }\n",
       "\n",
       "    .dataframe thead th {\n",
       "        text-align: right;\n",
       "    }\n",
       "</style>\n",
       "<table border=\"1\" class=\"dataframe\">\n",
       "  <thead>\n",
       "    <tr style=\"text-align: right;\">\n",
       "      <th></th>\n",
       "      <th>0</th>\n",
       "      <th>1</th>\n",
       "    </tr>\n",
       "  </thead>\n",
       "  <tbody>\n",
       "    <tr>\n",
       "      <th>0</th>\n",
       "      <td>0.390990</td>\n",
       "      <td>0.361828</td>\n",
       "    </tr>\n",
       "    <tr>\n",
       "      <th>1</th>\n",
       "      <td>-1.202680</td>\n",
       "      <td>-1.074491</td>\n",
       "    </tr>\n",
       "    <tr>\n",
       "      <th>2</th>\n",
       "      <td>-0.209413</td>\n",
       "      <td>-0.199947</td>\n",
       "    </tr>\n",
       "    <tr>\n",
       "      <th>3</th>\n",
       "      <td>-0.307475</td>\n",
       "      <td>-0.394507</td>\n",
       "    </tr>\n",
       "    <tr>\n",
       "      <th>4</th>\n",
       "      <td>0.340425</td>\n",
       "      <td>-0.064118</td>\n",
       "    </tr>\n",
       "    <tr>\n",
       "      <th>...</th>\n",
       "      <td>...</td>\n",
       "      <td>...</td>\n",
       "    </tr>\n",
       "    <tr>\n",
       "      <th>4005</th>\n",
       "      <td>-0.402961</td>\n",
       "      <td>-0.245627</td>\n",
       "    </tr>\n",
       "    <tr>\n",
       "      <th>4006</th>\n",
       "      <td>-0.771156</td>\n",
       "      <td>-0.663462</td>\n",
       "    </tr>\n",
       "    <tr>\n",
       "      <th>4007</th>\n",
       "      <td>0.125767</td>\n",
       "      <td>0.351480</td>\n",
       "    </tr>\n",
       "    <tr>\n",
       "      <th>4008</th>\n",
       "      <td>0.600616</td>\n",
       "      <td>0.366676</td>\n",
       "    </tr>\n",
       "    <tr>\n",
       "      <th>4009</th>\n",
       "      <td>-0.468499</td>\n",
       "      <td>-0.875269</td>\n",
       "    </tr>\n",
       "  </tbody>\n",
       "</table>\n",
       "<p>4010 rows × 2 columns</p>\n",
       "</div>\n",
       "      <button class=\"colab-df-convert\" onclick=\"convertToInteractive('df-9364d192-f4c2-424a-b75c-0d5be1964236')\"\n",
       "              title=\"Convert this dataframe to an interactive table.\"\n",
       "              style=\"display:none;\">\n",
       "        \n",
       "  <svg xmlns=\"http://www.w3.org/2000/svg\" height=\"24px\"viewBox=\"0 0 24 24\"\n",
       "       width=\"24px\">\n",
       "    <path d=\"M0 0h24v24H0V0z\" fill=\"none\"/>\n",
       "    <path d=\"M18.56 5.44l.94 2.06.94-2.06 2.06-.94-2.06-.94-.94-2.06-.94 2.06-2.06.94zm-11 1L8.5 8.5l.94-2.06 2.06-.94-2.06-.94L8.5 2.5l-.94 2.06-2.06.94zm10 10l.94 2.06.94-2.06 2.06-.94-2.06-.94-.94-2.06-.94 2.06-2.06.94z\"/><path d=\"M17.41 7.96l-1.37-1.37c-.4-.4-.92-.59-1.43-.59-.52 0-1.04.2-1.43.59L10.3 9.45l-7.72 7.72c-.78.78-.78 2.05 0 2.83L4 21.41c.39.39.9.59 1.41.59.51 0 1.02-.2 1.41-.59l7.78-7.78 2.81-2.81c.8-.78.8-2.07 0-2.86zM5.41 20L4 18.59l7.72-7.72 1.47 1.35L5.41 20z\"/>\n",
       "  </svg>\n",
       "      </button>\n",
       "      \n",
       "  <style>\n",
       "    .colab-df-container {\n",
       "      display:flex;\n",
       "      flex-wrap:wrap;\n",
       "      gap: 12px;\n",
       "    }\n",
       "\n",
       "    .colab-df-convert {\n",
       "      background-color: #E8F0FE;\n",
       "      border: none;\n",
       "      border-radius: 50%;\n",
       "      cursor: pointer;\n",
       "      display: none;\n",
       "      fill: #1967D2;\n",
       "      height: 32px;\n",
       "      padding: 0 0 0 0;\n",
       "      width: 32px;\n",
       "    }\n",
       "\n",
       "    .colab-df-convert:hover {\n",
       "      background-color: #E2EBFA;\n",
       "      box-shadow: 0px 1px 2px rgba(60, 64, 67, 0.3), 0px 1px 3px 1px rgba(60, 64, 67, 0.15);\n",
       "      fill: #174EA6;\n",
       "    }\n",
       "\n",
       "    [theme=dark] .colab-df-convert {\n",
       "      background-color: #3B4455;\n",
       "      fill: #D2E3FC;\n",
       "    }\n",
       "\n",
       "    [theme=dark] .colab-df-convert:hover {\n",
       "      background-color: #434B5C;\n",
       "      box-shadow: 0px 1px 3px 1px rgba(0, 0, 0, 0.15);\n",
       "      filter: drop-shadow(0px 1px 2px rgba(0, 0, 0, 0.3));\n",
       "      fill: #FFFFFF;\n",
       "    }\n",
       "  </style>\n",
       "\n",
       "      <script>\n",
       "        const buttonEl =\n",
       "          document.querySelector('#df-9364d192-f4c2-424a-b75c-0d5be1964236 button.colab-df-convert');\n",
       "        buttonEl.style.display =\n",
       "          google.colab.kernel.accessAllowed ? 'block' : 'none';\n",
       "\n",
       "        async function convertToInteractive(key) {\n",
       "          const element = document.querySelector('#df-9364d192-f4c2-424a-b75c-0d5be1964236');\n",
       "          const dataTable =\n",
       "            await google.colab.kernel.invokeFunction('convertToInteractive',\n",
       "                                                     [key], {});\n",
       "          if (!dataTable) return;\n",
       "\n",
       "          const docLinkHtml = 'Like what you see? Visit the ' +\n",
       "            '<a target=\"_blank\" href=https://colab.research.google.com/notebooks/data_table.ipynb>data table notebook</a>'\n",
       "            + ' to learn more about interactive tables.';\n",
       "          element.innerHTML = '';\n",
       "          dataTable['output_type'] = 'display_data';\n",
       "          await google.colab.output.renderOutput(dataTable, element);\n",
       "          const docLink = document.createElement('div');\n",
       "          docLink.innerHTML = docLinkHtml;\n",
       "          element.appendChild(docLink);\n",
       "        }\n",
       "      </script>\n",
       "    </div>\n",
       "  </div>\n",
       "  "
      ],
      "text/plain": [
       "             0         1\n",
       "0     0.390990  0.361828\n",
       "1    -1.202680 -1.074491\n",
       "2    -0.209413 -0.199947\n",
       "3    -0.307475 -0.394507\n",
       "4     0.340425 -0.064118\n",
       "...        ...       ...\n",
       "4005 -0.402961 -0.245627\n",
       "4006 -0.771156 -0.663462\n",
       "4007  0.125767  0.351480\n",
       "4008  0.600616  0.366676\n",
       "4009 -0.468499 -0.875269\n",
       "\n",
       "[4010 rows x 2 columns]"
      ]
     },
     "execution_count": 20,
     "metadata": {},
     "output_type": "execute_result"
    }
   ],
   "source": [
    "y_train = pd.DataFrame(y_train)\n",
    "y_train"
   ]
  },
  {
   "cell_type": "code",
   "execution_count": null,
   "id": "R3Tec0EcmKJT",
   "metadata": {
    "colab": {
     "base_uri": "https://localhost:8080/",
     "height": 656
    },
    "executionInfo": {
     "elapsed": 72425,
     "status": "ok",
     "timestamp": 1670466909176,
     "user": {
      "displayName": "Seong Won Kim",
      "userId": "17984956289819639053"
     },
     "user_tz": 300
    },
    "id": "R3Tec0EcmKJT",
    "outputId": "8cb6c284-d5dd-4650-c9b1-39abdfc6f224"
   },
   "outputs": [
    {
     "name": "stderr",
     "output_type": "stream",
     "text": [
      "/usr/local/lib/python3.8/dist-packages/sklearn/svm/_base.py:284: ConvergenceWarning: Solver terminated early (max_iter=1000).  Consider pre-processing your data with StandardScaler or MinMaxScaler.\n",
      "  warnings.warn(\n",
      "/usr/local/lib/python3.8/dist-packages/sklearn/svm/_base.py:284: ConvergenceWarning: Solver terminated early (max_iter=1000).  Consider pre-processing your data with StandardScaler or MinMaxScaler.\n",
      "  warnings.warn(\n",
      "/usr/local/lib/python3.8/dist-packages/sklearn/svm/_base.py:284: ConvergenceWarning: Solver terminated early (max_iter=1000).  Consider pre-processing your data with StandardScaler or MinMaxScaler.\n",
      "  warnings.warn(\n",
      "/usr/local/lib/python3.8/dist-packages/sklearn/svm/_base.py:284: ConvergenceWarning: Solver terminated early (max_iter=1000).  Consider pre-processing your data with StandardScaler or MinMaxScaler.\n",
      "  warnings.warn(\n",
      "/usr/local/lib/python3.8/dist-packages/sklearn/svm/_base.py:284: ConvergenceWarning: Solver terminated early (max_iter=1000).  Consider pre-processing your data with StandardScaler or MinMaxScaler.\n",
      "  warnings.warn(\n"
     ]
    },
    {
     "data": {
      "text/html": [
       "\n",
       "  <div id=\"df-04733ec4-6aa8-428a-8f93-b41852f2f85c\">\n",
       "    <div class=\"colab-df-container\">\n",
       "      <div>\n",
       "<style scoped>\n",
       "    .dataframe tbody tr th:only-of-type {\n",
       "        vertical-align: middle;\n",
       "    }\n",
       "\n",
       "    .dataframe tbody tr th {\n",
       "        vertical-align: top;\n",
       "    }\n",
       "\n",
       "    .dataframe thead th {\n",
       "        text-align: right;\n",
       "    }\n",
       "</style>\n",
       "<table border=\"1\" class=\"dataframe\">\n",
       "  <thead>\n",
       "    <tr style=\"text-align: right;\">\n",
       "      <th></th>\n",
       "      <th>name</th>\n",
       "      <th>score</th>\n",
       "    </tr>\n",
       "  </thead>\n",
       "  <tbody>\n",
       "    <tr>\n",
       "      <th>12</th>\n",
       "      <td>MLP</td>\n",
       "      <td>0.634091</td>\n",
       "    </tr>\n",
       "    <tr>\n",
       "      <th>9</th>\n",
       "      <td>Extra_Trees</td>\n",
       "      <td>0.623776</td>\n",
       "    </tr>\n",
       "    <tr>\n",
       "      <th>6</th>\n",
       "      <td>Nearest_Neighbors</td>\n",
       "      <td>0.576883</td>\n",
       "    </tr>\n",
       "    <tr>\n",
       "      <th>8</th>\n",
       "      <td>Random_Forest</td>\n",
       "      <td>0.536499</td>\n",
       "    </tr>\n",
       "    <tr>\n",
       "      <th>5</th>\n",
       "      <td>SVR</td>\n",
       "      <td>0.418352</td>\n",
       "    </tr>\n",
       "    <tr>\n",
       "      <th>10</th>\n",
       "      <td>Gradient_Boosting</td>\n",
       "      <td>0.358075</td>\n",
       "    </tr>\n",
       "    <tr>\n",
       "      <th>7</th>\n",
       "      <td>Decision_Tree</td>\n",
       "      <td>0.240536</td>\n",
       "    </tr>\n",
       "    <tr>\n",
       "      <th>11</th>\n",
       "      <td>Ada_Boost</td>\n",
       "      <td>0.188352</td>\n",
       "    </tr>\n",
       "    <tr>\n",
       "      <th>4</th>\n",
       "      <td>KernelRidge</td>\n",
       "      <td>0.110662</td>\n",
       "    </tr>\n",
       "    <tr>\n",
       "      <th>1</th>\n",
       "      <td>Ridge</td>\n",
       "      <td>0.109574</td>\n",
       "    </tr>\n",
       "    <tr>\n",
       "      <th>0</th>\n",
       "      <td>Linear</td>\n",
       "      <td>0.109571</td>\n",
       "    </tr>\n",
       "    <tr>\n",
       "      <th>2</th>\n",
       "      <td>Lasso</td>\n",
       "      <td>-0.002247</td>\n",
       "    </tr>\n",
       "    <tr>\n",
       "      <th>3</th>\n",
       "      <td>ElasticNet</td>\n",
       "      <td>-0.002247</td>\n",
       "    </tr>\n",
       "  </tbody>\n",
       "</table>\n",
       "</div>\n",
       "      <button class=\"colab-df-convert\" onclick=\"convertToInteractive('df-04733ec4-6aa8-428a-8f93-b41852f2f85c')\"\n",
       "              title=\"Convert this dataframe to an interactive table.\"\n",
       "              style=\"display:none;\">\n",
       "        \n",
       "  <svg xmlns=\"http://www.w3.org/2000/svg\" height=\"24px\"viewBox=\"0 0 24 24\"\n",
       "       width=\"24px\">\n",
       "    <path d=\"M0 0h24v24H0V0z\" fill=\"none\"/>\n",
       "    <path d=\"M18.56 5.44l.94 2.06.94-2.06 2.06-.94-2.06-.94-.94-2.06-.94 2.06-2.06.94zm-11 1L8.5 8.5l.94-2.06 2.06-.94-2.06-.94L8.5 2.5l-.94 2.06-2.06.94zm10 10l.94 2.06.94-2.06 2.06-.94-2.06-.94-.94-2.06-.94 2.06-2.06.94z\"/><path d=\"M17.41 7.96l-1.37-1.37c-.4-.4-.92-.59-1.43-.59-.52 0-1.04.2-1.43.59L10.3 9.45l-7.72 7.72c-.78.78-.78 2.05 0 2.83L4 21.41c.39.39.9.59 1.41.59.51 0 1.02-.2 1.41-.59l7.78-7.78 2.81-2.81c.8-.78.8-2.07 0-2.86zM5.41 20L4 18.59l7.72-7.72 1.47 1.35L5.41 20z\"/>\n",
       "  </svg>\n",
       "      </button>\n",
       "      \n",
       "  <style>\n",
       "    .colab-df-container {\n",
       "      display:flex;\n",
       "      flex-wrap:wrap;\n",
       "      gap: 12px;\n",
       "    }\n",
       "\n",
       "    .colab-df-convert {\n",
       "      background-color: #E8F0FE;\n",
       "      border: none;\n",
       "      border-radius: 50%;\n",
       "      cursor: pointer;\n",
       "      display: none;\n",
       "      fill: #1967D2;\n",
       "      height: 32px;\n",
       "      padding: 0 0 0 0;\n",
       "      width: 32px;\n",
       "    }\n",
       "\n",
       "    .colab-df-convert:hover {\n",
       "      background-color: #E2EBFA;\n",
       "      box-shadow: 0px 1px 2px rgba(60, 64, 67, 0.3), 0px 1px 3px 1px rgba(60, 64, 67, 0.15);\n",
       "      fill: #174EA6;\n",
       "    }\n",
       "\n",
       "    [theme=dark] .colab-df-convert {\n",
       "      background-color: #3B4455;\n",
       "      fill: #D2E3FC;\n",
       "    }\n",
       "\n",
       "    [theme=dark] .colab-df-convert:hover {\n",
       "      background-color: #434B5C;\n",
       "      box-shadow: 0px 1px 3px 1px rgba(0, 0, 0, 0.15);\n",
       "      filter: drop-shadow(0px 1px 2px rgba(0, 0, 0, 0.3));\n",
       "      fill: #FFFFFF;\n",
       "    }\n",
       "  </style>\n",
       "\n",
       "      <script>\n",
       "        const buttonEl =\n",
       "          document.querySelector('#df-04733ec4-6aa8-428a-8f93-b41852f2f85c button.colab-df-convert');\n",
       "        buttonEl.style.display =\n",
       "          google.colab.kernel.accessAllowed ? 'block' : 'none';\n",
       "\n",
       "        async function convertToInteractive(key) {\n",
       "          const element = document.querySelector('#df-04733ec4-6aa8-428a-8f93-b41852f2f85c');\n",
       "          const dataTable =\n",
       "            await google.colab.kernel.invokeFunction('convertToInteractive',\n",
       "                                                     [key], {});\n",
       "          if (!dataTable) return;\n",
       "\n",
       "          const docLinkHtml = 'Like what you see? Visit the ' +\n",
       "            '<a target=\"_blank\" href=https://colab.research.google.com/notebooks/data_table.ipynb>data table notebook</a>'\n",
       "            + ' to learn more about interactive tables.';\n",
       "          element.innerHTML = '';\n",
       "          dataTable['output_type'] = 'display_data';\n",
       "          await google.colab.output.renderOutput(dataTable, element);\n",
       "          const docLink = document.createElement('div');\n",
       "          docLink.innerHTML = docLinkHtml;\n",
       "          element.appendChild(docLink);\n",
       "        }\n",
       "      </script>\n",
       "    </div>\n",
       "  </div>\n",
       "  "
      ],
      "text/plain": [
       "                 name     score\n",
       "12                MLP  0.634091\n",
       "9         Extra_Trees  0.623776\n",
       "6   Nearest_Neighbors  0.576883\n",
       "8       Random_Forest  0.536499\n",
       "5                 SVR  0.418352\n",
       "10  Gradient_Boosting  0.358075\n",
       "7       Decision_Tree  0.240536\n",
       "11          Ada_Boost  0.188352\n",
       "4         KernelRidge  0.110662\n",
       "1               Ridge  0.109574\n",
       "0              Linear  0.109571\n",
       "2               Lasso -0.002247\n",
       "3          ElasticNet -0.002247"
      ]
     },
     "execution_count": 21,
     "metadata": {},
     "output_type": "execute_result"
    }
   ],
   "source": [
    "from sklearn.model_selection import KFold\n",
    "\n",
    "kf = KFold(n_splits = 5)\n",
    "\n",
    "j = 0\n",
    "df = pd.DataFrame()\n",
    "\n",
    "for train_idx, val_idx in kf.split(X_train, y_train[0]):\n",
    "\n",
    "  X_tr = X_train.loc[train_idx]\n",
    "  y_tr = y_train[0].loc[train_idx]\n",
    "  X_val = X_train.loc[val_idx]\n",
    "  y_val = y_train[0].loc[val_idx]\n",
    "\n",
    "  scores = []\n",
    "  for name, clf in zip(names, regressors):\n",
    "      clf.fit(X_tr, y_tr);\n",
    "      score = clf.score(X_val, y_val);\n",
    "      scores.append(score);\n",
    "  \n",
    "  df[j] = scores\n",
    "  j += 1\n",
    "\n",
    "df_avg = pd.DataFrame()\n",
    "df_avg['name'] = names\n",
    "df_avg['score'] = df.mean(axis =1)\n",
    "df_sorted = df_avg.sort_values('score', ascending=False)\n",
    "\n",
    "df_sorted"
   ]
  },
  {
   "cell_type": "markdown",
   "id": "yzq2CPG3uVn-",
   "metadata": {
    "id": "yzq2CPG3uVn-"
   },
   "source": [
    "### total_updrs(cross validation)"
   ]
  },
  {
   "cell_type": "code",
   "execution_count": null,
   "id": "iekRpF2JuWtG",
   "metadata": {
    "colab": {
     "base_uri": "https://localhost:8080/",
     "height": 656
    },
    "executionInfo": {
     "elapsed": 73281,
     "status": "ok",
     "timestamp": 1670466982455,
     "user": {
      "displayName": "Seong Won Kim",
      "userId": "17984956289819639053"
     },
     "user_tz": 300
    },
    "id": "iekRpF2JuWtG",
    "outputId": "9f288c89-8484-4d76-d867-02a9ffabdc63"
   },
   "outputs": [
    {
     "name": "stderr",
     "output_type": "stream",
     "text": [
      "/usr/local/lib/python3.8/dist-packages/sklearn/svm/_base.py:284: ConvergenceWarning: Solver terminated early (max_iter=1000).  Consider pre-processing your data with StandardScaler or MinMaxScaler.\n",
      "  warnings.warn(\n",
      "/usr/local/lib/python3.8/dist-packages/sklearn/svm/_base.py:284: ConvergenceWarning: Solver terminated early (max_iter=1000).  Consider pre-processing your data with StandardScaler or MinMaxScaler.\n",
      "  warnings.warn(\n",
      "/usr/local/lib/python3.8/dist-packages/sklearn/svm/_base.py:284: ConvergenceWarning: Solver terminated early (max_iter=1000).  Consider pre-processing your data with StandardScaler or MinMaxScaler.\n",
      "  warnings.warn(\n",
      "/usr/local/lib/python3.8/dist-packages/sklearn/svm/_base.py:284: ConvergenceWarning: Solver terminated early (max_iter=1000).  Consider pre-processing your data with StandardScaler or MinMaxScaler.\n",
      "  warnings.warn(\n",
      "/usr/local/lib/python3.8/dist-packages/sklearn/svm/_base.py:284: ConvergenceWarning: Solver terminated early (max_iter=1000).  Consider pre-processing your data with StandardScaler or MinMaxScaler.\n",
      "  warnings.warn(\n"
     ]
    },
    {
     "data": {
      "text/html": [
       "\n",
       "  <div id=\"df-446488c9-2d34-45a1-aac7-82eb8831188c\">\n",
       "    <div class=\"colab-df-container\">\n",
       "      <div>\n",
       "<style scoped>\n",
       "    .dataframe tbody tr th:only-of-type {\n",
       "        vertical-align: middle;\n",
       "    }\n",
       "\n",
       "    .dataframe tbody tr th {\n",
       "        vertical-align: top;\n",
       "    }\n",
       "\n",
       "    .dataframe thead th {\n",
       "        text-align: right;\n",
       "    }\n",
       "</style>\n",
       "<table border=\"1\" class=\"dataframe\">\n",
       "  <thead>\n",
       "    <tr style=\"text-align: right;\">\n",
       "      <th></th>\n",
       "      <th>name</th>\n",
       "      <th>score</th>\n",
       "    </tr>\n",
       "  </thead>\n",
       "  <tbody>\n",
       "    <tr>\n",
       "      <th>12</th>\n",
       "      <td>MLP</td>\n",
       "      <td>0.602956</td>\n",
       "    </tr>\n",
       "    <tr>\n",
       "      <th>9</th>\n",
       "      <td>Extra_Trees</td>\n",
       "      <td>0.592727</td>\n",
       "    </tr>\n",
       "    <tr>\n",
       "      <th>6</th>\n",
       "      <td>Nearest_Neighbors</td>\n",
       "      <td>0.547883</td>\n",
       "    </tr>\n",
       "    <tr>\n",
       "      <th>8</th>\n",
       "      <td>Random_Forest</td>\n",
       "      <td>0.502679</td>\n",
       "    </tr>\n",
       "    <tr>\n",
       "      <th>5</th>\n",
       "      <td>SVR</td>\n",
       "      <td>0.348489</td>\n",
       "    </tr>\n",
       "    <tr>\n",
       "      <th>10</th>\n",
       "      <td>Gradient_Boosting</td>\n",
       "      <td>0.339793</td>\n",
       "    </tr>\n",
       "    <tr>\n",
       "      <th>11</th>\n",
       "      <td>Ada_Boost</td>\n",
       "      <td>0.208042</td>\n",
       "    </tr>\n",
       "    <tr>\n",
       "      <th>4</th>\n",
       "      <td>KernelRidge</td>\n",
       "      <td>0.137163</td>\n",
       "    </tr>\n",
       "    <tr>\n",
       "      <th>1</th>\n",
       "      <td>Ridge</td>\n",
       "      <td>0.136552</td>\n",
       "    </tr>\n",
       "    <tr>\n",
       "      <th>0</th>\n",
       "      <td>Linear</td>\n",
       "      <td>0.136549</td>\n",
       "    </tr>\n",
       "    <tr>\n",
       "      <th>7</th>\n",
       "      <td>Decision_Tree</td>\n",
       "      <td>0.134505</td>\n",
       "    </tr>\n",
       "    <tr>\n",
       "      <th>2</th>\n",
       "      <td>Lasso</td>\n",
       "      <td>-0.001362</td>\n",
       "    </tr>\n",
       "    <tr>\n",
       "      <th>3</th>\n",
       "      <td>ElasticNet</td>\n",
       "      <td>-0.001362</td>\n",
       "    </tr>\n",
       "  </tbody>\n",
       "</table>\n",
       "</div>\n",
       "      <button class=\"colab-df-convert\" onclick=\"convertToInteractive('df-446488c9-2d34-45a1-aac7-82eb8831188c')\"\n",
       "              title=\"Convert this dataframe to an interactive table.\"\n",
       "              style=\"display:none;\">\n",
       "        \n",
       "  <svg xmlns=\"http://www.w3.org/2000/svg\" height=\"24px\"viewBox=\"0 0 24 24\"\n",
       "       width=\"24px\">\n",
       "    <path d=\"M0 0h24v24H0V0z\" fill=\"none\"/>\n",
       "    <path d=\"M18.56 5.44l.94 2.06.94-2.06 2.06-.94-2.06-.94-.94-2.06-.94 2.06-2.06.94zm-11 1L8.5 8.5l.94-2.06 2.06-.94-2.06-.94L8.5 2.5l-.94 2.06-2.06.94zm10 10l.94 2.06.94-2.06 2.06-.94-2.06-.94-.94-2.06-.94 2.06-2.06.94z\"/><path d=\"M17.41 7.96l-1.37-1.37c-.4-.4-.92-.59-1.43-.59-.52 0-1.04.2-1.43.59L10.3 9.45l-7.72 7.72c-.78.78-.78 2.05 0 2.83L4 21.41c.39.39.9.59 1.41.59.51 0 1.02-.2 1.41-.59l7.78-7.78 2.81-2.81c.8-.78.8-2.07 0-2.86zM5.41 20L4 18.59l7.72-7.72 1.47 1.35L5.41 20z\"/>\n",
       "  </svg>\n",
       "      </button>\n",
       "      \n",
       "  <style>\n",
       "    .colab-df-container {\n",
       "      display:flex;\n",
       "      flex-wrap:wrap;\n",
       "      gap: 12px;\n",
       "    }\n",
       "\n",
       "    .colab-df-convert {\n",
       "      background-color: #E8F0FE;\n",
       "      border: none;\n",
       "      border-radius: 50%;\n",
       "      cursor: pointer;\n",
       "      display: none;\n",
       "      fill: #1967D2;\n",
       "      height: 32px;\n",
       "      padding: 0 0 0 0;\n",
       "      width: 32px;\n",
       "    }\n",
       "\n",
       "    .colab-df-convert:hover {\n",
       "      background-color: #E2EBFA;\n",
       "      box-shadow: 0px 1px 2px rgba(60, 64, 67, 0.3), 0px 1px 3px 1px rgba(60, 64, 67, 0.15);\n",
       "      fill: #174EA6;\n",
       "    }\n",
       "\n",
       "    [theme=dark] .colab-df-convert {\n",
       "      background-color: #3B4455;\n",
       "      fill: #D2E3FC;\n",
       "    }\n",
       "\n",
       "    [theme=dark] .colab-df-convert:hover {\n",
       "      background-color: #434B5C;\n",
       "      box-shadow: 0px 1px 3px 1px rgba(0, 0, 0, 0.15);\n",
       "      filter: drop-shadow(0px 1px 2px rgba(0, 0, 0, 0.3));\n",
       "      fill: #FFFFFF;\n",
       "    }\n",
       "  </style>\n",
       "\n",
       "      <script>\n",
       "        const buttonEl =\n",
       "          document.querySelector('#df-446488c9-2d34-45a1-aac7-82eb8831188c button.colab-df-convert');\n",
       "        buttonEl.style.display =\n",
       "          google.colab.kernel.accessAllowed ? 'block' : 'none';\n",
       "\n",
       "        async function convertToInteractive(key) {\n",
       "          const element = document.querySelector('#df-446488c9-2d34-45a1-aac7-82eb8831188c');\n",
       "          const dataTable =\n",
       "            await google.colab.kernel.invokeFunction('convertToInteractive',\n",
       "                                                     [key], {});\n",
       "          if (!dataTable) return;\n",
       "\n",
       "          const docLinkHtml = 'Like what you see? Visit the ' +\n",
       "            '<a target=\"_blank\" href=https://colab.research.google.com/notebooks/data_table.ipynb>data table notebook</a>'\n",
       "            + ' to learn more about interactive tables.';\n",
       "          element.innerHTML = '';\n",
       "          dataTable['output_type'] = 'display_data';\n",
       "          await google.colab.output.renderOutput(dataTable, element);\n",
       "          const docLink = document.createElement('div');\n",
       "          docLink.innerHTML = docLinkHtml;\n",
       "          element.appendChild(docLink);\n",
       "        }\n",
       "      </script>\n",
       "    </div>\n",
       "  </div>\n",
       "  "
      ],
      "text/plain": [
       "                 name     score\n",
       "12                MLP  0.602956\n",
       "9         Extra_Trees  0.592727\n",
       "6   Nearest_Neighbors  0.547883\n",
       "8       Random_Forest  0.502679\n",
       "5                 SVR  0.348489\n",
       "10  Gradient_Boosting  0.339793\n",
       "11          Ada_Boost  0.208042\n",
       "4         KernelRidge  0.137163\n",
       "1               Ridge  0.136552\n",
       "0              Linear  0.136549\n",
       "7       Decision_Tree  0.134505\n",
       "2               Lasso -0.001362\n",
       "3          ElasticNet -0.001362"
      ]
     },
     "execution_count": 22,
     "metadata": {},
     "output_type": "execute_result"
    }
   ],
   "source": [
    "j = 0\n",
    "df = pd.DataFrame()\n",
    "\n",
    "for train_idx, val_idx in kf.split(X_train, y_train[1]):\n",
    "\n",
    "  X_tr = X_train.loc[train_idx]\n",
    "  y_tr = y_train[1].loc[train_idx]\n",
    "  X_val = X_train.loc[val_idx]\n",
    "  y_val = y_train[1].loc[val_idx]\n",
    "\n",
    "  scores = []\n",
    "  for name, clf in zip(names, regressors):\n",
    "      clf.fit(X_tr, y_tr);\n",
    "      score = clf.score(X_val, y_val);\n",
    "      scores.append(score);\n",
    "  \n",
    "  df[j] = scores\n",
    "  j += 1\n",
    "\n",
    "df_avg = pd.DataFrame()\n",
    "df_avg['name'] = names\n",
    "df_avg['score'] = df.mean(axis =1)\n",
    "df_sorted = df_avg.sort_values('score', ascending=False)\n",
    "df_sorted"
   ]
  },
  {
   "cell_type": "markdown",
   "id": "mRWUcBUV_Ubp",
   "metadata": {
    "id": "mRWUcBUV_Ubp"
   },
   "source": [
    "상위 5개\n",
    "MLP, Extra_trees, Nearest_Neighbors, Random_Forest, SVR "
   ]
  },
  {
   "cell_type": "markdown",
   "id": "o7AKPWJqO0Sy",
   "metadata": {
    "id": "o7AKPWJqO0Sy"
   },
   "source": [
    "# Grid Search CV"
   ]
  },
  {
   "cell_type": "code",
   "execution_count": null,
   "id": "-FYc9A2OPlav",
   "metadata": {
    "id": "-FYc9A2OPlav"
   },
   "outputs": [],
   "source": [
    "X_test = pd.DataFrame(X_test, columns=X_train_cols)\n",
    "y_test = pd.DataFrame(y_test)"
   ]
  },
  {
   "cell_type": "code",
   "execution_count": null,
   "id": "qJXVy52nO5BZ",
   "metadata": {
    "id": "qJXVy52nO5BZ"
   },
   "outputs": [],
   "source": [
    "from sklearn.model_selection import GridSearchCV"
   ]
  },
  {
   "cell_type": "markdown",
   "id": "6oLbWqmw_Tc0",
   "metadata": {
    "id": "6oLbWqmw_Tc0"
   },
   "source": [
    "### SVR_m"
   ]
  },
  {
   "cell_type": "code",
   "execution_count": null,
   "id": "RU58qBVDNLdx",
   "metadata": {
    "colab": {
     "base_uri": "https://localhost:8080/"
    },
    "executionInfo": {
     "elapsed": 131681,
     "status": "ok",
     "timestamp": 1670467114133,
     "user": {
      "displayName": "Seong Won Kim",
      "userId": "17984956289819639053"
     },
     "user_tz": 300
    },
    "id": "RU58qBVDNLdx",
    "outputId": "69630b8e-9aae-4434-aec2-ea5b882c4b18"
   },
   "outputs": [
    {
     "name": "stdout",
     "output_type": "stream",
     "text": [
      " Before tuning = 0.5034288579583335\n",
      "Fitting 5 folds for each of 48 candidates, totalling 240 fits\n",
      "SVR(C=10, max_iter=10000)\n",
      "{'C': 10, 'epsilon': 0.1, 'kernel': 'rbf'}\n",
      "0.5316294163455025\n"
     ]
    },
    {
     "name": "stderr",
     "output_type": "stream",
     "text": [
      "/usr/local/lib/python3.8/dist-packages/sklearn/svm/_base.py:284: ConvergenceWarning: Solver terminated early (max_iter=10000).  Consider pre-processing your data with StandardScaler or MinMaxScaler.\n",
      "  warnings.warn(\n"
     ]
    }
   ],
   "source": [
    "# before\n",
    "svr_m = SVR(kernel = 'rbf', C = 1, epsilon = 0.1, max_iter = 10000)\n",
    "svr_m.fit(X_train, y_train[0])\n",
    "\n",
    "print(f' Before tuning = {svr_m.score(X_test, y_test[0])}')\n",
    "\n",
    "# go through kernel, C, epsilon\n",
    "\n",
    "search_space = {\"kernel\" : ['poly', 'rbf', 'sigmoid'], \n",
    "                \"C\" : [0.1, 1, 10, 100],\n",
    "                \"epsilon\" : [0.01, 0.1, 1, 10]}\n",
    "\n",
    "GS = GridSearchCV(estimator = svr_m,\n",
    "                  param_grid = search_space,\n",
    "                  scoring = [\"r2\", \"neg_root_mean_squared_error\"],\n",
    "                  refit = \"r2\",\n",
    "                  cv = 5,\n",
    "                  n_jobs = 2,\n",
    "                  verbose = 4)\n",
    "\n",
    "GS.fit(X_train, y_train[0])\n",
    "\n",
    "print(GS.best_estimator_)\n",
    "print(GS.best_params_)\n",
    "print(GS.best_score_)"
   ]
  },
  {
   "cell_type": "code",
   "execution_count": null,
   "id": "xoWhfVdEbegt",
   "metadata": {
    "colab": {
     "base_uri": "https://localhost:8080/"
    },
    "executionInfo": {
     "elapsed": 1882,
     "status": "ok",
     "timestamp": 1670467115999,
     "user": {
      "displayName": "Seong Won Kim",
      "userId": "17984956289819639053"
     },
     "user_tz": 300
    },
    "id": "xoWhfVdEbegt",
    "outputId": "44f3f3c4-23bb-4919-8d79-2731014c8387"
   },
   "outputs": [
    {
     "name": "stderr",
     "output_type": "stream",
     "text": [
      "/usr/local/lib/python3.8/dist-packages/sklearn/svm/_base.py:284: ConvergenceWarning: Solver terminated early (max_iter=10000).  Consider pre-processing your data with StandardScaler or MinMaxScaler.\n",
      "  warnings.warn(\n"
     ]
    },
    {
     "name": "stdout",
     "output_type": "stream",
     "text": [
      " After tuning : 0.5723674636724576\n"
     ]
    }
   ],
   "source": [
    "svr_m = SVR(kernel = 'rbf', C = 10, epsilon = 0.1, max_iter = 10000)\n",
    "svr_m.fit(X_train, y_train[0])\n",
    "print(f' After tuning : {svr_m.score(X_test, y_test[0])}')"
   ]
  },
  {
   "cell_type": "markdown",
   "id": "GRupnREeVOKC",
   "metadata": {
    "id": "GRupnREeVOKC"
   },
   "source": [
    "### SVR_t"
   ]
  },
  {
   "cell_type": "code",
   "execution_count": null,
   "id": "enYraZH6U9l-",
   "metadata": {
    "colab": {
     "base_uri": "https://localhost:8080/"
    },
    "executionInfo": {
     "elapsed": 121301,
     "status": "ok",
     "timestamp": 1670467237298,
     "user": {
      "displayName": "Seong Won Kim",
      "userId": "17984956289819639053"
     },
     "user_tz": 300
    },
    "id": "enYraZH6U9l-",
    "outputId": "2dcbfda0-8301-4cd0-8334-297f270e9092"
   },
   "outputs": [
    {
     "name": "stdout",
     "output_type": "stream",
     "text": [
      "0.425024982385347\n",
      "Fitting 5 folds for each of 48 candidates, totalling 240 fits\n",
      "SVR(C=10, max_iter=10000)\n",
      "{'C': 10, 'epsilon': 0.1, 'kernel': 'rbf'}\n",
      " After tuning = 0.49087185449131976\n"
     ]
    },
    {
     "name": "stderr",
     "output_type": "stream",
     "text": [
      "/usr/local/lib/python3.8/dist-packages/sklearn/svm/_base.py:284: ConvergenceWarning: Solver terminated early (max_iter=10000).  Consider pre-processing your data with StandardScaler or MinMaxScaler.\n",
      "  warnings.warn(\n"
     ]
    }
   ],
   "source": [
    "#before\n",
    "svr_t = SVR(kernel = 'rbf', C = 1, epsilon = 0.1, max_iter = 10000)\n",
    "svr_t.fit(X_train, y_train[0])\n",
    "\n",
    "print (svr_t.score(X_test, y_test[1]))\n",
    "\n",
    "# go through kernel, C, epsilon\n",
    "\n",
    "search_space = {\"kernel\" : ['poly', 'rbf', 'sigmoid'], \n",
    "                \"C\" : [0.01, 0.1, 1, 10],\n",
    "                \"epsilon\" : [0.01, 0.1, 1, 10]}\n",
    "\n",
    "GS1 = GridSearchCV(estimator = svr_t,\n",
    "                  param_grid = search_space,\n",
    "                  scoring = [\"r2\", \"neg_mean_absolute_error\", \"neg_root_mean_squared_error\"],\n",
    "                  refit = \"r2\",\n",
    "                  cv = 5,\n",
    "                  n_jobs = 4,\n",
    "                  verbose = 4)\n",
    "\n",
    "GS1.fit(X_train, y_train[1])\n",
    "\n",
    "print(GS1.best_estimator_)\n",
    "print(GS1.best_params_)\n",
    "print(f' After tuning = {GS1.best_score_}')"
   ]
  },
  {
   "cell_type": "code",
   "execution_count": null,
   "id": "f4by4jezdzsc",
   "metadata": {
    "colab": {
     "base_uri": "https://localhost:8080/"
    },
    "executionInfo": {
     "elapsed": 1926,
     "status": "ok",
     "timestamp": 1670467239204,
     "user": {
      "displayName": "Seong Won Kim",
      "userId": "17984956289819639053"
     },
     "user_tz": 300
    },
    "id": "f4by4jezdzsc",
    "outputId": "ffbeacbd-9306-4dcd-cd6d-5f69a05a2ec6"
   },
   "outputs": [
    {
     "name": "stderr",
     "output_type": "stream",
     "text": [
      "/usr/local/lib/python3.8/dist-packages/sklearn/svm/_base.py:284: ConvergenceWarning: Solver terminated early (max_iter=10000).  Consider pre-processing your data with StandardScaler or MinMaxScaler.\n",
      "  warnings.warn(\n"
     ]
    },
    {
     "name": "stdout",
     "output_type": "stream",
     "text": [
      " After tuning : 0.5370967812975818\n"
     ]
    }
   ],
   "source": [
    "svr_t = SVR(kernel = 'rbf', C = 10, epsilon = 0.1, max_iter = 10000)\n",
    "svr_t.fit(X_train, y_train[1])\n",
    "print(f' After tuning : {svr_t.score(X_test, y_test[1])}')"
   ]
  },
  {
   "cell_type": "markdown",
   "id": "sqA9aKVMX1Hv",
   "metadata": {
    "id": "sqA9aKVMX1Hv"
   },
   "source": [
    "### Random Forest_m"
   ]
  },
  {
   "cell_type": "code",
   "execution_count": null,
   "id": "DBOzLTAoX065",
   "metadata": {
    "colab": {
     "base_uri": "https://localhost:8080/"
    },
    "executionInfo": {
     "elapsed": 110448,
     "status": "ok",
     "timestamp": 1670467349651,
     "user": {
      "displayName": "Seong Won Kim",
      "userId": "17984956289819639053"
     },
     "user_tz": 300
    },
    "id": "DBOzLTAoX065",
    "outputId": "e16e5a93-6696-4952-d6eb-cf66b365f974"
   },
   "outputs": [
    {
     "name": "stdout",
     "output_type": "stream",
     "text": [
      "0.584184202316099\n",
      "Fitting 5 folds for each of 9 candidates, totalling 45 fits\n",
      "RandomForestRegressor(max_depth=25, n_estimators=200)\n",
      "{'max_depth': 25, 'n_estimators': 200}\n",
      "0.5827726296194042\n"
     ]
    }
   ],
   "source": [
    "#before\n",
    "\n",
    "rf_m = RandomForestRegressor(n_estimators = 100, max_depth = 10)\n",
    "rf_m.fit(X_train, y_train[0])\n",
    "\n",
    "print (rf_m.score(X_test, y_test[0]))\n",
    "\n",
    "# go through kernel, C, epsilon\n",
    "#\"criterion\" : [\"squared_error\", \"absolute_error\"],\n",
    "search_space = {\"n_estimators\" : [100, 150, 200],\n",
    "                \"max_depth\" : [25 ,30, 35],\n",
    "                }\n",
    "\n",
    "GS2 = GridSearchCV(estimator = rf_m,\n",
    "                  param_grid = search_space,\n",
    "                  scoring = [\"r2\", \"neg_mean_absolute_error\", \"neg_root_mean_squared_error\"],\n",
    "                  refit = \"r2\",\n",
    "                  cv = 5,\n",
    "                  n_jobs = 2,\n",
    "                  verbose = 4)\n",
    "\n",
    "GS2.fit(X_train, y_train[0])\n",
    "\n",
    "print(GS2.best_estimator_)\n",
    "print(GS2.best_params_)\n",
    "print(GS2.best_score_)\n"
   ]
  },
  {
   "cell_type": "code",
   "execution_count": null,
   "id": "9f6EyqmKvTds",
   "metadata": {
    "colab": {
     "base_uri": "https://localhost:8080/"
    },
    "executionInfo": {
     "elapsed": 3786,
     "status": "ok",
     "timestamp": 1670467353417,
     "user": {
      "displayName": "Seong Won Kim",
      "userId": "17984956289819639053"
     },
     "user_tz": 300
    },
    "id": "9f6EyqmKvTds",
    "outputId": "b4a32b48-29a6-4cb4-aa1d-da2e91369ad9"
   },
   "outputs": [
    {
     "name": "stdout",
     "output_type": "stream",
     "text": [
      "After tuning : 0.6363700458130703\n"
     ]
    }
   ],
   "source": [
    "rf_m = RandomForestRegressor(n_estimators = 150, max_depth = 25)\n",
    "rf_m.fit(X_train, y_train[0])\n",
    "\n",
    "print (f'After tuning : {rf_m.score(X_test, y_test[0])}')"
   ]
  },
  {
   "cell_type": "markdown",
   "id": "ws25oPeybOr1",
   "metadata": {
    "id": "ws25oPeybOr1"
   },
   "source": [
    "### Random Forest_t"
   ]
  },
  {
   "cell_type": "code",
   "execution_count": null,
   "id": "d0XHJvC1bN4q",
   "metadata": {
    "colab": {
     "base_uri": "https://localhost:8080/"
    },
    "executionInfo": {
     "elapsed": 125060,
     "status": "ok",
     "timestamp": 1670467478472,
     "user": {
      "displayName": "Seong Won Kim",
      "userId": "17984956289819639053"
     },
     "user_tz": 300
    },
    "id": "d0XHJvC1bN4q",
    "outputId": "9562006f-8e3e-4f3f-86c6-e82cf6ee1d4c"
   },
   "outputs": [
    {
     "name": "stdout",
     "output_type": "stream",
     "text": [
      "0.568859890075418\n",
      "Fitting 5 folds for each of 9 candidates, totalling 45 fits\n",
      "RandomForestRegressor(max_depth=20, n_estimators=175)\n",
      "{'max_depth': 20, 'n_estimators': 175}\n",
      "0.5431904826173969\n"
     ]
    }
   ],
   "source": [
    "#before\n",
    "\n",
    "rf_t = RandomForestRegressor(n_estimators = 100, max_depth = 10)\n",
    "rf_t.fit(X_train, y_train[1])\n",
    "\n",
    "print (rf_t.score(X_test, y_test[1]))\n",
    "\n",
    "# go through kernel, C, epsilon\n",
    "\n",
    "search_space = {\"n_estimators\" : [150,175, 200],\n",
    "                \"max_depth\" : [15,20,25],\n",
    "                }\n",
    "\n",
    "GS3 = GridSearchCV(estimator = rf_t,\n",
    "                  param_grid = search_space,\n",
    "                  scoring = [\"r2\", \"neg_mean_absolute_error\", \"neg_root_mean_squared_error\"],\n",
    "                  refit = \"r2\",\n",
    "                  cv = 5,\n",
    "                  n_jobs = 4,\n",
    "                  verbose = 4)\n",
    "\n",
    "GS3.fit(X_train, y_train[1])\n",
    "\n",
    "print(GS3.best_estimator_)\n",
    "print(GS3.best_params_)\n",
    "print(GS3.best_score_)"
   ]
  },
  {
   "cell_type": "code",
   "execution_count": null,
   "id": "j3VGD40Dx5sS",
   "metadata": {
    "colab": {
     "base_uri": "https://localhost:8080/"
    },
    "executionInfo": {
     "elapsed": 4549,
     "status": "ok",
     "timestamp": 1670467482999,
     "user": {
      "displayName": "Seong Won Kim",
      "userId": "17984956289819639053"
     },
     "user_tz": 300
    },
    "id": "j3VGD40Dx5sS",
    "outputId": "152a05d5-64d1-43d2-a86c-052ede3164b6"
   },
   "outputs": [
    {
     "name": "stdout",
     "output_type": "stream",
     "text": [
      "After tuning : 0.6081014287647282\n"
     ]
    }
   ],
   "source": [
    "rf_t = RandomForestRegressor(n_estimators = 175, max_depth = 20)\n",
    "rf_t.fit(X_train, y_train[1])\n",
    "\n",
    "print (f'After tuning : {rf_t.score(X_test, y_test[1])}')"
   ]
  },
  {
   "cell_type": "markdown",
   "id": "ctxx71ajulOV",
   "metadata": {
    "id": "ctxx71ajulOV"
   },
   "source": [
    "### Nearest Neighbor_m"
   ]
  },
  {
   "cell_type": "code",
   "execution_count": null,
   "id": "NIz60-cMuqHH",
   "metadata": {
    "colab": {
     "base_uri": "https://localhost:8080/"
    },
    "executionInfo": {
     "elapsed": 20107,
     "status": "ok",
     "timestamp": 1670467503083,
     "user": {
      "displayName": "Seong Won Kim",
      "userId": "17984956289819639053"
     },
     "user_tz": 300
    },
    "id": "NIz60-cMuqHH",
    "outputId": "75d2b60a-d12c-494b-ba8d-02dbda5d6c86"
   },
   "outputs": [
    {
     "name": "stdout",
     "output_type": "stream",
     "text": [
      "0.6301911473796052\n",
      "Fitting 5 folds for each of 96 candidates, totalling 480 fits\n",
      "KNeighborsRegressor(leaf_size=1, n_neighbors=7, p=1, weights='distance')\n",
      "{'leaf_size': 1, 'n_neighbors': 7, 'p': 1, 'weights': 'distance'}\n",
      "0.6005454694501535\n"
     ]
    }
   ],
   "source": [
    "#before\n",
    "\n",
    "knn_m = KNeighborsRegressor(n_neighbors = 5)\n",
    "knn_m.fit(X_train, y_train[0])\n",
    "\n",
    "print (knn_m.score(X_test, y_test[0]))\n",
    "\n",
    "# go through kernel, C, epsilon\n",
    "\n",
    "search_space = {\"n_neighbors\" : [6, 7, 8, 9],\n",
    "                \"weights\" : ['uniform', 'distance'],\n",
    "                \"leaf_size\" : [1,2,3,4,5,6],\n",
    "                \"p\" : [1,2]\n",
    "                }\n",
    "\n",
    "GS4 = GridSearchCV(estimator = knn_m,\n",
    "                  param_grid = search_space,\n",
    "                  scoring = [\"r2\", \"neg_mean_absolute_error\", \"neg_root_mean_squared_error\"],\n",
    "                  refit = \"r2\",\n",
    "                  cv = 5,\n",
    "                  n_jobs = 4,\n",
    "                  verbose = 4)\n",
    "\n",
    "GS4.fit(X_train, y_train[0])\n",
    "\n",
    "print(GS4.best_estimator_)\n",
    "print(GS4.best_params_)\n",
    "print(GS4.best_score_)"
   ]
  },
  {
   "cell_type": "code",
   "execution_count": null,
   "id": "M6ESV0VyupY4",
   "metadata": {
    "colab": {
     "base_uri": "https://localhost:8080/"
    },
    "executionInfo": {
     "elapsed": 180,
     "status": "ok",
     "timestamp": 1670467503244,
     "user": {
      "displayName": "Seong Won Kim",
      "userId": "17984956289819639053"
     },
     "user_tz": 300
    },
    "id": "M6ESV0VyupY4",
    "outputId": "23419f4c-acca-43e7-9061-a620dd9f1225"
   },
   "outputs": [
    {
     "name": "stdout",
     "output_type": "stream",
     "text": [
      " After Tuning: 0.6477939386103395\n"
     ]
    }
   ],
   "source": [
    "knn_m = KNeighborsRegressor(n_neighbors = 7, weights = 'distance', leaf_size = 1, p = 1)\n",
    "knn_m.fit(X_train, y_train[0])\n",
    "\n",
    "print(f' After Tuning: {knn_m.score(X_test, y_test[0])}')"
   ]
  },
  {
   "cell_type": "markdown",
   "id": "7oNJUBiczqZ_",
   "metadata": {
    "id": "7oNJUBiczqZ_"
   },
   "source": [
    "### Nearest_Neighbor_t"
   ]
  },
  {
   "cell_type": "code",
   "execution_count": null,
   "id": "n5W9oFXgzuQb",
   "metadata": {
    "colab": {
     "base_uri": "https://localhost:8080/"
    },
    "executionInfo": {
     "elapsed": 17533,
     "status": "ok",
     "timestamp": 1670467520775,
     "user": {
      "displayName": "Seong Won Kim",
      "userId": "17984956289819639053"
     },
     "user_tz": 300
    },
    "id": "n5W9oFXgzuQb",
    "outputId": "7ec4b548-e9b9-464f-b1ec-3066f444cd06"
   },
   "outputs": [
    {
     "name": "stdout",
     "output_type": "stream",
     "text": [
      "0.6030166377580903\n",
      "Fitting 5 folds for each of 120 candidates, totalling 600 fits\n",
      "KNeighborsRegressor(leaf_size=1, n_neighbors=6, p=1, weights='distance')\n",
      "{'leaf_size': 1, 'n_neighbors': 6, 'p': 1, 'weights': 'distance'}\n",
      "0.5734624753193314\n"
     ]
    }
   ],
   "source": [
    "#before\n",
    "\n",
    "knn_t = KNeighborsRegressor(n_neighbors = 5)\n",
    "knn_t.fit(X_train, y_train[1])\n",
    "\n",
    "print (knn_t.score(X_test, y_test[1]))\n",
    "\n",
    "# go through kernel, C, epsilon\n",
    "\n",
    "search_space = {\"n_neighbors\" : [3,4,5, 6, 7],\n",
    "                \"weights\" : ['uniform', 'distance'],\n",
    "                \"leaf_size\" : [1,5,10,20,30,40],\n",
    "                \"p\" : [1,2]\n",
    "                }\n",
    "\n",
    "GS5 = GridSearchCV(estimator = knn_m,\n",
    "                  param_grid = search_space,\n",
    "                  scoring = [\"r2\", \"neg_mean_absolute_error\", \"neg_root_mean_squared_error\"],\n",
    "                  refit = \"r2\",\n",
    "                  cv = 5,\n",
    "                  n_jobs = 4,\n",
    "                  verbose = 4)\n",
    "\n",
    "GS5.fit(X_train, y_train[1])\n",
    "\n",
    "print(GS5.best_estimator_)\n",
    "print(GS5.best_params_)\n",
    "print(GS5.best_score_)"
   ]
  },
  {
   "cell_type": "code",
   "execution_count": null,
   "id": "MJTGhIfj0FUV",
   "metadata": {
    "colab": {
     "base_uri": "https://localhost:8080/"
    },
    "executionInfo": {
     "elapsed": 142,
     "status": "ok",
     "timestamp": 1670467520915,
     "user": {
      "displayName": "Seong Won Kim",
      "userId": "17984956289819639053"
     },
     "user_tz": 300
    },
    "id": "MJTGhIfj0FUV",
    "outputId": "1b0d9061-7855-4795-84a7-aab472d37869"
   },
   "outputs": [
    {
     "name": "stdout",
     "output_type": "stream",
     "text": [
      " After Tuning: 0.6176522212991988\n"
     ]
    }
   ],
   "source": [
    "knn_t = KNeighborsRegressor(n_neighbors = 6, weights = 'distance', leaf_size = 1, p = 1)\n",
    "\n",
    "knn_t.fit(X_train, y_train[1])\n",
    "\n",
    "print(f' After Tuning: {knn_t.score(X_test, y_test[1])}')"
   ]
  },
  {
   "cell_type": "markdown",
   "id": "O5WXhgxw1XcP",
   "metadata": {
    "id": "O5WXhgxw1XcP"
   },
   "source": [
    "### Extra Trees_m"
   ]
  },
  {
   "cell_type": "code",
   "execution_count": null,
   "id": "B5_eizgL1dr-",
   "metadata": {
    "colab": {
     "base_uri": "https://localhost:8080/"
    },
    "executionInfo": {
     "elapsed": 171429,
     "status": "ok",
     "timestamp": 1670467692343,
     "user": {
      "displayName": "Seong Won Kim",
      "userId": "17984956289819639053"
     },
     "user_tz": 300
    },
    "id": "B5_eizgL1dr-",
    "outputId": "e50c24e4-dfe2-40fa-fe51-3e0b2cd2cfb2"
   },
   "outputs": [
    {
     "name": "stdout",
     "output_type": "stream",
     "text": [
      "0.6752121036940226\n",
      "Fitting 5 folds for each of 25 candidates, totalling 125 fits\n",
      "ExtraTreesRegressor(max_depth=80, n_estimators=500, warm_start=True)\n",
      "{'max_depth': 80, 'n_estimators': 500, 'warm_start': True}\n",
      "0.6276091441109071\n"
     ]
    }
   ],
   "source": [
    "#before\n",
    "\n",
    "ext_m = ExtraTreesRegressor(n_estimators = 100)\n",
    "ext_m.fit(X_train, y_train[0])\n",
    "\n",
    "print (ext_m.score(X_test, y_test[0]))\n",
    "\n",
    "# go through kernel, C, epsilon\n",
    "\n",
    "#\"n_estimators\" : [50, 100, 150],\n",
    "#                \"criterion\" : ['squared_error', 'absolute_error'],\n",
    "#                \"max_depth\" : [10,20,30,40],\n",
    "search_space = {\"n_estimators\" : [50,100,200,400,500],\n",
    "                \"max_depth\" : [10,20,40,80,160],\n",
    "                \"warm_start\" : [True]\n",
    "                }\n",
    "\n",
    "GS6 = GridSearchCV(estimator = ext_m,\n",
    "                  param_grid = search_space,\n",
    "                  scoring = [\"r2\", \"neg_mean_absolute_error\", \"neg_root_mean_squared_error\"],\n",
    "                  refit = \"r2\",\n",
    "                  cv = 5,\n",
    "                  n_jobs = 4,\n",
    "                  verbose = 4)\n",
    "\n",
    "GS6.fit(X_train, y_train[0])\n",
    "\n",
    "print(GS6.best_estimator_)\n",
    "print(GS6.best_params_)\n",
    "print(GS6.best_score_)"
   ]
  },
  {
   "cell_type": "code",
   "execution_count": null,
   "id": "cnfRyB2d8u25",
   "metadata": {
    "colab": {
     "base_uri": "https://localhost:8080/"
    },
    "executionInfo": {
     "elapsed": 5430,
     "status": "ok",
     "timestamp": 1670467697760,
     "user": {
      "displayName": "Seong Won Kim",
      "userId": "17984956289819639053"
     },
     "user_tz": 300
    },
    "id": "cnfRyB2d8u25",
    "outputId": "b2e56e55-6710-4f82-f2c4-a22265e89373"
   },
   "outputs": [
    {
     "name": "stdout",
     "output_type": "stream",
     "text": [
      " After tuning : 0.6781793695936811\n"
     ]
    }
   ],
   "source": [
    "ext_m = ExtraTreesRegressor(n_estimators = 500, max_depth = 40, warm_start = True)\n",
    "ext_m.fit(X_train, y_train[0])\n",
    "\n",
    "print (f' After tuning : {ext_m.score(X_test, y_test[0])}')"
   ]
  },
  {
   "cell_type": "markdown",
   "id": "kUMWd7V65AXO",
   "metadata": {
    "id": "kUMWd7V65AXO"
   },
   "source": [
    "### Extra_Trees_t"
   ]
  },
  {
   "cell_type": "code",
   "execution_count": null,
   "id": "ICS_-wF55DEz",
   "metadata": {
    "colab": {
     "base_uri": "https://localhost:8080/"
    },
    "executionInfo": {
     "elapsed": 172215,
     "status": "ok",
     "timestamp": 1670467869967,
     "user": {
      "displayName": "Seong Won Kim",
      "userId": "17984956289819639053"
     },
     "user_tz": 300
    },
    "id": "ICS_-wF55DEz",
    "outputId": "bffaad61-7850-48f4-9e7d-040d5cb1014f"
   },
   "outputs": [
    {
     "name": "stdout",
     "output_type": "stream",
     "text": [
      "0.586552107694424\n",
      "Fitting 5 folds for each of 25 candidates, totalling 125 fits\n",
      "ExtraTreesRegressor(max_depth=80, n_estimators=500, warm_start=True)\n",
      "{'max_depth': 80, 'n_estimators': 500, 'warm_start': True}\n",
      "0.5980956325140558\n"
     ]
    }
   ],
   "source": [
    "#before\n",
    "\n",
    "ext_t = ExtraTreesRegressor(n_estimators = 100)\n",
    "ext_t.fit(X_train, y_train[1])\n",
    "\n",
    "print (ext_m.score(X_test, y_test[1]))\n",
    "\n",
    "# search space\n",
    "\n",
    "search_space = {\"n_estimators\" : [50,100,200,400,500],\n",
    "                \"max_depth\" : [10,20,40,80,160],\n",
    "                \"warm_start\" : [True]\n",
    "                }\n",
    "\n",
    "GS7 = GridSearchCV(estimator = ext_t,\n",
    "                  param_grid = search_space,\n",
    "                  scoring = [\"r2\", \"neg_mean_absolute_error\", \"neg_root_mean_squared_error\"],\n",
    "                  refit = \"r2\",\n",
    "                  cv = 5,\n",
    "                  n_jobs = 4,\n",
    "                  verbose = 4)\n",
    "\n",
    "GS7.fit(X_train, y_train[1])\n",
    "\n",
    "print(GS7.best_estimator_)\n",
    "print(GS7.best_params_)\n",
    "print(GS7.best_score_)"
   ]
  },
  {
   "cell_type": "code",
   "execution_count": null,
   "id": "anr0jG5BE1md",
   "metadata": {
    "colab": {
     "base_uri": "https://localhost:8080/"
    },
    "executionInfo": {
     "elapsed": 4272,
     "status": "ok",
     "timestamp": 1670467874237,
     "user": {
      "displayName": "Seong Won Kim",
      "userId": "17984956289819639053"
     },
     "user_tz": 300
    },
    "id": "anr0jG5BE1md",
    "outputId": "df851026-ea97-4dee-e2be-f47e20db557d"
   },
   "outputs": [
    {
     "name": "stdout",
     "output_type": "stream",
     "text": [
      " After tuning : 0.6528400290155262\n"
     ]
    }
   ],
   "source": [
    "ext_t = ExtraTreesRegressor(n_estimators = 400, max_depth = 80, warm_start = True)\n",
    "ext_t.fit(X_train, y_train[1])\n",
    "\n",
    "print (f' After tuning : {ext_t.score(X_test, y_test[1])}')"
   ]
  },
  {
   "cell_type": "markdown",
   "id": "kcifeNChHbco",
   "metadata": {
    "id": "kcifeNChHbco"
   },
   "source": [
    "### MLP Regressor_m\n"
   ]
  },
  {
   "cell_type": "code",
   "execution_count": null,
   "id": "yIUlxKLvHfPT",
   "metadata": {
    "colab": {
     "base_uri": "https://localhost:8080/"
    },
    "executionInfo": {
     "elapsed": 963195,
     "status": "ok",
     "timestamp": 1670471514854,
     "user": {
      "displayName": "Seong Won Kim",
      "userId": "17984956289819639053"
     },
     "user_tz": 300
    },
    "id": "yIUlxKLvHfPT",
    "outputId": "93f3a9f8-423e-4a58-fce4-74052df586d4"
   },
   "outputs": [
    {
     "name": "stdout",
     "output_type": "stream",
     "text": [
      "0.681615767901717\n",
      "Fitting 5 folds for each of 18 candidates, totalling 90 fits\n",
      "MLPRegressor(activation='tanh', alpha=0.001, batch_size=100, beta_1=0.999,\n",
      "             epsilon=1e-07, hidden_layer_sizes=300, max_iter=4000,\n",
      "             shuffle=False, warm_start=True)\n",
      "{'activation': 'tanh', 'alpha': 0.001, 'batch_size': 100, 'beta_1': 0.999, 'beta_2': 0.999, 'epsilon': 1e-07, 'hidden_layer_sizes': 300, 'learning_rate_init': 0.001, 'max_iter': 4000, 'shuffle': False, 'warm_start': True}\n",
      "0.6968216903783354\n"
     ]
    }
   ],
   "source": [
    "#before\n",
    "\n",
    "mlp_m = MLPRegressor(hidden_layer_sizes = 100, solver = 'adam', alpha = 0.0001, learning_rate_init = 0.001, max_iter = 1000, epsilon = 1e-8)\n",
    "mlp_m.fit(X_train, y_train[0])\n",
    "\n",
    "print (mlp_m.score(X_test, y_test[0]))\n",
    "\n",
    "# search space\n",
    "#'hidden_layer_sizes' : [100,200,300],\n",
    "#                'activation' : ['logistic', 'tanh', 'relu'],\n",
    "#               'alpha' : [0.00001, 0.0001, 0.001, 0.01],\n",
    "#                'batch_size' : [50,100,150,200],\n",
    "#                'learning_rate_init' : [0.0001, 0.001, 0.01, 0.1],\n",
    "#                'max_iter' : [1000, 2000, 4000],\n",
    "#                'shuffle' : [True, False],\n",
    "#                'warm_start' : [True, False],\n",
    "search_space = {'hidden_layer_sizes' : [100,200,300],\n",
    "                'activation' : ['logistic', 'tanh', 'relu'],\n",
    "                'alpha' : [0.001],\n",
    "                'batch_size' : [100, 150],\n",
    "                'learning_rate_init' : [0.001],\n",
    "                'max_iter' : [4000],\n",
    "                'shuffle' : [False],\n",
    "                'warm_start' : [True],\n",
    "                'beta_1' : [0.999],\n",
    "                'beta_2' : [0.999],\n",
    "                'epsilon' : [1e-7],\n",
    "                }\n",
    "\n",
    "\n",
    "\n",
    "GS8 = GridSearchCV(estimator = mlp_m,\n",
    "                  param_grid = search_space,\n",
    "                  scoring = [\"r2\", \"neg_mean_absolute_error\", \"neg_root_mean_squared_error\"],\n",
    "                  refit = \"r2\",\n",
    "                  cv = 5,\n",
    "                  n_jobs = 4,\n",
    "                  verbose = 4)\n",
    "\n",
    "GS8.fit(X_train, y_train[0])\n",
    "\n",
    "print(GS8.best_estimator_)\n",
    "print(GS8.best_params_)\n",
    "print(GS8.best_score_)"
   ]
  },
  {
   "cell_type": "code",
   "execution_count": null,
   "id": "Q_yBS-UbHfsP",
   "metadata": {
    "colab": {
     "base_uri": "https://localhost:8080/"
    },
    "executionInfo": {
     "elapsed": 58171,
     "status": "ok",
     "timestamp": 1670471623611,
     "user": {
      "displayName": "Seong Won Kim",
      "userId": "17984956289819639053"
     },
     "user_tz": 300
    },
    "id": "Q_yBS-UbHfsP",
    "outputId": "9bc04421-dd27-4c12-ef42-2e9a605eef44"
   },
   "outputs": [
    {
     "name": "stdout",
     "output_type": "stream",
     "text": [
      "After tuning, 0.7471573397935376\n"
     ]
    }
   ],
   "source": [
    "mlp_m = MLPRegressor(activation='tanh', alpha=0.001, batch_size=100, beta_1=0.999,\n",
    "             epsilon=1e-07, hidden_layer_sizes=300, max_iter=4000,\n",
    "             shuffle=False, warm_start=True)\n",
    "mlp_m.fit(X_train, y_train[0])\n",
    "\n",
    "print (f'After tuning, {mlp_m.score(X_test, y_test[0])}')"
   ]
  },
  {
   "cell_type": "markdown",
   "id": "jFX3TOT510Na",
   "metadata": {
    "id": "jFX3TOT510Na"
   },
   "source": [
    "### MLP Regressor_t"
   ]
  },
  {
   "cell_type": "code",
   "execution_count": null,
   "id": "SY3xF9mh13MU",
   "metadata": {
    "colab": {
     "base_uri": "https://localhost:8080/"
    },
    "executionInfo": {
     "elapsed": 298958,
     "status": "ok",
     "timestamp": 1670473082293,
     "user": {
      "displayName": "Seong Won Kim",
      "userId": "17984956289819639053"
     },
     "user_tz": 300
    },
    "id": "SY3xF9mh13MU",
    "outputId": "b52fdabd-46fc-473b-d268-3e53db0b38bd"
   },
   "outputs": [
    {
     "name": "stdout",
     "output_type": "stream",
     "text": [
      "0.6634215519044631\n",
      "Fitting 5 folds for each of 6 candidates, totalling 30 fits\n",
      "MLPRegressor(batch_size=150, beta_1=0.999, epsilon=1e-07,\n",
      "             hidden_layer_sizes=200, max_iter=4000, shuffle=False,\n",
      "             warm_start=True)\n",
      "{'activation': 'relu', 'alpha': 0.0001, 'batch_size': 150, 'beta_1': 0.999, 'beta_2': 0.999, 'epsilon': 1e-07, 'hidden_layer_sizes': 200, 'learning_rate_init': 0.001, 'max_iter': 4000, 'shuffle': False, 'warm_start': True}\n",
      "0.6653376104779609\n"
     ]
    }
   ],
   "source": [
    "#before\n",
    "\n",
    "mlp_t = MLPRegressor(hidden_layer_sizes = 100, solver = 'adam', alpha = 0.0001, learning_rate_init = 0.001, max_iter = 1000, epsilon = 1e-8)\n",
    "mlp_t.fit(X_train, y_train[1])\n",
    "\n",
    "print (mlp_t.score(X_test, y_test[1]))\n",
    "\n",
    "# search space\n",
    "#'hidden_layer_sizes' : [100,200,300],\n",
    "#                'activation' : ['logistic', 'tanh', 'relu'],\n",
    "#               'alpha' : [0.00001, 0.0001, 0.001, 0.01],\n",
    "#                'batch_size' : [50,100,150,200],\n",
    "#                'learning_rate_init' : [0.0001, 0.001, 0.01, 0.1],\n",
    "#                'max_iter' : [1000, 2000, 4000],\n",
    "#                'shuffle' : [True, False],\n",
    "#                'warm_start' : [True, False],\n",
    "search_space = {'hidden_layer_sizes' : [200,300],\n",
    "                'activation' : ['relu'],\n",
    "                'alpha' : [0.0001],\n",
    "                'batch_size' : [150],\n",
    "                'learning_rate_init' : [0.001],\n",
    "                'max_iter' : [4000],\n",
    "                'shuffle' : [False],\n",
    "                'warm_start' : [True],\n",
    "                'beta_1' : [0.999],\n",
    "                'beta_2' : [0.999],\n",
    "                'epsilon' : [1e-7],\n",
    "                }\n",
    "\n",
    "\n",
    "\n",
    "GS9 = GridSearchCV(estimator = mlp_t,\n",
    "                  param_grid = search_space,\n",
    "                  scoring = [\"r2\", \"neg_mean_absolute_error\", \"neg_root_mean_squared_error\"],\n",
    "                  refit = \"r2\",\n",
    "                  cv = 5,\n",
    "                  n_jobs = 4,\n",
    "                  verbose = 4)\n",
    "\n",
    "GS9.fit(X_train, y_train[1])\n",
    "\n",
    "print(GS9.best_estimator_)\n",
    "print(GS9.best_params_)\n",
    "print(GS9.best_score_)"
   ]
  },
  {
   "cell_type": "code",
   "execution_count": null,
   "id": "ssiBoJFv3G3f",
   "metadata": {
    "colab": {
     "base_uri": "https://localhost:8080/"
    },
    "executionInfo": {
     "elapsed": 17097,
     "status": "ok",
     "timestamp": 1670473656823,
     "user": {
      "displayName": "Seong Won Kim",
      "userId": "17984956289819639053"
     },
     "user_tz": 300
    },
    "id": "ssiBoJFv3G3f",
    "outputId": "eb1a2d48-f321-475f-c35d-e018f01573d9"
   },
   "outputs": [
    {
     "name": "stdout",
     "output_type": "stream",
     "text": [
      "After tuning, 0.7270965401721919\n"
     ]
    }
   ],
   "source": [
    "mlp_t = MLPRegressor(batch_size=150, beta_1=0.999, epsilon=1e-07,\n",
    "             hidden_layer_sizes=200, max_iter=4000, shuffle=False,\n",
    "             warm_start=True)\n",
    "mlp_t.fit(X_train, y_train[1])\n",
    "\n",
    "print (f'After tuning, {mlp_t.score(X_test, y_test[1])}')"
   ]
  },
  {
   "cell_type": "markdown",
   "id": "kw46rf_83H4M",
   "metadata": {
    "id": "kw46rf_83H4M"
   },
   "source": [
    "### Tuned models iteration"
   ]
  },
  {
   "cell_type": "code",
   "execution_count": null,
   "id": "lnRFAswO3HTg",
   "metadata": {
    "id": "lnRFAswO3HTg"
   },
   "outputs": [],
   "source": [
    "names1 = [\"SVR\", \"Random Forest\", \"KNN\", \"Extra Trees\", \"MLP\"]\n",
    "\n",
    "\n",
    "regressors1 = [\n",
    "    SVR(kernel = 'rbf', C = 10, epsilon = 0.1, max_iter = 10000),\n",
    "    RandomForestRegressor(n_estimators = 150, max_depth = 25),\n",
    "    KNeighborsRegressor(leaf_size=1, n_neighbors=7, p=1, weights='distance'),\n",
    "    ExtraTreesRegressor(n_estimators = 500, max_depth = 40, warm_start = True),\n",
    "    MLPRegressor(activation='tanh', alpha=0.001, batch_size=100, beta_1=0.999,\n",
    "             epsilon=1e-07, hidden_layer_sizes=300, max_iter=4000,\n",
    "             shuffle=False, warm_start=True)]"
   ]
  },
  {
   "cell_type": "code",
   "execution_count": null,
   "id": "OL0dldFx4qcJ",
   "metadata": {
    "colab": {
     "base_uri": "https://localhost:8080/",
     "height": 583
    },
    "executionInfo": {
     "elapsed": 31396,
     "status": "ok",
     "timestamp": 1670473735648,
     "user": {
      "displayName": "Seong Won Kim",
      "userId": "17984956289819639053"
     },
     "user_tz": 300
    },
    "id": "OL0dldFx4qcJ",
    "outputId": "a486b6ae-ca94-4b89-fcf6-7c690efc6110"
   },
   "outputs": [
    {
     "name": "stderr",
     "output_type": "stream",
     "text": [
      "/usr/local/lib/python3.8/dist-packages/sklearn/svm/_base.py:284: ConvergenceWarning: Solver terminated early (max_iter=10000).  Consider pre-processing your data with StandardScaler or MinMaxScaler.\n",
      "  warnings.warn(\n",
      "/usr/local/lib/python3.8/dist-packages/sklearn/ensemble/_forest.py:429: UserWarning: Warm-start fitting without increasing n_estimators does not fit new trees.\n",
      "  warn(\n",
      "/usr/local/lib/python3.8/dist-packages/sklearn/svm/_base.py:284: ConvergenceWarning: Solver terminated early (max_iter=10000).  Consider pre-processing your data with StandardScaler or MinMaxScaler.\n",
      "  warnings.warn(\n",
      "/usr/local/lib/python3.8/dist-packages/sklearn/ensemble/_forest.py:429: UserWarning: Warm-start fitting without increasing n_estimators does not fit new trees.\n",
      "  warn(\n",
      "/usr/local/lib/python3.8/dist-packages/sklearn/svm/_base.py:284: ConvergenceWarning: Solver terminated early (max_iter=10000).  Consider pre-processing your data with StandardScaler or MinMaxScaler.\n",
      "  warnings.warn(\n",
      "/usr/local/lib/python3.8/dist-packages/sklearn/ensemble/_forest.py:429: UserWarning: Warm-start fitting without increasing n_estimators does not fit new trees.\n",
      "  warn(\n",
      "/usr/local/lib/python3.8/dist-packages/sklearn/svm/_base.py:284: ConvergenceWarning: Solver terminated early (max_iter=10000).  Consider pre-processing your data with StandardScaler or MinMaxScaler.\n",
      "  warnings.warn(\n",
      "/usr/local/lib/python3.8/dist-packages/sklearn/ensemble/_forest.py:429: UserWarning: Warm-start fitting without increasing n_estimators does not fit new trees.\n",
      "  warn(\n",
      "/usr/local/lib/python3.8/dist-packages/sklearn/svm/_base.py:284: ConvergenceWarning: Solver terminated early (max_iter=10000).  Consider pre-processing your data with StandardScaler or MinMaxScaler.\n",
      "  warnings.warn(\n",
      "/usr/local/lib/python3.8/dist-packages/sklearn/ensemble/_forest.py:429: UserWarning: Warm-start fitting without increasing n_estimators does not fit new trees.\n",
      "  warn(\n"
     ]
    },
    {
     "data": {
      "text/html": [
       "\n",
       "  <div id=\"df-e00c1375-d01d-4444-a113-e9a9c878d2f0\">\n",
       "    <div class=\"colab-df-container\">\n",
       "      <div>\n",
       "<style scoped>\n",
       "    .dataframe tbody tr th:only-of-type {\n",
       "        vertical-align: middle;\n",
       "    }\n",
       "\n",
       "    .dataframe tbody tr th {\n",
       "        vertical-align: top;\n",
       "    }\n",
       "\n",
       "    .dataframe thead th {\n",
       "        text-align: right;\n",
       "    }\n",
       "</style>\n",
       "<table border=\"1\" class=\"dataframe\">\n",
       "  <thead>\n",
       "    <tr style=\"text-align: right;\">\n",
       "      <th></th>\n",
       "      <th>name</th>\n",
       "      <th>score</th>\n",
       "    </tr>\n",
       "  </thead>\n",
       "  <tbody>\n",
       "    <tr>\n",
       "      <th>2</th>\n",
       "      <td>KNN</td>\n",
       "      <td>0.647794</td>\n",
       "    </tr>\n",
       "    <tr>\n",
       "      <th>1</th>\n",
       "      <td>Random Forest</td>\n",
       "      <td>0.637114</td>\n",
       "    </tr>\n",
       "    <tr>\n",
       "      <th>4</th>\n",
       "      <td>MLP</td>\n",
       "      <td>0.630447</td>\n",
       "    </tr>\n",
       "    <tr>\n",
       "      <th>3</th>\n",
       "      <td>Extra Trees</td>\n",
       "      <td>0.592256</td>\n",
       "    </tr>\n",
       "    <tr>\n",
       "      <th>0</th>\n",
       "      <td>SVR</td>\n",
       "      <td>0.572367</td>\n",
       "    </tr>\n",
       "  </tbody>\n",
       "</table>\n",
       "</div>\n",
       "      <button class=\"colab-df-convert\" onclick=\"convertToInteractive('df-e00c1375-d01d-4444-a113-e9a9c878d2f0')\"\n",
       "              title=\"Convert this dataframe to an interactive table.\"\n",
       "              style=\"display:none;\">\n",
       "        \n",
       "  <svg xmlns=\"http://www.w3.org/2000/svg\" height=\"24px\"viewBox=\"0 0 24 24\"\n",
       "       width=\"24px\">\n",
       "    <path d=\"M0 0h24v24H0V0z\" fill=\"none\"/>\n",
       "    <path d=\"M18.56 5.44l.94 2.06.94-2.06 2.06-.94-2.06-.94-.94-2.06-.94 2.06-2.06.94zm-11 1L8.5 8.5l.94-2.06 2.06-.94-2.06-.94L8.5 2.5l-.94 2.06-2.06.94zm10 10l.94 2.06.94-2.06 2.06-.94-2.06-.94-.94-2.06-.94 2.06-2.06.94z\"/><path d=\"M17.41 7.96l-1.37-1.37c-.4-.4-.92-.59-1.43-.59-.52 0-1.04.2-1.43.59L10.3 9.45l-7.72 7.72c-.78.78-.78 2.05 0 2.83L4 21.41c.39.39.9.59 1.41.59.51 0 1.02-.2 1.41-.59l7.78-7.78 2.81-2.81c.8-.78.8-2.07 0-2.86zM5.41 20L4 18.59l7.72-7.72 1.47 1.35L5.41 20z\"/>\n",
       "  </svg>\n",
       "      </button>\n",
       "      \n",
       "  <style>\n",
       "    .colab-df-container {\n",
       "      display:flex;\n",
       "      flex-wrap:wrap;\n",
       "      gap: 12px;\n",
       "    }\n",
       "\n",
       "    .colab-df-convert {\n",
       "      background-color: #E8F0FE;\n",
       "      border: none;\n",
       "      border-radius: 50%;\n",
       "      cursor: pointer;\n",
       "      display: none;\n",
       "      fill: #1967D2;\n",
       "      height: 32px;\n",
       "      padding: 0 0 0 0;\n",
       "      width: 32px;\n",
       "    }\n",
       "\n",
       "    .colab-df-convert:hover {\n",
       "      background-color: #E2EBFA;\n",
       "      box-shadow: 0px 1px 2px rgba(60, 64, 67, 0.3), 0px 1px 3px 1px rgba(60, 64, 67, 0.15);\n",
       "      fill: #174EA6;\n",
       "    }\n",
       "\n",
       "    [theme=dark] .colab-df-convert {\n",
       "      background-color: #3B4455;\n",
       "      fill: #D2E3FC;\n",
       "    }\n",
       "\n",
       "    [theme=dark] .colab-df-convert:hover {\n",
       "      background-color: #434B5C;\n",
       "      box-shadow: 0px 1px 3px 1px rgba(0, 0, 0, 0.15);\n",
       "      filter: drop-shadow(0px 1px 2px rgba(0, 0, 0, 0.3));\n",
       "      fill: #FFFFFF;\n",
       "    }\n",
       "  </style>\n",
       "\n",
       "      <script>\n",
       "        const buttonEl =\n",
       "          document.querySelector('#df-e00c1375-d01d-4444-a113-e9a9c878d2f0 button.colab-df-convert');\n",
       "        buttonEl.style.display =\n",
       "          google.colab.kernel.accessAllowed ? 'block' : 'none';\n",
       "\n",
       "        async function convertToInteractive(key) {\n",
       "          const element = document.querySelector('#df-e00c1375-d01d-4444-a113-e9a9c878d2f0');\n",
       "          const dataTable =\n",
       "            await google.colab.kernel.invokeFunction('convertToInteractive',\n",
       "                                                     [key], {});\n",
       "          if (!dataTable) return;\n",
       "\n",
       "          const docLinkHtml = 'Like what you see? Visit the ' +\n",
       "            '<a target=\"_blank\" href=https://colab.research.google.com/notebooks/data_table.ipynb>data table notebook</a>'\n",
       "            + ' to learn more about interactive tables.';\n",
       "          element.innerHTML = '';\n",
       "          dataTable['output_type'] = 'display_data';\n",
       "          await google.colab.output.renderOutput(dataTable, element);\n",
       "          const docLink = document.createElement('div');\n",
       "          docLink.innerHTML = docLinkHtml;\n",
       "          element.appendChild(docLink);\n",
       "        }\n",
       "      </script>\n",
       "    </div>\n",
       "  </div>\n",
       "  "
      ],
      "text/plain": [
       "            name     score\n",
       "2            KNN  0.647794\n",
       "1  Random Forest  0.637114\n",
       "4            MLP  0.630447\n",
       "3    Extra Trees  0.592256\n",
       "0            SVR  0.572367"
      ]
     },
     "execution_count": 66,
     "metadata": {},
     "output_type": "execute_result"
    }
   ],
   "source": [
    "\n",
    "df = pd.DataFrame()\n",
    "for j in range(0,5):\n",
    "\n",
    "  scores = []\n",
    "  for name, clf in zip(names1, regressors1):\n",
    "      clf.fit(X_train, y_train[0]);\n",
    "      score = clf.score(X_test, y_test[0]);\n",
    "      scores.append(score);\n",
    "  df[j] = scores\n",
    "\n",
    "\n",
    "df_avg = pd.DataFrame()\n",
    "df_avg['name'] = names1\n",
    "df_avg['score'] = df.mean(axis =1)\n",
    "df_sorted = df_avg.sort_values('score', ascending=False)\n",
    "df_sorted"
   ]
  }
 ],
 "metadata": {
  "colab": {
   "provenance": []
  },
  "gpuClass": "standard",
  "kernelspec": {
   "display_name": "Python 3 (ipykernel)",
   "language": "python",
   "name": "python3"
  },
  "language_info": {
   "codemirror_mode": {
    "name": "ipython",
    "version": 3
   },
   "file_extension": ".py",
   "mimetype": "text/x-python",
   "name": "python",
   "nbconvert_exporter": "python",
   "pygments_lexer": "ipython3",
   "version": "3.9.7"
  }
 },
 "nbformat": 4,
 "nbformat_minor": 5
}
