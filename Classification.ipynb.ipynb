{
 "cells": [
  {
   "cell_type": "code",
   "execution_count": 1,
   "metadata": {
    "id": "IxDfm31zHzua"
   },
   "outputs": [],
   "source": [
    "# Libraries\n",
    "import numpy as np\n",
    "import pandas as pd\n",
    "import matplotlib.pyplot as plt\n",
    "\n",
    "# data preprocessing and model evaluation\n",
    "from sklearn.neighbors import LocalOutlierFactor\n",
    "from sklearn.preprocessing import StandardScaler\n",
    "from sklearn.decomposition import PCA, KernelPCA\n",
    "from sklearn.model_selection import train_test_split, KFold, GridSearchCV, cross_validate\n",
    "from sklearn.metrics import confusion_matrix,ConfusionMatrixDisplay\n",
    "\n",
    "# classification algorithms\n",
    "from sklearn.neural_network import MLPClassifier\n",
    "from sklearn.neighbors import KNeighborsClassifier\n",
    "from sklearn.svm import SVC\n",
    "from sklearn.gaussian_process import GaussianProcessClassifier\n",
    "from sklearn.ensemble import GradientBoostingClassifier\n",
    "from sklearn.gaussian_process.kernels import RBF\n",
    "from sklearn.tree import DecisionTreeClassifier\n",
    "from sklearn.ensemble import ExtraTreesClassifier\n",
    "from sklearn.ensemble import RandomForestClassifier, AdaBoostClassifier\n",
    "from sklearn.naive_bayes import GaussianNB\n",
    "from sklearn.discriminant_analysis import QuadraticDiscriminantAnalysis\n",
    "from sklearn.linear_model import SGDClassifier"
   ]
  },
  {
   "cell_type": "markdown",
   "metadata": {
    "id": "WbFBDqgvKTAc"
   },
   "source": [
    "# Data preprocessing"
   ]
  },
  {
   "cell_type": "markdown",
   "metadata": {
    "id": "_zsonJtDKX5Q"
   },
   "source": [
    "### Importing data"
   ]
  },
  {
   "cell_type": "code",
   "execution_count": 2,
   "metadata": {
    "colab": {
     "base_uri": "https://localhost:8080/",
     "height": 424
    },
    "id": "eJ3IYg3tKOen",
    "outputId": "7cfbb644-f068-4fd2-a1b3-891eb36eaff1",
    "scrolled": false
   },
   "outputs": [
    {
     "data": {
      "text/html": [
       "\n",
       "  <div id=\"df-88faaeb6-7ecd-44aa-84e7-6c26f234976a\">\n",
       "    <div class=\"colab-df-container\">\n",
       "      <div>\n",
       "<style scoped>\n",
       "    .dataframe tbody tr th:only-of-type {\n",
       "        vertical-align: middle;\n",
       "    }\n",
       "\n",
       "    .dataframe tbody tr th {\n",
       "        vertical-align: top;\n",
       "    }\n",
       "\n",
       "    .dataframe thead th {\n",
       "        text-align: right;\n",
       "    }\n",
       "</style>\n",
       "<table border=\"1\" class=\"dataframe\">\n",
       "  <thead>\n",
       "    <tr style=\"text-align: right;\">\n",
       "      <th></th>\n",
       "      <th>name</th>\n",
       "      <th>MDVP:Fo(Hz)</th>\n",
       "      <th>MDVP:Fhi(Hz)</th>\n",
       "      <th>MDVP:Flo(Hz)</th>\n",
       "      <th>MDVP:Jitter(%)</th>\n",
       "      <th>MDVP:Jitter(Abs)</th>\n",
       "      <th>MDVP:RAP</th>\n",
       "      <th>MDVP:PPQ</th>\n",
       "      <th>Jitter:DDP</th>\n",
       "      <th>MDVP:Shimmer</th>\n",
       "      <th>...</th>\n",
       "      <th>Shimmer:DDA</th>\n",
       "      <th>NHR</th>\n",
       "      <th>HNR</th>\n",
       "      <th>status</th>\n",
       "      <th>RPDE</th>\n",
       "      <th>DFA</th>\n",
       "      <th>spread1</th>\n",
       "      <th>spread2</th>\n",
       "      <th>D2</th>\n",
       "      <th>PPE</th>\n",
       "    </tr>\n",
       "  </thead>\n",
       "  <tbody>\n",
       "    <tr>\n",
       "      <th>0</th>\n",
       "      <td>phon_R01_S01_1</td>\n",
       "      <td>119.992</td>\n",
       "      <td>157.302</td>\n",
       "      <td>74.997</td>\n",
       "      <td>0.00784</td>\n",
       "      <td>0.00007</td>\n",
       "      <td>0.00370</td>\n",
       "      <td>0.00554</td>\n",
       "      <td>0.01109</td>\n",
       "      <td>0.04374</td>\n",
       "      <td>...</td>\n",
       "      <td>0.06545</td>\n",
       "      <td>0.02211</td>\n",
       "      <td>21.033</td>\n",
       "      <td>1</td>\n",
       "      <td>0.414783</td>\n",
       "      <td>0.815285</td>\n",
       "      <td>-4.813031</td>\n",
       "      <td>0.266482</td>\n",
       "      <td>2.301442</td>\n",
       "      <td>0.284654</td>\n",
       "    </tr>\n",
       "    <tr>\n",
       "      <th>1</th>\n",
       "      <td>phon_R01_S01_2</td>\n",
       "      <td>122.400</td>\n",
       "      <td>148.650</td>\n",
       "      <td>113.819</td>\n",
       "      <td>0.00968</td>\n",
       "      <td>0.00008</td>\n",
       "      <td>0.00465</td>\n",
       "      <td>0.00696</td>\n",
       "      <td>0.01394</td>\n",
       "      <td>0.06134</td>\n",
       "      <td>...</td>\n",
       "      <td>0.09403</td>\n",
       "      <td>0.01929</td>\n",
       "      <td>19.085</td>\n",
       "      <td>1</td>\n",
       "      <td>0.458359</td>\n",
       "      <td>0.819521</td>\n",
       "      <td>-4.075192</td>\n",
       "      <td>0.335590</td>\n",
       "      <td>2.486855</td>\n",
       "      <td>0.368674</td>\n",
       "    </tr>\n",
       "    <tr>\n",
       "      <th>2</th>\n",
       "      <td>phon_R01_S01_3</td>\n",
       "      <td>116.682</td>\n",
       "      <td>131.111</td>\n",
       "      <td>111.555</td>\n",
       "      <td>0.01050</td>\n",
       "      <td>0.00009</td>\n",
       "      <td>0.00544</td>\n",
       "      <td>0.00781</td>\n",
       "      <td>0.01633</td>\n",
       "      <td>0.05233</td>\n",
       "      <td>...</td>\n",
       "      <td>0.08270</td>\n",
       "      <td>0.01309</td>\n",
       "      <td>20.651</td>\n",
       "      <td>1</td>\n",
       "      <td>0.429895</td>\n",
       "      <td>0.825288</td>\n",
       "      <td>-4.443179</td>\n",
       "      <td>0.311173</td>\n",
       "      <td>2.342259</td>\n",
       "      <td>0.332634</td>\n",
       "    </tr>\n",
       "    <tr>\n",
       "      <th>3</th>\n",
       "      <td>phon_R01_S01_4</td>\n",
       "      <td>116.676</td>\n",
       "      <td>137.871</td>\n",
       "      <td>111.366</td>\n",
       "      <td>0.00997</td>\n",
       "      <td>0.00009</td>\n",
       "      <td>0.00502</td>\n",
       "      <td>0.00698</td>\n",
       "      <td>0.01505</td>\n",
       "      <td>0.05492</td>\n",
       "      <td>...</td>\n",
       "      <td>0.08771</td>\n",
       "      <td>0.01353</td>\n",
       "      <td>20.644</td>\n",
       "      <td>1</td>\n",
       "      <td>0.434969</td>\n",
       "      <td>0.819235</td>\n",
       "      <td>-4.117501</td>\n",
       "      <td>0.334147</td>\n",
       "      <td>2.405554</td>\n",
       "      <td>0.368975</td>\n",
       "    </tr>\n",
       "    <tr>\n",
       "      <th>4</th>\n",
       "      <td>phon_R01_S01_5</td>\n",
       "      <td>116.014</td>\n",
       "      <td>141.781</td>\n",
       "      <td>110.655</td>\n",
       "      <td>0.01284</td>\n",
       "      <td>0.00011</td>\n",
       "      <td>0.00655</td>\n",
       "      <td>0.00908</td>\n",
       "      <td>0.01966</td>\n",
       "      <td>0.06425</td>\n",
       "      <td>...</td>\n",
       "      <td>0.10470</td>\n",
       "      <td>0.01767</td>\n",
       "      <td>19.649</td>\n",
       "      <td>1</td>\n",
       "      <td>0.417356</td>\n",
       "      <td>0.823484</td>\n",
       "      <td>-3.747787</td>\n",
       "      <td>0.234513</td>\n",
       "      <td>2.332180</td>\n",
       "      <td>0.410335</td>\n",
       "    </tr>\n",
       "    <tr>\n",
       "      <th>...</th>\n",
       "      <td>...</td>\n",
       "      <td>...</td>\n",
       "      <td>...</td>\n",
       "      <td>...</td>\n",
       "      <td>...</td>\n",
       "      <td>...</td>\n",
       "      <td>...</td>\n",
       "      <td>...</td>\n",
       "      <td>...</td>\n",
       "      <td>...</td>\n",
       "      <td>...</td>\n",
       "      <td>...</td>\n",
       "      <td>...</td>\n",
       "      <td>...</td>\n",
       "      <td>...</td>\n",
       "      <td>...</td>\n",
       "      <td>...</td>\n",
       "      <td>...</td>\n",
       "      <td>...</td>\n",
       "      <td>...</td>\n",
       "      <td>...</td>\n",
       "    </tr>\n",
       "    <tr>\n",
       "      <th>190</th>\n",
       "      <td>phon_R01_S50_2</td>\n",
       "      <td>174.188</td>\n",
       "      <td>230.978</td>\n",
       "      <td>94.261</td>\n",
       "      <td>0.00459</td>\n",
       "      <td>0.00003</td>\n",
       "      <td>0.00263</td>\n",
       "      <td>0.00259</td>\n",
       "      <td>0.00790</td>\n",
       "      <td>0.04087</td>\n",
       "      <td>...</td>\n",
       "      <td>0.07008</td>\n",
       "      <td>0.02764</td>\n",
       "      <td>19.517</td>\n",
       "      <td>0</td>\n",
       "      <td>0.448439</td>\n",
       "      <td>0.657899</td>\n",
       "      <td>-6.538586</td>\n",
       "      <td>0.121952</td>\n",
       "      <td>2.657476</td>\n",
       "      <td>0.133050</td>\n",
       "    </tr>\n",
       "    <tr>\n",
       "      <th>191</th>\n",
       "      <td>phon_R01_S50_3</td>\n",
       "      <td>209.516</td>\n",
       "      <td>253.017</td>\n",
       "      <td>89.488</td>\n",
       "      <td>0.00564</td>\n",
       "      <td>0.00003</td>\n",
       "      <td>0.00331</td>\n",
       "      <td>0.00292</td>\n",
       "      <td>0.00994</td>\n",
       "      <td>0.02751</td>\n",
       "      <td>...</td>\n",
       "      <td>0.04812</td>\n",
       "      <td>0.01810</td>\n",
       "      <td>19.147</td>\n",
       "      <td>0</td>\n",
       "      <td>0.431674</td>\n",
       "      <td>0.683244</td>\n",
       "      <td>-6.195325</td>\n",
       "      <td>0.129303</td>\n",
       "      <td>2.784312</td>\n",
       "      <td>0.168895</td>\n",
       "    </tr>\n",
       "    <tr>\n",
       "      <th>192</th>\n",
       "      <td>phon_R01_S50_4</td>\n",
       "      <td>174.688</td>\n",
       "      <td>240.005</td>\n",
       "      <td>74.287</td>\n",
       "      <td>0.01360</td>\n",
       "      <td>0.00008</td>\n",
       "      <td>0.00624</td>\n",
       "      <td>0.00564</td>\n",
       "      <td>0.01873</td>\n",
       "      <td>0.02308</td>\n",
       "      <td>...</td>\n",
       "      <td>0.03804</td>\n",
       "      <td>0.10715</td>\n",
       "      <td>17.883</td>\n",
       "      <td>0</td>\n",
       "      <td>0.407567</td>\n",
       "      <td>0.655683</td>\n",
       "      <td>-6.787197</td>\n",
       "      <td>0.158453</td>\n",
       "      <td>2.679772</td>\n",
       "      <td>0.131728</td>\n",
       "    </tr>\n",
       "    <tr>\n",
       "      <th>193</th>\n",
       "      <td>phon_R01_S50_5</td>\n",
       "      <td>198.764</td>\n",
       "      <td>396.961</td>\n",
       "      <td>74.904</td>\n",
       "      <td>0.00740</td>\n",
       "      <td>0.00004</td>\n",
       "      <td>0.00370</td>\n",
       "      <td>0.00390</td>\n",
       "      <td>0.01109</td>\n",
       "      <td>0.02296</td>\n",
       "      <td>...</td>\n",
       "      <td>0.03794</td>\n",
       "      <td>0.07223</td>\n",
       "      <td>19.020</td>\n",
       "      <td>0</td>\n",
       "      <td>0.451221</td>\n",
       "      <td>0.643956</td>\n",
       "      <td>-6.744577</td>\n",
       "      <td>0.207454</td>\n",
       "      <td>2.138608</td>\n",
       "      <td>0.123306</td>\n",
       "    </tr>\n",
       "    <tr>\n",
       "      <th>194</th>\n",
       "      <td>phon_R01_S50_6</td>\n",
       "      <td>214.289</td>\n",
       "      <td>260.277</td>\n",
       "      <td>77.973</td>\n",
       "      <td>0.00567</td>\n",
       "      <td>0.00003</td>\n",
       "      <td>0.00295</td>\n",
       "      <td>0.00317</td>\n",
       "      <td>0.00885</td>\n",
       "      <td>0.01884</td>\n",
       "      <td>...</td>\n",
       "      <td>0.03078</td>\n",
       "      <td>0.04398</td>\n",
       "      <td>21.209</td>\n",
       "      <td>0</td>\n",
       "      <td>0.462803</td>\n",
       "      <td>0.664357</td>\n",
       "      <td>-5.724056</td>\n",
       "      <td>0.190667</td>\n",
       "      <td>2.555477</td>\n",
       "      <td>0.148569</td>\n",
       "    </tr>\n",
       "  </tbody>\n",
       "</table>\n",
       "<p>195 rows × 24 columns</p>\n",
       "</div>\n",
       "      <button class=\"colab-df-convert\" onclick=\"convertToInteractive('df-88faaeb6-7ecd-44aa-84e7-6c26f234976a')\"\n",
       "              title=\"Convert this dataframe to an interactive table.\"\n",
       "              style=\"display:none;\">\n",
       "        \n",
       "  <svg xmlns=\"http://www.w3.org/2000/svg\" height=\"24px\"viewBox=\"0 0 24 24\"\n",
       "       width=\"24px\">\n",
       "    <path d=\"M0 0h24v24H0V0z\" fill=\"none\"/>\n",
       "    <path d=\"M18.56 5.44l.94 2.06.94-2.06 2.06-.94-2.06-.94-.94-2.06-.94 2.06-2.06.94zm-11 1L8.5 8.5l.94-2.06 2.06-.94-2.06-.94L8.5 2.5l-.94 2.06-2.06.94zm10 10l.94 2.06.94-2.06 2.06-.94-2.06-.94-.94-2.06-.94 2.06-2.06.94z\"/><path d=\"M17.41 7.96l-1.37-1.37c-.4-.4-.92-.59-1.43-.59-.52 0-1.04.2-1.43.59L10.3 9.45l-7.72 7.72c-.78.78-.78 2.05 0 2.83L4 21.41c.39.39.9.59 1.41.59.51 0 1.02-.2 1.41-.59l7.78-7.78 2.81-2.81c.8-.78.8-2.07 0-2.86zM5.41 20L4 18.59l7.72-7.72 1.47 1.35L5.41 20z\"/>\n",
       "  </svg>\n",
       "      </button>\n",
       "      \n",
       "  <style>\n",
       "    .colab-df-container {\n",
       "      display:flex;\n",
       "      flex-wrap:wrap;\n",
       "      gap: 12px;\n",
       "    }\n",
       "\n",
       "    .colab-df-convert {\n",
       "      background-color: #E8F0FE;\n",
       "      border: none;\n",
       "      border-radius: 50%;\n",
       "      cursor: pointer;\n",
       "      display: none;\n",
       "      fill: #1967D2;\n",
       "      height: 32px;\n",
       "      padding: 0 0 0 0;\n",
       "      width: 32px;\n",
       "    }\n",
       "\n",
       "    .colab-df-convert:hover {\n",
       "      background-color: #E2EBFA;\n",
       "      box-shadow: 0px 1px 2px rgba(60, 64, 67, 0.3), 0px 1px 3px 1px rgba(60, 64, 67, 0.15);\n",
       "      fill: #174EA6;\n",
       "    }\n",
       "\n",
       "    [theme=dark] .colab-df-convert {\n",
       "      background-color: #3B4455;\n",
       "      fill: #D2E3FC;\n",
       "    }\n",
       "\n",
       "    [theme=dark] .colab-df-convert:hover {\n",
       "      background-color: #434B5C;\n",
       "      box-shadow: 0px 1px 3px 1px rgba(0, 0, 0, 0.15);\n",
       "      filter: drop-shadow(0px 1px 2px rgba(0, 0, 0, 0.3));\n",
       "      fill: #FFFFFF;\n",
       "    }\n",
       "  </style>\n",
       "\n",
       "      <script>\n",
       "        const buttonEl =\n",
       "          document.querySelector('#df-88faaeb6-7ecd-44aa-84e7-6c26f234976a button.colab-df-convert');\n",
       "        buttonEl.style.display =\n",
       "          google.colab.kernel.accessAllowed ? 'block' : 'none';\n",
       "\n",
       "        async function convertToInteractive(key) {\n",
       "          const element = document.querySelector('#df-88faaeb6-7ecd-44aa-84e7-6c26f234976a');\n",
       "          const dataTable =\n",
       "            await google.colab.kernel.invokeFunction('convertToInteractive',\n",
       "                                                     [key], {});\n",
       "          if (!dataTable) return;\n",
       "\n",
       "          const docLinkHtml = 'Like what you see? Visit the ' +\n",
       "            '<a target=\"_blank\" href=https://colab.research.google.com/notebooks/data_table.ipynb>data table notebook</a>'\n",
       "            + ' to learn more about interactive tables.';\n",
       "          element.innerHTML = '';\n",
       "          dataTable['output_type'] = 'display_data';\n",
       "          await google.colab.output.renderOutput(dataTable, element);\n",
       "          const docLink = document.createElement('div');\n",
       "          docLink.innerHTML = docLinkHtml;\n",
       "          element.appendChild(docLink);\n",
       "        }\n",
       "      </script>\n",
       "    </div>\n",
       "  </div>\n",
       "  "
      ],
      "text/plain": [
       "               name  MDVP:Fo(Hz)  MDVP:Fhi(Hz)  MDVP:Flo(Hz)  MDVP:Jitter(%)  \\\n",
       "0    phon_R01_S01_1      119.992       157.302        74.997         0.00784   \n",
       "1    phon_R01_S01_2      122.400       148.650       113.819         0.00968   \n",
       "2    phon_R01_S01_3      116.682       131.111       111.555         0.01050   \n",
       "3    phon_R01_S01_4      116.676       137.871       111.366         0.00997   \n",
       "4    phon_R01_S01_5      116.014       141.781       110.655         0.01284   \n",
       "..              ...          ...           ...           ...             ...   \n",
       "190  phon_R01_S50_2      174.188       230.978        94.261         0.00459   \n",
       "191  phon_R01_S50_3      209.516       253.017        89.488         0.00564   \n",
       "192  phon_R01_S50_4      174.688       240.005        74.287         0.01360   \n",
       "193  phon_R01_S50_5      198.764       396.961        74.904         0.00740   \n",
       "194  phon_R01_S50_6      214.289       260.277        77.973         0.00567   \n",
       "\n",
       "     MDVP:Jitter(Abs)  MDVP:RAP  MDVP:PPQ  Jitter:DDP  MDVP:Shimmer  ...  \\\n",
       "0             0.00007   0.00370   0.00554     0.01109       0.04374  ...   \n",
       "1             0.00008   0.00465   0.00696     0.01394       0.06134  ...   \n",
       "2             0.00009   0.00544   0.00781     0.01633       0.05233  ...   \n",
       "3             0.00009   0.00502   0.00698     0.01505       0.05492  ...   \n",
       "4             0.00011   0.00655   0.00908     0.01966       0.06425  ...   \n",
       "..                ...       ...       ...         ...           ...  ...   \n",
       "190           0.00003   0.00263   0.00259     0.00790       0.04087  ...   \n",
       "191           0.00003   0.00331   0.00292     0.00994       0.02751  ...   \n",
       "192           0.00008   0.00624   0.00564     0.01873       0.02308  ...   \n",
       "193           0.00004   0.00370   0.00390     0.01109       0.02296  ...   \n",
       "194           0.00003   0.00295   0.00317     0.00885       0.01884  ...   \n",
       "\n",
       "     Shimmer:DDA      NHR     HNR  status      RPDE       DFA   spread1  \\\n",
       "0        0.06545  0.02211  21.033       1  0.414783  0.815285 -4.813031   \n",
       "1        0.09403  0.01929  19.085       1  0.458359  0.819521 -4.075192   \n",
       "2        0.08270  0.01309  20.651       1  0.429895  0.825288 -4.443179   \n",
       "3        0.08771  0.01353  20.644       1  0.434969  0.819235 -4.117501   \n",
       "4        0.10470  0.01767  19.649       1  0.417356  0.823484 -3.747787   \n",
       "..           ...      ...     ...     ...       ...       ...       ...   \n",
       "190      0.07008  0.02764  19.517       0  0.448439  0.657899 -6.538586   \n",
       "191      0.04812  0.01810  19.147       0  0.431674  0.683244 -6.195325   \n",
       "192      0.03804  0.10715  17.883       0  0.407567  0.655683 -6.787197   \n",
       "193      0.03794  0.07223  19.020       0  0.451221  0.643956 -6.744577   \n",
       "194      0.03078  0.04398  21.209       0  0.462803  0.664357 -5.724056   \n",
       "\n",
       "      spread2        D2       PPE  \n",
       "0    0.266482  2.301442  0.284654  \n",
       "1    0.335590  2.486855  0.368674  \n",
       "2    0.311173  2.342259  0.332634  \n",
       "3    0.334147  2.405554  0.368975  \n",
       "4    0.234513  2.332180  0.410335  \n",
       "..        ...       ...       ...  \n",
       "190  0.121952  2.657476  0.133050  \n",
       "191  0.129303  2.784312  0.168895  \n",
       "192  0.158453  2.679772  0.131728  \n",
       "193  0.207454  2.138608  0.123306  \n",
       "194  0.190667  2.555477  0.148569  \n",
       "\n",
       "[195 rows x 24 columns]"
      ]
     },
     "execution_count": 2,
     "metadata": {},
     "output_type": "execute_result"
    }
   ],
   "source": [
    "URL = 'https://raw.githubusercontent.com/Andrewkimmm/Parkinson/main/parkinsons.data'\n",
    "data = pd.read_csv(URL)\n",
    "data"
   ]
  },
  {
   "cell_type": "markdown",
   "metadata": {
    "id": "6qJcWLmKCirl"
   },
   "source": [
    "### Dropping Unnecessary Columns"
   ]
  },
  {
   "cell_type": "markdown",
   "metadata": {
    "id": "5Xhrm4n1CpAV"
   },
   "source": [
    "Among the columns, *name* is not a feature, and *status* is the label (status = 0: not diagnosed, 1: diagnosed).\n",
    "\n",
    "Highly correlated columns are not very informative as features, but they do take extra storage and computing resource so they should be dropped."
   ]
  },
  {
   "cell_type": "code",
   "execution_count": 3,
   "metadata": {
    "colab": {
     "base_uri": "https://localhost:8080/",
     "height": 516
    },
    "id": "qFHNhbyHEie8",
    "outputId": "646f7387-a031-42aa-e35a-6e447a33829c"
   },
   "outputs": [
    {
     "name": "stdout",
     "output_type": "stream",
     "text": [
      "Columns dropped: ['MDVP:Jitter(Abs)', 'MDVP:RAP', 'MDVP:PPQ', 'Jitter:DDP', 'MDVP:Shimmer(dB)', 'Shimmer:APQ3', 'Shimmer:APQ5', 'MDVP:APQ', 'Shimmer:DDA', 'NHR', 'PPE']\n",
      "Feature matrix: (195, 11)\n",
      "Label matrix: (195,)\n",
      "Number of features: 11\n",
      "\n"
     ]
    },
    {
     "data": {
      "text/html": [
       "\n",
       "  <div id=\"df-8badd95c-7de3-4e0d-8e8b-443767cd6f4f\">\n",
       "    <div class=\"colab-df-container\">\n",
       "      <div>\n",
       "<style scoped>\n",
       "    .dataframe tbody tr th:only-of-type {\n",
       "        vertical-align: middle;\n",
       "    }\n",
       "\n",
       "    .dataframe tbody tr th {\n",
       "        vertical-align: top;\n",
       "    }\n",
       "\n",
       "    .dataframe thead th {\n",
       "        text-align: right;\n",
       "    }\n",
       "</style>\n",
       "<table border=\"1\" class=\"dataframe\">\n",
       "  <thead>\n",
       "    <tr style=\"text-align: right;\">\n",
       "      <th></th>\n",
       "      <th>MDVP:Fo(Hz)</th>\n",
       "      <th>MDVP:Fhi(Hz)</th>\n",
       "      <th>MDVP:Flo(Hz)</th>\n",
       "      <th>MDVP:Jitter(%)</th>\n",
       "      <th>MDVP:Shimmer</th>\n",
       "      <th>HNR</th>\n",
       "      <th>RPDE</th>\n",
       "      <th>DFA</th>\n",
       "      <th>spread1</th>\n",
       "      <th>spread2</th>\n",
       "      <th>D2</th>\n",
       "    </tr>\n",
       "  </thead>\n",
       "  <tbody>\n",
       "    <tr>\n",
       "      <th>0</th>\n",
       "      <td>119.992</td>\n",
       "      <td>157.302</td>\n",
       "      <td>74.997</td>\n",
       "      <td>0.00784</td>\n",
       "      <td>0.04374</td>\n",
       "      <td>21.033</td>\n",
       "      <td>0.414783</td>\n",
       "      <td>0.815285</td>\n",
       "      <td>-4.813031</td>\n",
       "      <td>0.266482</td>\n",
       "      <td>2.301442</td>\n",
       "    </tr>\n",
       "    <tr>\n",
       "      <th>1</th>\n",
       "      <td>122.400</td>\n",
       "      <td>148.650</td>\n",
       "      <td>113.819</td>\n",
       "      <td>0.00968</td>\n",
       "      <td>0.06134</td>\n",
       "      <td>19.085</td>\n",
       "      <td>0.458359</td>\n",
       "      <td>0.819521</td>\n",
       "      <td>-4.075192</td>\n",
       "      <td>0.335590</td>\n",
       "      <td>2.486855</td>\n",
       "    </tr>\n",
       "    <tr>\n",
       "      <th>2</th>\n",
       "      <td>116.682</td>\n",
       "      <td>131.111</td>\n",
       "      <td>111.555</td>\n",
       "      <td>0.01050</td>\n",
       "      <td>0.05233</td>\n",
       "      <td>20.651</td>\n",
       "      <td>0.429895</td>\n",
       "      <td>0.825288</td>\n",
       "      <td>-4.443179</td>\n",
       "      <td>0.311173</td>\n",
       "      <td>2.342259</td>\n",
       "    </tr>\n",
       "    <tr>\n",
       "      <th>3</th>\n",
       "      <td>116.676</td>\n",
       "      <td>137.871</td>\n",
       "      <td>111.366</td>\n",
       "      <td>0.00997</td>\n",
       "      <td>0.05492</td>\n",
       "      <td>20.644</td>\n",
       "      <td>0.434969</td>\n",
       "      <td>0.819235</td>\n",
       "      <td>-4.117501</td>\n",
       "      <td>0.334147</td>\n",
       "      <td>2.405554</td>\n",
       "    </tr>\n",
       "    <tr>\n",
       "      <th>4</th>\n",
       "      <td>116.014</td>\n",
       "      <td>141.781</td>\n",
       "      <td>110.655</td>\n",
       "      <td>0.01284</td>\n",
       "      <td>0.06425</td>\n",
       "      <td>19.649</td>\n",
       "      <td>0.417356</td>\n",
       "      <td>0.823484</td>\n",
       "      <td>-3.747787</td>\n",
       "      <td>0.234513</td>\n",
       "      <td>2.332180</td>\n",
       "    </tr>\n",
       "    <tr>\n",
       "      <th>...</th>\n",
       "      <td>...</td>\n",
       "      <td>...</td>\n",
       "      <td>...</td>\n",
       "      <td>...</td>\n",
       "      <td>...</td>\n",
       "      <td>...</td>\n",
       "      <td>...</td>\n",
       "      <td>...</td>\n",
       "      <td>...</td>\n",
       "      <td>...</td>\n",
       "      <td>...</td>\n",
       "    </tr>\n",
       "    <tr>\n",
       "      <th>190</th>\n",
       "      <td>174.188</td>\n",
       "      <td>230.978</td>\n",
       "      <td>94.261</td>\n",
       "      <td>0.00459</td>\n",
       "      <td>0.04087</td>\n",
       "      <td>19.517</td>\n",
       "      <td>0.448439</td>\n",
       "      <td>0.657899</td>\n",
       "      <td>-6.538586</td>\n",
       "      <td>0.121952</td>\n",
       "      <td>2.657476</td>\n",
       "    </tr>\n",
       "    <tr>\n",
       "      <th>191</th>\n",
       "      <td>209.516</td>\n",
       "      <td>253.017</td>\n",
       "      <td>89.488</td>\n",
       "      <td>0.00564</td>\n",
       "      <td>0.02751</td>\n",
       "      <td>19.147</td>\n",
       "      <td>0.431674</td>\n",
       "      <td>0.683244</td>\n",
       "      <td>-6.195325</td>\n",
       "      <td>0.129303</td>\n",
       "      <td>2.784312</td>\n",
       "    </tr>\n",
       "    <tr>\n",
       "      <th>192</th>\n",
       "      <td>174.688</td>\n",
       "      <td>240.005</td>\n",
       "      <td>74.287</td>\n",
       "      <td>0.01360</td>\n",
       "      <td>0.02308</td>\n",
       "      <td>17.883</td>\n",
       "      <td>0.407567</td>\n",
       "      <td>0.655683</td>\n",
       "      <td>-6.787197</td>\n",
       "      <td>0.158453</td>\n",
       "      <td>2.679772</td>\n",
       "    </tr>\n",
       "    <tr>\n",
       "      <th>193</th>\n",
       "      <td>198.764</td>\n",
       "      <td>396.961</td>\n",
       "      <td>74.904</td>\n",
       "      <td>0.00740</td>\n",
       "      <td>0.02296</td>\n",
       "      <td>19.020</td>\n",
       "      <td>0.451221</td>\n",
       "      <td>0.643956</td>\n",
       "      <td>-6.744577</td>\n",
       "      <td>0.207454</td>\n",
       "      <td>2.138608</td>\n",
       "    </tr>\n",
       "    <tr>\n",
       "      <th>194</th>\n",
       "      <td>214.289</td>\n",
       "      <td>260.277</td>\n",
       "      <td>77.973</td>\n",
       "      <td>0.00567</td>\n",
       "      <td>0.01884</td>\n",
       "      <td>21.209</td>\n",
       "      <td>0.462803</td>\n",
       "      <td>0.664357</td>\n",
       "      <td>-5.724056</td>\n",
       "      <td>0.190667</td>\n",
       "      <td>2.555477</td>\n",
       "    </tr>\n",
       "  </tbody>\n",
       "</table>\n",
       "<p>195 rows × 11 columns</p>\n",
       "</div>\n",
       "      <button class=\"colab-df-convert\" onclick=\"convertToInteractive('df-8badd95c-7de3-4e0d-8e8b-443767cd6f4f')\"\n",
       "              title=\"Convert this dataframe to an interactive table.\"\n",
       "              style=\"display:none;\">\n",
       "        \n",
       "  <svg xmlns=\"http://www.w3.org/2000/svg\" height=\"24px\"viewBox=\"0 0 24 24\"\n",
       "       width=\"24px\">\n",
       "    <path d=\"M0 0h24v24H0V0z\" fill=\"none\"/>\n",
       "    <path d=\"M18.56 5.44l.94 2.06.94-2.06 2.06-.94-2.06-.94-.94-2.06-.94 2.06-2.06.94zm-11 1L8.5 8.5l.94-2.06 2.06-.94-2.06-.94L8.5 2.5l-.94 2.06-2.06.94zm10 10l.94 2.06.94-2.06 2.06-.94-2.06-.94-.94-2.06-.94 2.06-2.06.94z\"/><path d=\"M17.41 7.96l-1.37-1.37c-.4-.4-.92-.59-1.43-.59-.52 0-1.04.2-1.43.59L10.3 9.45l-7.72 7.72c-.78.78-.78 2.05 0 2.83L4 21.41c.39.39.9.59 1.41.59.51 0 1.02-.2 1.41-.59l7.78-7.78 2.81-2.81c.8-.78.8-2.07 0-2.86zM5.41 20L4 18.59l7.72-7.72 1.47 1.35L5.41 20z\"/>\n",
       "  </svg>\n",
       "      </button>\n",
       "      \n",
       "  <style>\n",
       "    .colab-df-container {\n",
       "      display:flex;\n",
       "      flex-wrap:wrap;\n",
       "      gap: 12px;\n",
       "    }\n",
       "\n",
       "    .colab-df-convert {\n",
       "      background-color: #E8F0FE;\n",
       "      border: none;\n",
       "      border-radius: 50%;\n",
       "      cursor: pointer;\n",
       "      display: none;\n",
       "      fill: #1967D2;\n",
       "      height: 32px;\n",
       "      padding: 0 0 0 0;\n",
       "      width: 32px;\n",
       "    }\n",
       "\n",
       "    .colab-df-convert:hover {\n",
       "      background-color: #E2EBFA;\n",
       "      box-shadow: 0px 1px 2px rgba(60, 64, 67, 0.3), 0px 1px 3px 1px rgba(60, 64, 67, 0.15);\n",
       "      fill: #174EA6;\n",
       "    }\n",
       "\n",
       "    [theme=dark] .colab-df-convert {\n",
       "      background-color: #3B4455;\n",
       "      fill: #D2E3FC;\n",
       "    }\n",
       "\n",
       "    [theme=dark] .colab-df-convert:hover {\n",
       "      background-color: #434B5C;\n",
       "      box-shadow: 0px 1px 3px 1px rgba(0, 0, 0, 0.15);\n",
       "      filter: drop-shadow(0px 1px 2px rgba(0, 0, 0, 0.3));\n",
       "      fill: #FFFFFF;\n",
       "    }\n",
       "  </style>\n",
       "\n",
       "      <script>\n",
       "        const buttonEl =\n",
       "          document.querySelector('#df-8badd95c-7de3-4e0d-8e8b-443767cd6f4f button.colab-df-convert');\n",
       "        buttonEl.style.display =\n",
       "          google.colab.kernel.accessAllowed ? 'block' : 'none';\n",
       "\n",
       "        async function convertToInteractive(key) {\n",
       "          const element = document.querySelector('#df-8badd95c-7de3-4e0d-8e8b-443767cd6f4f');\n",
       "          const dataTable =\n",
       "            await google.colab.kernel.invokeFunction('convertToInteractive',\n",
       "                                                     [key], {});\n",
       "          if (!dataTable) return;\n",
       "\n",
       "          const docLinkHtml = 'Like what you see? Visit the ' +\n",
       "            '<a target=\"_blank\" href=https://colab.research.google.com/notebooks/data_table.ipynb>data table notebook</a>'\n",
       "            + ' to learn more about interactive tables.';\n",
       "          element.innerHTML = '';\n",
       "          dataTable['output_type'] = 'display_data';\n",
       "          await google.colab.output.renderOutput(dataTable, element);\n",
       "          const docLink = document.createElement('div');\n",
       "          docLink.innerHTML = docLinkHtml;\n",
       "          element.appendChild(docLink);\n",
       "        }\n",
       "      </script>\n",
       "    </div>\n",
       "  </div>\n",
       "  "
      ],
      "text/plain": [
       "     MDVP:Fo(Hz)  MDVP:Fhi(Hz)  MDVP:Flo(Hz)  MDVP:Jitter(%)  MDVP:Shimmer  \\\n",
       "0        119.992       157.302        74.997         0.00784       0.04374   \n",
       "1        122.400       148.650       113.819         0.00968       0.06134   \n",
       "2        116.682       131.111       111.555         0.01050       0.05233   \n",
       "3        116.676       137.871       111.366         0.00997       0.05492   \n",
       "4        116.014       141.781       110.655         0.01284       0.06425   \n",
       "..           ...           ...           ...             ...           ...   \n",
       "190      174.188       230.978        94.261         0.00459       0.04087   \n",
       "191      209.516       253.017        89.488         0.00564       0.02751   \n",
       "192      174.688       240.005        74.287         0.01360       0.02308   \n",
       "193      198.764       396.961        74.904         0.00740       0.02296   \n",
       "194      214.289       260.277        77.973         0.00567       0.01884   \n",
       "\n",
       "        HNR      RPDE       DFA   spread1   spread2        D2  \n",
       "0    21.033  0.414783  0.815285 -4.813031  0.266482  2.301442  \n",
       "1    19.085  0.458359  0.819521 -4.075192  0.335590  2.486855  \n",
       "2    20.651  0.429895  0.825288 -4.443179  0.311173  2.342259  \n",
       "3    20.644  0.434969  0.819235 -4.117501  0.334147  2.405554  \n",
       "4    19.649  0.417356  0.823484 -3.747787  0.234513  2.332180  \n",
       "..      ...       ...       ...       ...       ...       ...  \n",
       "190  19.517  0.448439  0.657899 -6.538586  0.121952  2.657476  \n",
       "191  19.147  0.431674  0.683244 -6.195325  0.129303  2.784312  \n",
       "192  17.883  0.407567  0.655683 -6.787197  0.158453  2.679772  \n",
       "193  19.020  0.451221  0.643956 -6.744577  0.207454  2.138608  \n",
       "194  21.209  0.462803  0.664357 -5.724056  0.190667  2.555477  \n",
       "\n",
       "[195 rows x 11 columns]"
      ]
     },
     "execution_count": 3,
     "metadata": {},
     "output_type": "execute_result"
    }
   ],
   "source": [
    "# remove name, status\n",
    "# split features and labels\n",
    "\n",
    "# pd dataframe\n",
    "df_feature = data.drop (['name','status'], axis=1)\n",
    "df_label = data['status']\n",
    "\n",
    "# correlation matrix\n",
    "corr_matrix = df_feature.corr().abs()\n",
    "upper_tri = corr_matrix.where(np.triu(np.ones(corr_matrix.shape), k=1).astype(bool))\n",
    "\n",
    "# high corr columns to drop\n",
    "to_drop = [column for column in upper_tri.columns if any(upper_tri[column] > 0.9)]\n",
    "\n",
    "# Drop features \n",
    "df_feature_dropped = pd.DataFrame.drop (df_feature, labels = to_drop, axis=1)\n",
    "\n",
    "\n",
    "# result to numpy array\n",
    "feature = df_feature_dropped.to_numpy()\n",
    "label = df_label.to_numpy()\n",
    "num_features = feature.shape[1]\n",
    "\n",
    "print (f\"Columns dropped: {to_drop}\")\n",
    "print (f\"Feature matrix: {feature.shape}\")\n",
    "print (f\"Label matrix: {label.shape}\")\n",
    "print (f\"Number of features: {num_features}\\n\")\n",
    "df_feature_dropped # 195 x 11"
   ]
  },
  {
   "cell_type": "markdown",
   "metadata": {
    "id": "as0LEF3KK1aA"
   },
   "source": [
    "### Missing/Null Values\n"
   ]
  },
  {
   "cell_type": "markdown",
   "metadata": {
    "id": "UK47dhpTrWCV"
   },
   "source": [
    "No missing data were detected from the reduced dataset."
   ]
  },
  {
   "cell_type": "code",
   "execution_count": 4,
   "metadata": {
    "colab": {
     "base_uri": "https://localhost:8080/",
     "height": 0
    },
    "id": "4tGEYNF5KSXq",
    "outputId": "3706a9e5-062c-4c56-ec7b-c4387fbeda92"
   },
   "outputs": [
    {
     "name": "stdout",
     "output_type": "stream",
     "text": [
      "MDVP:Fo(Hz)       False\n",
      "MDVP:Fhi(Hz)      False\n",
      "MDVP:Flo(Hz)      False\n",
      "MDVP:Jitter(%)    False\n",
      "MDVP:Shimmer      False\n",
      "HNR               False\n",
      "RPDE              False\n",
      "DFA               False\n",
      "spread1           False\n",
      "spread2           False\n",
      "D2                False\n",
      "dtype: bool\n"
     ]
    }
   ],
   "source": [
    "print(df_feature_dropped.isnull().any())"
   ]
  },
  {
   "cell_type": "markdown",
   "metadata": {
    "id": "hvoi1v4ELSsu"
   },
   "source": [
    "### Outlier Detection & Visualization"
   ]
  },
  {
   "cell_type": "code",
   "execution_count": 5,
   "metadata": {
    "colab": {
     "base_uri": "https://localhost:8080/",
     "height": 786
    },
    "id": "aM-RLa32Hr1K",
    "outputId": "e0c3a2ce-5544-4c48-e5ce-10ed265fa761"
   },
   "outputs": [
    {
     "data": {
      "image/png": "[encoded data removed]",
      "text/plain": [
       "<Figure size 1440x1440 with 11 Axes>"
      ]
     },
     "metadata": {
      "needs_background": "light"
     },
     "output_type": "display_data"
    }
   ],
   "source": [
    "plt.figure(figsize = (20,20))\n",
    "\n",
    "for i in range(1, num_features+1):\n",
    "    plt.subplot(5,5,i)\n",
    "    plt.plot(df_feature_dropped.iloc[:,i-1], 'bo-')\n",
    "    plt.title(f'{df_feature_dropped.columns[i-1]}')\n",
    "\n",
    "plt.suptitle (\"Data distribution for each feature\", y=0.95, fontsize=24)\n",
    "plt.show ()"
   ]
  },
  {
   "cell_type": "code",
   "execution_count": 6,
   "metadata": {
    "colab": {
     "base_uri": "https://localhost:8080/",
     "height": 314
    },
    "id": "91DpNsFuKOSt",
    "outputId": "62661a59-1a5f-4fff-b8d9-e028be65f1ec"
   },
   "outputs": [
    {
     "name": "stdout",
     "output_type": "stream",
     "text": [
      "n_neighbors with minimum outliers: 7\n"
     ]
    },
    {
     "data": {
      "image/png": "[encoded data removed]",
      "text/plain": [
       "<Figure size 432x288 with 1 Axes>"
      ]
     },
     "metadata": {
      "needs_background": "light"
     },
     "output_type": "display_data"
    }
   ],
   "source": [
    "outlier_number = []\n",
    "min_num_outlier = 1000 # placeholder for minimum n_neigh\n",
    "\n",
    "for i in range(1,50):\n",
    "    lof = LocalOutlierFactor(n_neighbors = i)\n",
    "    outlier = lof.fit_predict(feature)\n",
    "\n",
    "    num_outlier = len(outlier[outlier==-1])\n",
    "    \n",
    "    # added\n",
    "    if num_outlier < min_num_outlier:\n",
    "      min_num_outlier = num_outlier\n",
    "      n_neigh = int(i)\n",
    "    \n",
    "    outlier_number += [num_outlier]\n",
    "\n",
    "print (f\"n_neighbors with minimum outliers: {n_neigh}\")\n",
    "\n",
    "plt.plot(range(1,50), outlier_number)\n",
    "plt.plot(n_neigh, min(outlier_number), \"ro\")\n",
    "plt.xlabel (\"n_neighbors\")\n",
    "plt.ylabel (\"Number of Outliers\")\n",
    "plt.title (\"Outlier Analysis\")\n",
    "plt.show ()"
   ]
  },
  {
   "cell_type": "markdown",
   "metadata": {
    "id": "nzfwOrXYMpF7"
   },
   "source": [
    "We'll use *n_neighbors* that gives the minimum number of outliers."
   ]
  },
  {
   "cell_type": "code",
   "execution_count": 7,
   "metadata": {
    "colab": {
     "base_uri": "https://localhost:8080/",
     "height": 0
    },
    "id": "DUpio1MnKOQH",
    "outputId": "a01ec712-ccb5-45e0-e919-81ce965443c5"
   },
   "outputs": [
    {
     "name": "stdout",
     "output_type": "stream",
     "text": [
      "Using n_neighbors: 7\n",
      "Minimum num_outlier: 9\n",
      "Feature with dropped outliers: (186, 11)\n"
     ]
    }
   ],
   "source": [
    "# removing outliers from the dataset\n",
    "lof = LocalOutlierFactor(n_neighbors = n_neigh)\n",
    "outlier = lof.fit_predict(feature)\n",
    "num_outlier = len(outlier[outlier == -1])\n",
    "\n",
    "data_r = feature[outlier == 1] # data with outliers removed\n",
    "label_r = label[outlier==1] # according labels\n",
    "\n",
    "\n",
    "\n",
    "print(f\"Using n_neighbors: {n_neigh}\")\n",
    "print(f\"Minimum num_outlier: {num_outlier}\")\n",
    "print(f'Feature with dropped outliers: {data_r.shape}')"
   ]
  },
  {
   "cell_type": "markdown",
   "metadata": {
    "id": "fmkaNUoKNwoR"
   },
   "source": [
    "## Standard Scaling"
   ]
  },
  {
   "cell_type": "code",
   "execution_count": 8,
   "metadata": {
    "colab": {
     "base_uri": "https://localhost:8080/",
     "height": 0
    },
    "id": "8tK1bNggUo6d",
    "outputId": "c36b36eb-5637-4471-9f25-cafa7e4bcfbc"
   },
   "outputs": [
    {
     "name": "stdout",
     "output_type": "stream",
     "text": [
      "(186, 11) (186,)\n"
     ]
    }
   ],
   "source": [
    "# numpy\n",
    "x_data = data_r # (186, 11)\n",
    "y_data = label_r # (186,)\n",
    "print (x_data.shape, y_data.shape)"
   ]
  },
  {
   "cell_type": "code",
   "execution_count": 9,
   "metadata": {
    "colab": {
     "base_uri": "https://localhost:8080/",
     "height": 0
    },
    "id": "YL4KNDAjM6BH",
    "outputId": "8e767ae7-7fd3-4bf8-b3fa-d768d7e34217"
   },
   "outputs": [
    {
     "name": "stdout",
     "output_type": "stream",
     "text": [
      "Features are standard-scaled.\n",
      "Mean: -8.091713461979635e-16\n",
      "Standard deviation: 1.0\n"
     ]
    }
   ],
   "source": [
    "scaler = StandardScaler()\n",
    "x_data_scaled = scaler.fit_transform (x_data)\n",
    "\n",
    "print (f\"Features are standard-scaled.\")  # std-scaled X\n",
    "print (f\"Mean: {x_data_scaled.mean()}\\nStandard deviation: {x_data_scaled.std()}\")"
   ]
  },
  {
   "cell_type": "markdown",
   "metadata": {
    "id": "CJuOk_mfN8Rm"
   },
   "source": [
    "## PCA (to reduce noises)"
   ]
  },
  {
   "cell_type": "code",
   "execution_count": 10,
   "metadata": {
    "colab": {
     "base_uri": "https://localhost:8080/",
     "height": 0
    },
    "id": "_zmutXGsN7qB",
    "outputId": "76d4574f-5eb1-43f0-a361-e6694f27cab0"
   },
   "outputs": [
    {
     "data": {
      "text/plain": [
       "array([0.41602151, 0.19522756, 0.1072179 , 0.07417054, 0.06698089,\n",
       "       0.04738628, 0.03192858, 0.02199359, 0.01719811, 0.01332466,\n",
       "       0.00855036])"
      ]
     },
     "execution_count": 10,
     "metadata": {},
     "output_type": "execute_result"
    }
   ],
   "source": [
    "pca = PCA(n_components = num_features)\n",
    "x_pca = pca.fit_transform(x_data_scaled)\n",
    "\n",
    "pca.explained_variance_ratio_"
   ]
  },
  {
   "cell_type": "code",
   "execution_count": 11,
   "metadata": {
    "colab": {
     "base_uri": "https://localhost:8080/",
     "height": 301
    },
    "id": "bLEOfNIwM5-j",
    "outputId": "5024f32a-0d5d-484b-d68e-3a96710b6338"
   },
   "outputs": [
    {
     "data": {
      "image/png": "[encoded data removed]",
      "text/plain": [
       "<Figure size 432x288 with 1 Axes>"
      ]
     },
     "metadata": {
      "needs_background": "light"
     },
     "output_type": "display_data"
    }
   ],
   "source": [
    "plt.bar (range(1,num_features+1), pca.explained_variance_ratio_*100) # percentage\n",
    "plt.title (\"Explained Variance Percentage\", fontsize=16)\n",
    "plt.xlabel (\"Principle component index\", fontsize=14)\n",
    "plt.ylabel (\"Explained variance (%)\", fontsize=14)\n",
    "plt.xticks (np.arange (1,23))\n",
    "plt.show ()"
   ]
  },
  {
   "cell_type": "code",
   "execution_count": 12,
   "metadata": {
    "colab": {
     "base_uri": "https://localhost:8080/",
     "height": 0
    },
    "id": "XpLH2Gh8M576",
    "outputId": "ff83767d-9b36-449c-c4ad-2b80c148e4fe"
   },
   "outputs": [
    {
     "name": "stdout",
     "output_type": "stream",
     "text": [
      "96.09 % of features are explained using 8 components.\n"
     ]
    }
   ],
   "source": [
    "print(f'{np.sum(pca.explained_variance_ratio_[0:8])*100:1.2f} % of features are explained using {len(pca.explained_variance_ratio_[0:8])} components.')"
   ]
  },
  {
   "cell_type": "code",
   "execution_count": 13,
   "metadata": {
    "colab": {
     "base_uri": "https://localhost:8080/",
     "height": 0
    },
    "id": "athNXSENM55W",
    "outputId": "026fccb6-1784-419e-8076-e4c836ec5b7c"
   },
   "outputs": [
    {
     "name": "stdout",
     "output_type": "stream",
     "text": [
      "(186, 8) (186,)\n"
     ]
    }
   ],
   "source": [
    "pca = PCA (n_components = 8)\n",
    "X_reduced = pca.fit_transform (x_data_scaled)\n",
    "\n",
    "print (X_reduced.shape, y_data.shape) # dataset for ML"
   ]
  },
  {
   "cell_type": "markdown",
   "metadata": {
    "id": "R3MPqYThPGaE"
   },
   "source": [
    "### train test split"
   ]
  },
  {
   "cell_type": "code",
   "execution_count": 14,
   "metadata": {
    "colab": {
     "base_uri": "https://localhost:8080/",
     "height": 0
    },
    "id": "z7ZX0b-pM52m",
    "outputId": "11d1fd93-b616-402c-c975-1ad5612ac03c"
   },
   "outputs": [
    {
     "name": "stdout",
     "output_type": "stream",
     "text": [
      "(130, 8) (56, 8) (130,) (56,)\n"
     ]
    }
   ],
   "source": [
    "X_train, X_test, y_train, y_test = train_test_split(X_reduced, y_data, test_size = 0.3, random_state = 924)\n",
    "\n",
    "print(X_train.shape, X_test.shape, y_train.shape, y_test.shape)"
   ]
  },
  {
   "cell_type": "markdown",
   "metadata": {
    "id": "fn87DR61PXRL"
   },
   "source": [
    "# Different model tryouts"
   ]
  },
  {
   "cell_type": "code",
   "execution_count": null,
   "metadata": {
    "id": "k3wmjIgfPZIc"
   },
   "outputs": [],
   "source": [
    "names = [\"K_Nearest_Neighbors\", \"Linear_SVM\", \"Polynomial_SVM\", \"RBF_SVM\", \"Gaussian_Process\",\n",
    "         \"Gradient_Boosting\", \"Decision_Tree\", \"Extra_Trees\", \"Random_Forest\", \"MLP\", \"AdaBoost\",\n",
    "         \"Naive_Bayes\", \"QDA\", \"SGD\"]\n",
    "\n",
    "classifiers = [\n",
    "    KNeighborsClassifier(n_neighbors = 5),\n",
    "    SVC(kernel=\"linear\", C=1),\n",
    "    SVC(kernel=\"poly\", degree=3, C=1),\n",
    "    SVC(kernel=\"rbf\", C=1),\n",
    "    GaussianProcessClassifier(max_iter_predict = 1000),\n",
    "    GradientBoostingClassifier(n_estimators=100, learning_rate=0.1),\n",
    "    DecisionTreeClassifier(max_depth=10),\n",
    "    ExtraTreesClassifier(n_estimators=100),\n",
    "    RandomForestClassifier(max_depth=10, n_estimators=100),\n",
    "    MLPClassifier(hidden_layer_sizes = 100, solver = 'adam', alpha=0.0001, learning_rate_init = 0.001, max_iter=1000),\n",
    "    AdaBoostClassifier(n_estimators = 100, learning_rate = 0.1),\n",
    "    GaussianNB(),\n",
    "    QuadraticDiscriminantAnalysis(),\n",
    "    SGDClassifier(loss=\"hinge\", penalty=\"l2\")]"
   ]
  },
  {
   "cell_type": "markdown",
   "metadata": {
    "id": "RfMP3OfdjjwD"
   },
   "source": [
    "### cross validation"
   ]
  },
  {
   "cell_type": "code",
   "execution_count": null,
   "metadata": {
    "colab": {
     "base_uri": "https://localhost:8080/",
     "height": 424
    },
    "id": "t9w0DyUAPZGE",
    "outputId": "a77f238a-c6ce-44a8-81de-92b295baa1f0"
   },
   "outputs": [
    {
     "data": {
      "text/html": [
       "\n",
       "  <div id=\"df-f1932ae4-0c48-4f1b-8417-07f77e8e500c\">\n",
       "    <div class=\"colab-df-container\">\n",
       "      <div>\n",
       "<style scoped>\n",
       "    .dataframe tbody tr th:only-of-type {\n",
       "        vertical-align: middle;\n",
       "    }\n",
       "\n",
       "    .dataframe tbody tr th {\n",
       "        vertical-align: top;\n",
       "    }\n",
       "\n",
       "    .dataframe thead th {\n",
       "        text-align: right;\n",
       "    }\n",
       "</style>\n",
       "<table border=\"1\" class=\"dataframe\">\n",
       "  <thead>\n",
       "    <tr style=\"text-align: right;\">\n",
       "      <th></th>\n",
       "      <th>PCA 1</th>\n",
       "      <th>PCA 2</th>\n",
       "      <th>PCA 3</th>\n",
       "      <th>PCA 4</th>\n",
       "      <th>PCA 5</th>\n",
       "      <th>PCA 6</th>\n",
       "      <th>PCA 7</th>\n",
       "      <th>PCA 8</th>\n",
       "    </tr>\n",
       "  </thead>\n",
       "  <tbody>\n",
       "    <tr>\n",
       "      <th>0</th>\n",
       "      <td>-0.964652</td>\n",
       "      <td>-1.311057</td>\n",
       "      <td>0.897969</td>\n",
       "      <td>0.812375</td>\n",
       "      <td>-0.093963</td>\n",
       "      <td>-0.039405</td>\n",
       "      <td>0.212462</td>\n",
       "      <td>-0.562184</td>\n",
       "    </tr>\n",
       "    <tr>\n",
       "      <th>1</th>\n",
       "      <td>0.574901</td>\n",
       "      <td>-1.889501</td>\n",
       "      <td>0.330679</td>\n",
       "      <td>-0.506213</td>\n",
       "      <td>0.149833</td>\n",
       "      <td>-0.498701</td>\n",
       "      <td>0.312583</td>\n",
       "      <td>1.251121</td>\n",
       "    </tr>\n",
       "    <tr>\n",
       "      <th>2</th>\n",
       "      <td>3.278057</td>\n",
       "      <td>1.737230</td>\n",
       "      <td>2.030477</td>\n",
       "      <td>0.847334</td>\n",
       "      <td>-0.356127</td>\n",
       "      <td>-0.173101</td>\n",
       "      <td>-0.055511</td>\n",
       "      <td>0.108874</td>\n",
       "    </tr>\n",
       "    <tr>\n",
       "      <th>3</th>\n",
       "      <td>3.070202</td>\n",
       "      <td>1.130013</td>\n",
       "      <td>-2.244748</td>\n",
       "      <td>1.330666</td>\n",
       "      <td>-1.511086</td>\n",
       "      <td>0.333298</td>\n",
       "      <td>-1.283454</td>\n",
       "      <td>-0.138055</td>\n",
       "    </tr>\n",
       "    <tr>\n",
       "      <th>4</th>\n",
       "      <td>-0.043607</td>\n",
       "      <td>2.055266</td>\n",
       "      <td>-2.029207</td>\n",
       "      <td>1.591358</td>\n",
       "      <td>-1.728969</td>\n",
       "      <td>-0.395676</td>\n",
       "      <td>-1.070387</td>\n",
       "      <td>-0.957285</td>\n",
       "    </tr>\n",
       "    <tr>\n",
       "      <th>...</th>\n",
       "      <td>...</td>\n",
       "      <td>...</td>\n",
       "      <td>...</td>\n",
       "      <td>...</td>\n",
       "      <td>...</td>\n",
       "      <td>...</td>\n",
       "      <td>...</td>\n",
       "      <td>...</td>\n",
       "    </tr>\n",
       "    <tr>\n",
       "      <th>125</th>\n",
       "      <td>6.451061</td>\n",
       "      <td>1.633828</td>\n",
       "      <td>0.992896</td>\n",
       "      <td>-2.703798</td>\n",
       "      <td>0.961750</td>\n",
       "      <td>-0.372268</td>\n",
       "      <td>-1.966837</td>\n",
       "      <td>-0.240992</td>\n",
       "    </tr>\n",
       "    <tr>\n",
       "      <th>126</th>\n",
       "      <td>-1.356261</td>\n",
       "      <td>-0.347785</td>\n",
       "      <td>1.203540</td>\n",
       "      <td>0.227790</td>\n",
       "      <td>0.138352</td>\n",
       "      <td>-0.465389</td>\n",
       "      <td>0.066119</td>\n",
       "      <td>0.079906</td>\n",
       "    </tr>\n",
       "    <tr>\n",
       "      <th>127</th>\n",
       "      <td>-0.618230</td>\n",
       "      <td>1.076201</td>\n",
       "      <td>-0.929103</td>\n",
       "      <td>-0.740363</td>\n",
       "      <td>0.662056</td>\n",
       "      <td>-0.477956</td>\n",
       "      <td>0.832054</td>\n",
       "      <td>-0.554534</td>\n",
       "    </tr>\n",
       "    <tr>\n",
       "      <th>128</th>\n",
       "      <td>-0.194939</td>\n",
       "      <td>1.282421</td>\n",
       "      <td>-1.621467</td>\n",
       "      <td>-0.488900</td>\n",
       "      <td>-0.472829</td>\n",
       "      <td>-0.326099</td>\n",
       "      <td>0.339785</td>\n",
       "      <td>-0.270855</td>\n",
       "    </tr>\n",
       "    <tr>\n",
       "      <th>129</th>\n",
       "      <td>-0.413898</td>\n",
       "      <td>1.215791</td>\n",
       "      <td>-0.720633</td>\n",
       "      <td>-0.852376</td>\n",
       "      <td>0.292178</td>\n",
       "      <td>-1.281045</td>\n",
       "      <td>0.621726</td>\n",
       "      <td>-0.014944</td>\n",
       "    </tr>\n",
       "  </tbody>\n",
       "</table>\n",
       "<p>130 rows × 8 columns</p>\n",
       "</div>\n",
       "      <button class=\"colab-df-convert\" onclick=\"convertToInteractive('df-f1932ae4-0c48-4f1b-8417-07f77e8e500c')\"\n",
       "              title=\"Convert this dataframe to an interactive table.\"\n",
       "              style=\"display:none;\">\n",
       "        \n",
       "  <svg xmlns=\"http://www.w3.org/2000/svg\" height=\"24px\"viewBox=\"0 0 24 24\"\n",
       "       width=\"24px\">\n",
       "    <path d=\"M0 0h24v24H0V0z\" fill=\"none\"/>\n",
       "    <path d=\"M18.56 5.44l.94 2.06.94-2.06 2.06-.94-2.06-.94-.94-2.06-.94 2.06-2.06.94zm-11 1L8.5 8.5l.94-2.06 2.06-.94-2.06-.94L8.5 2.5l-.94 2.06-2.06.94zm10 10l.94 2.06.94-2.06 2.06-.94-2.06-.94-.94-2.06-.94 2.06-2.06.94z\"/><path d=\"M17.41 7.96l-1.37-1.37c-.4-.4-.92-.59-1.43-.59-.52 0-1.04.2-1.43.59L10.3 9.45l-7.72 7.72c-.78.78-.78 2.05 0 2.83L4 21.41c.39.39.9.59 1.41.59.51 0 1.02-.2 1.41-.59l7.78-7.78 2.81-2.81c.8-.78.8-2.07 0-2.86zM5.41 20L4 18.59l7.72-7.72 1.47 1.35L5.41 20z\"/>\n",
       "  </svg>\n",
       "      </button>\n",
       "      \n",
       "  <style>\n",
       "    .colab-df-container {\n",
       "      display:flex;\n",
       "      flex-wrap:wrap;\n",
       "      gap: 12px;\n",
       "    }\n",
       "\n",
       "    .colab-df-convert {\n",
       "      background-color: #E8F0FE;\n",
       "      border: none;\n",
       "      border-radius: 50%;\n",
       "      cursor: pointer;\n",
       "      display: none;\n",
       "      fill: #1967D2;\n",
       "      height: 32px;\n",
       "      padding: 0 0 0 0;\n",
       "      width: 32px;\n",
       "    }\n",
       "\n",
       "    .colab-df-convert:hover {\n",
       "      background-color: #E2EBFA;\n",
       "      box-shadow: 0px 1px 2px rgba(60, 64, 67, 0.3), 0px 1px 3px 1px rgba(60, 64, 67, 0.15);\n",
       "      fill: #174EA6;\n",
       "    }\n",
       "\n",
       "    [theme=dark] .colab-df-convert {\n",
       "      background-color: #3B4455;\n",
       "      fill: #D2E3FC;\n",
       "    }\n",
       "\n",
       "    [theme=dark] .colab-df-convert:hover {\n",
       "      background-color: #434B5C;\n",
       "      box-shadow: 0px 1px 3px 1px rgba(0, 0, 0, 0.15);\n",
       "      filter: drop-shadow(0px 1px 2px rgba(0, 0, 0, 0.3));\n",
       "      fill: #FFFFFF;\n",
       "    }\n",
       "  </style>\n",
       "\n",
       "      <script>\n",
       "        const buttonEl =\n",
       "          document.querySelector('#df-f1932ae4-0c48-4f1b-8417-07f77e8e500c button.colab-df-convert');\n",
       "        buttonEl.style.display =\n",
       "          google.colab.kernel.accessAllowed ? 'block' : 'none';\n",
       "\n",
       "        async function convertToInteractive(key) {\n",
       "          const element = document.querySelector('#df-f1932ae4-0c48-4f1b-8417-07f77e8e500c');\n",
       "          const dataTable =\n",
       "            await google.colab.kernel.invokeFunction('convertToInteractive',\n",
       "                                                     [key], {});\n",
       "          if (!dataTable) return;\n",
       "\n",
       "          const docLinkHtml = 'Like what you see? Visit the ' +\n",
       "            '<a target=\"_blank\" href=https://colab.research.google.com/notebooks/data_table.ipynb>data table notebook</a>'\n",
       "            + ' to learn more about interactive tables.';\n",
       "          element.innerHTML = '';\n",
       "          dataTable['output_type'] = 'display_data';\n",
       "          await google.colab.output.renderOutput(dataTable, element);\n",
       "          const docLink = document.createElement('div');\n",
       "          docLink.innerHTML = docLinkHtml;\n",
       "          element.appendChild(docLink);\n",
       "        }\n",
       "      </script>\n",
       "    </div>\n",
       "  </div>\n",
       "  "
      ],
      "text/plain": [
       "        PCA 1     PCA 2     PCA 3     PCA 4     PCA 5     PCA 6     PCA 7  \\\n",
       "0   -0.964652 -1.311057  0.897969  0.812375 -0.093963 -0.039405  0.212462   \n",
       "1    0.574901 -1.889501  0.330679 -0.506213  0.149833 -0.498701  0.312583   \n",
       "2    3.278057  1.737230  2.030477  0.847334 -0.356127 -0.173101 -0.055511   \n",
       "3    3.070202  1.130013 -2.244748  1.330666 -1.511086  0.333298 -1.283454   \n",
       "4   -0.043607  2.055266 -2.029207  1.591358 -1.728969 -0.395676 -1.070387   \n",
       "..        ...       ...       ...       ...       ...       ...       ...   \n",
       "125  6.451061  1.633828  0.992896 -2.703798  0.961750 -0.372268 -1.966837   \n",
       "126 -1.356261 -0.347785  1.203540  0.227790  0.138352 -0.465389  0.066119   \n",
       "127 -0.618230  1.076201 -0.929103 -0.740363  0.662056 -0.477956  0.832054   \n",
       "128 -0.194939  1.282421 -1.621467 -0.488900 -0.472829 -0.326099  0.339785   \n",
       "129 -0.413898  1.215791 -0.720633 -0.852376  0.292178 -1.281045  0.621726   \n",
       "\n",
       "        PCA 8  \n",
       "0   -0.562184  \n",
       "1    1.251121  \n",
       "2    0.108874  \n",
       "3   -0.138055  \n",
       "4   -0.957285  \n",
       "..        ...  \n",
       "125 -0.240992  \n",
       "126  0.079906  \n",
       "127 -0.554534  \n",
       "128 -0.270855  \n",
       "129 -0.014944  \n",
       "\n",
       "[130 rows x 8 columns]"
      ]
     },
     "execution_count": 21,
     "metadata": {},
     "output_type": "execute_result"
    }
   ],
   "source": [
    "X_train_cols = [\"PCA \"+str(i+1) for i in range (X_train.shape[1])]\n",
    "\n",
    "X_train_df = pd.DataFrame(X_train, columns=X_train_cols)\n",
    "\n",
    "X_train_df"
   ]
  },
  {
   "cell_type": "code",
   "execution_count": null,
   "metadata": {
    "colab": {
     "base_uri": "https://localhost:8080/",
     "height": 488
    },
    "id": "8d-oIhzrPZBH",
    "outputId": "878554ee-02ae-4e3d-8c15-e35b423ae89e"
   },
   "outputs": [
    {
     "data": {
      "text/html": [
       "\n",
       "  <div id=\"df-bfcdf069-0c8c-446c-8a3b-15f4935a4df4\">\n",
       "    <div class=\"colab-df-container\">\n",
       "      <div>\n",
       "<style scoped>\n",
       "    .dataframe tbody tr th:only-of-type {\n",
       "        vertical-align: middle;\n",
       "    }\n",
       "\n",
       "    .dataframe tbody tr th {\n",
       "        vertical-align: top;\n",
       "    }\n",
       "\n",
       "    .dataframe thead th {\n",
       "        text-align: right;\n",
       "    }\n",
       "</style>\n",
       "<table border=\"1\" class=\"dataframe\">\n",
       "  <thead>\n",
       "    <tr style=\"text-align: right;\">\n",
       "      <th></th>\n",
       "      <th>name</th>\n",
       "      <th>score</th>\n",
       "    </tr>\n",
       "  </thead>\n",
       "  <tbody>\n",
       "    <tr>\n",
       "      <th>3</th>\n",
       "      <td>RBF_SVM</td>\n",
       "      <td>0.923077</td>\n",
       "    </tr>\n",
       "    <tr>\n",
       "      <th>0</th>\n",
       "      <td>K_Nearest_Neighbors</td>\n",
       "      <td>0.915385</td>\n",
       "    </tr>\n",
       "    <tr>\n",
       "      <th>4</th>\n",
       "      <td>Gaussian_Process</td>\n",
       "      <td>0.915385</td>\n",
       "    </tr>\n",
       "    <tr>\n",
       "      <th>1</th>\n",
       "      <td>Linear_SVM</td>\n",
       "      <td>0.884615</td>\n",
       "    </tr>\n",
       "    <tr>\n",
       "      <th>2</th>\n",
       "      <td>Polynomial_SVM</td>\n",
       "      <td>0.884615</td>\n",
       "    </tr>\n",
       "    <tr>\n",
       "      <th>11</th>\n",
       "      <td>Naive_Bayes</td>\n",
       "      <td>0.869231</td>\n",
       "    </tr>\n",
       "    <tr>\n",
       "      <th>9</th>\n",
       "      <td>MLP</td>\n",
       "      <td>0.869231</td>\n",
       "    </tr>\n",
       "    <tr>\n",
       "      <th>7</th>\n",
       "      <td>Extra_Trees</td>\n",
       "      <td>0.861538</td>\n",
       "    </tr>\n",
       "    <tr>\n",
       "      <th>8</th>\n",
       "      <td>Random_Forest</td>\n",
       "      <td>0.861538</td>\n",
       "    </tr>\n",
       "    <tr>\n",
       "      <th>10</th>\n",
       "      <td>AdaBoost</td>\n",
       "      <td>0.853846</td>\n",
       "    </tr>\n",
       "    <tr>\n",
       "      <th>5</th>\n",
       "      <td>Gradient_Boosting</td>\n",
       "      <td>0.846154</td>\n",
       "    </tr>\n",
       "    <tr>\n",
       "      <th>12</th>\n",
       "      <td>QDA</td>\n",
       "      <td>0.838462</td>\n",
       "    </tr>\n",
       "    <tr>\n",
       "      <th>6</th>\n",
       "      <td>Decision_Tree</td>\n",
       "      <td>0.800000</td>\n",
       "    </tr>\n",
       "    <tr>\n",
       "      <th>13</th>\n",
       "      <td>SGD</td>\n",
       "      <td>0.761538</td>\n",
       "    </tr>\n",
       "  </tbody>\n",
       "</table>\n",
       "</div>\n",
       "      <button class=\"colab-df-convert\" onclick=\"convertToInteractive('df-bfcdf069-0c8c-446c-8a3b-15f4935a4df4')\"\n",
       "              title=\"Convert this dataframe to an interactive table.\"\n",
       "              style=\"display:none;\">\n",
       "        \n",
       "  <svg xmlns=\"http://www.w3.org/2000/svg\" height=\"24px\"viewBox=\"0 0 24 24\"\n",
       "       width=\"24px\">\n",
       "    <path d=\"M0 0h24v24H0V0z\" fill=\"none\"/>\n",
       "    <path d=\"M18.56 5.44l.94 2.06.94-2.06 2.06-.94-2.06-.94-.94-2.06-.94 2.06-2.06.94zm-11 1L8.5 8.5l.94-2.06 2.06-.94-2.06-.94L8.5 2.5l-.94 2.06-2.06.94zm10 10l.94 2.06.94-2.06 2.06-.94-2.06-.94-.94-2.06-.94 2.06-2.06.94z\"/><path d=\"M17.41 7.96l-1.37-1.37c-.4-.4-.92-.59-1.43-.59-.52 0-1.04.2-1.43.59L10.3 9.45l-7.72 7.72c-.78.78-.78 2.05 0 2.83L4 21.41c.39.39.9.59 1.41.59.51 0 1.02-.2 1.41-.59l7.78-7.78 2.81-2.81c.8-.78.8-2.07 0-2.86zM5.41 20L4 18.59l7.72-7.72 1.47 1.35L5.41 20z\"/>\n",
       "  </svg>\n",
       "      </button>\n",
       "      \n",
       "  <style>\n",
       "    .colab-df-container {\n",
       "      display:flex;\n",
       "      flex-wrap:wrap;\n",
       "      gap: 12px;\n",
       "    }\n",
       "\n",
       "    .colab-df-convert {\n",
       "      background-color: #E8F0FE;\n",
       "      border: none;\n",
       "      border-radius: 50%;\n",
       "      cursor: pointer;\n",
       "      display: none;\n",
       "      fill: #1967D2;\n",
       "      height: 32px;\n",
       "      padding: 0 0 0 0;\n",
       "      width: 32px;\n",
       "    }\n",
       "\n",
       "    .colab-df-convert:hover {\n",
       "      background-color: #E2EBFA;\n",
       "      box-shadow: 0px 1px 2px rgba(60, 64, 67, 0.3), 0px 1px 3px 1px rgba(60, 64, 67, 0.15);\n",
       "      fill: #174EA6;\n",
       "    }\n",
       "\n",
       "    [theme=dark] .colab-df-convert {\n",
       "      background-color: #3B4455;\n",
       "      fill: #D2E3FC;\n",
       "    }\n",
       "\n",
       "    [theme=dark] .colab-df-convert:hover {\n",
       "      background-color: #434B5C;\n",
       "      box-shadow: 0px 1px 3px 1px rgba(0, 0, 0, 0.15);\n",
       "      filter: drop-shadow(0px 1px 2px rgba(0, 0, 0, 0.3));\n",
       "      fill: #FFFFFF;\n",
       "    }\n",
       "  </style>\n",
       "\n",
       "      <script>\n",
       "        const buttonEl =\n",
       "          document.querySelector('#df-bfcdf069-0c8c-446c-8a3b-15f4935a4df4 button.colab-df-convert');\n",
       "        buttonEl.style.display =\n",
       "          google.colab.kernel.accessAllowed ? 'block' : 'none';\n",
       "\n",
       "        async function convertToInteractive(key) {\n",
       "          const element = document.querySelector('#df-bfcdf069-0c8c-446c-8a3b-15f4935a4df4');\n",
       "          const dataTable =\n",
       "            await google.colab.kernel.invokeFunction('convertToInteractive',\n",
       "                                                     [key], {});\n",
       "          if (!dataTable) return;\n",
       "\n",
       "          const docLinkHtml = 'Like what you see? Visit the ' +\n",
       "            '<a target=\"_blank\" href=https://colab.research.google.com/notebooks/data_table.ipynb>data table notebook</a>'\n",
       "            + ' to learn more about interactive tables.';\n",
       "          element.innerHTML = '';\n",
       "          dataTable['output_type'] = 'display_data';\n",
       "          await google.colab.output.renderOutput(dataTable, element);\n",
       "          const docLink = document.createElement('div');\n",
       "          docLink.innerHTML = docLinkHtml;\n",
       "          element.appendChild(docLink);\n",
       "        }\n",
       "      </script>\n",
       "    </div>\n",
       "  </div>\n",
       "  "
      ],
      "text/plain": [
       "                   name     score\n",
       "3               RBF_SVM  0.923077\n",
       "0   K_Nearest_Neighbors  0.915385\n",
       "4      Gaussian_Process  0.915385\n",
       "1            Linear_SVM  0.884615\n",
       "2        Polynomial_SVM  0.884615\n",
       "11          Naive_Bayes  0.869231\n",
       "9                   MLP  0.869231\n",
       "7           Extra_Trees  0.861538\n",
       "8         Random_Forest  0.861538\n",
       "10             AdaBoost  0.853846\n",
       "5     Gradient_Boosting  0.846154\n",
       "12                  QDA  0.838462\n",
       "6         Decision_Tree  0.800000\n",
       "13                  SGD  0.761538"
      ]
     },
     "execution_count": 22,
     "metadata": {},
     "output_type": "execute_result"
    }
   ],
   "source": [
    "kf = KFold (n_splits = 5)\n",
    "\n",
    "j = 0\n",
    "df = pd.DataFrame()\n",
    "\n",
    "for train_idx, val_idx in kf.split(X_train, y_train):\n",
    "\n",
    "  X_tr = X_train[train_idx]\n",
    "  y_tr = y_train[train_idx]\n",
    "  X_val = X_train[val_idx]\n",
    "  y_val = y_train[val_idx]\n",
    "\n",
    "  scores = []\n",
    "  for name, clf in zip(names, classifiers):\n",
    "      clf.fit(X_tr, y_tr);\n",
    "      score = clf.score(X_val, y_val);\n",
    "      scores.append(score);\n",
    "  \n",
    "  df[j] = scores\n",
    "  j += 1\n",
    "\n",
    "df_avg = pd.DataFrame()\n",
    "df_avg['name'] = names\n",
    "df_avg['score'] = df.mean(axis =1)\n",
    "df_sorted = df_avg.sort_values('score', ascending=False)\n",
    "\n",
    "df_sorted"
   ]
  },
  {
   "cell_type": "markdown",
   "metadata": {
    "id": "MnwHx_UBfFHJ"
   },
   "source": [
    "**Chosen classification algorithms based on best score:**\n",
    "- SVM\n",
    "- K-Nearest Neighbors\n",
    "\n",
    "**Note that MLP does not work very well with small sized datasets.**\n",
    "- MLP"
   ]
  },
  {
   "cell_type": "markdown",
   "metadata": {
    "id": "40GyoMiFfYRB"
   },
   "source": [
    "# SVM"
   ]
  },
  {
   "cell_type": "markdown",
   "metadata": {
    "id": "C_GXR5SmpWBd"
   },
   "source": [
    "### Hyperparameter Tuning"
   ]
  },
  {
   "cell_type": "code",
   "execution_count": null,
   "metadata": {
    "colab": {
     "base_uri": "https://localhost:8080/"
    },
    "id": "hnKRZrdVkQxP",
    "outputId": "e5a6ee90-2cbe-4848-a760-4166dbc7a811"
   },
   "outputs": [
    {
     "data": {
      "text/plain": [
       "((130, 8), (130,))"
      ]
     },
     "execution_count": 17,
     "metadata": {},
     "output_type": "execute_result"
    }
   ],
   "source": [
    "X_train.shape, y_train.shape"
   ]
  },
  {
   "cell_type": "code",
   "execution_count": null,
   "metadata": {
    "colab": {
     "base_uri": "https://localhost:8080/"
    },
    "id": "cyzbTUmeh75f",
    "outputId": "fc0c9187-bc52-445b-f877-4fe149118463"
   },
   "outputs": [
    {
     "name": "stdout",
     "output_type": "stream",
     "text": [
      "Tuned hyperparameters: {'C': 1, 'kernel': 'rbf'}\n",
      "SVC Test accuracy: 0.8392857142857143\n"
     ]
    }
   ],
   "source": [
    "svc = SVC()\n",
    "\n",
    "# fitting with all combinations in param_grid\n",
    "param_grid = {'C': [0.1, 1, 10, 100, 1000],\n",
    "               'kernel': ['rbf', 'linear','sigmoid','poly']}\n",
    "\n",
    "svc_cv = GridSearchCV (svc, param_grid, n_jobs=3, cv=5)\n",
    "svc_cv.fit (X_train, y_train)\n",
    "\n",
    "print (f\"Tuned hyperparameters: {svc_cv.best_params_}\")\n",
    "print (f\"SVC Test accuracy: {svc_cv.score (X_test, y_test)}\")"
   ]
  },
  {
   "cell_type": "markdown",
   "metadata": {
    "id": "BhfTSZkcoDed"
   },
   "source": [
    "Through searching the grid of parameters and calculating the validation scores, the hyperparameters were tuned. For SVC, the regularization parameter ($C$) is determined to be $1.0$, and the kernel type was chosen to be *rbf* type."
   ]
  },
  {
   "cell_type": "markdown",
   "metadata": {
    "id": "lXHCBJk_ph9s"
   },
   "source": [
    "Best SVC parameters through Grid Search CV: \n",
    "- $C = 1.0$\n",
    "- kernel = \"rbf\"\n",
    "\n",
    "\n",
    "$C$ can be further tuned using finer parameter grid."
   ]
  },
  {
   "cell_type": "code",
   "execution_count": null,
   "metadata": {
    "id": "k0pGCD_-0ETs"
   },
   "outputs": [],
   "source": [
    "\n",
    "def svc_test (c, kernel:str):\n",
    "  svc_model = SVC (C=c, kernel=kernel)\n",
    "  svc_scores = cross_validate (estimator = svc_model,\n",
    "                              X = X_train,\n",
    "                              y = y_train,\n",
    "                              scoring = [\"accuracy\", \"f1\", \"roc_auc\"],\n",
    "                              cv=5)\n",
    "    \n",
    "  # test metrics\n",
    "  mean_accuracy = svc_scores['test_accuracy'].mean()\n",
    "  mean_f1 = svc_scores['test_f1'].mean()\n",
    "  mean_roc = svc_scores['test_roc_auc'].mean()\n",
    "  return mean_accuracy, mean_f1, mean_roc\n",
    "\n",
    "\n",
    "kernel='rbf'\n",
    "Clist = np.linspace (0.50, 2.00, 200)\n",
    "accuracies = []\n",
    "f1scores = []\n",
    "rocauc = []\n",
    "\n",
    "for c in Clist:\n",
    "  mean_accuracy, mean_f1, mean_roc = svc_test (c, kernel)\n",
    "  \n",
    "  accuracies.append (mean_accuracy)\n",
    "  f1scores.append (mean_f1)\n",
    "  rocauc.append (mean_roc)\n"
   ]
  },
  {
   "cell_type": "code",
   "execution_count": null,
   "metadata": {
    "colab": {
     "base_uri": "https://localhost:8080/",
     "height": 343
    },
    "id": "rBmRCpR-5qLN",
    "outputId": "7441348c-b299-42bc-a46c-aa938b9491cd"
   },
   "outputs": [
    {
     "data": {
      "image/png": "[encoded data removed]",
      "text/plain": [
       "<Figure size 1440x288 with 3 Axes>"
      ]
     },
     "metadata": {
      "needs_background": "light"
     },
     "output_type": "display_data"
    }
   ],
   "source": [
    "fig,ax = plt.subplots (1,3, figsize=(20,4))\n",
    "fig.suptitle (\"Support Vector Classifier\", y=1.1, fontsize=20)\n",
    "\n",
    "ax[0].plot (Clist, accuracies, \"r\")\n",
    "ax[0].set_xlabel (\"C\")\n",
    "ax[0].set_ylabel (\"Accuracy\")\n",
    "ax[0].set_title (\"Test Accuracy\",fontsize=16)\n",
    "\n",
    "ax[1].plot (Clist, f1scores, \"g\")\n",
    "ax[1].set_xlabel (\"C\")\n",
    "ax[1].set_ylabel (\"f1 scores\")\n",
    "ax[1].set_title (\"Test f1 score\",fontsize=16)\n",
    "\n",
    "ax[2].plot (Clist, rocauc, \"b\")\n",
    "ax[2].set_xlabel (\"C\")\n",
    "ax[2].set_ylabel (\"ROC-AUC\")\n",
    "ax[2].set_title (\"Test ROC-AUC\",fontsize=16) ;"
   ]
  },
  {
   "cell_type": "markdown",
   "metadata": {
    "id": "p3bLXH9lxT34"
   },
   "source": [
    "Highest SVC test scores around $C=1.1$"
   ]
  },
  {
   "cell_type": "markdown",
   "metadata": {
    "id": "vr0yC02Vwz2o"
   },
   "source": [
    "### Final SVC model & evaluation"
   ]
  },
  {
   "cell_type": "code",
   "execution_count": null,
   "metadata": {
    "colab": {
     "base_uri": "https://localhost:8080/"
    },
    "id": "0LICLjbtw76n",
    "outputId": "4401f05d-291f-4fea-b23e-005bc9684094"
   },
   "outputs": [
    {
     "name": "stdout",
     "output_type": "stream",
     "text": [
      "Tuned parameters: C=1.1, kernel='rbf'\n",
      "SVC Test Accuracy: 93.0769231 %\n",
      "SVC Test f1 score: 95.8730159 %\n",
      "SVC Test ROC-AUC: 87.3333333 %\n"
     ]
    }
   ],
   "source": [
    "# best param\n",
    "C, kernel = 1.1, 'rbf'\n",
    "mean_accuracy, mean_f1, mean_roc = svc_test (C, kernel)\n",
    "svc_model = SVC (C=C, kernel=kernel)\n",
    "svc_model.fit (X_train, y_train)\n",
    "\n",
    "print (f\"Tuned parameters: C={C}, kernel='{kernel}'\")\n",
    "print (f\"SVC Test Accuracy: {mean_accuracy*100:1.7f} %\")\n",
    "print (f\"SVC Test f1 score: {mean_f1*100:1.7f} %\")\n",
    "print (f\"SVC Test ROC-AUC: {mean_roc*100:1.7f} %\")"
   ]
  },
  {
   "cell_type": "code",
   "execution_count": null,
   "metadata": {
    "colab": {
     "base_uri": "https://localhost:8080/",
     "height": 573
    },
    "id": "qSJspHKdxzjw",
    "outputId": "094765b0-abe6-4535-a74f-07cc77010828"
   },
   "outputs": [
    {
     "data": {
      "image/png": "[encoded data removed]",
      "text/plain": [
       "<Figure size 432x288 with 2 Axes>"
      ]
     },
     "metadata": {
      "needs_background": "light"
     },
     "output_type": "display_data"
    },
    {
     "data": {
      "image/png": "[encoded data removed]",
      "text/plain": [
       "<Figure size 432x288 with 2 Axes>"
      ]
     },
     "metadata": {
      "needs_background": "light"
     },
     "output_type": "display_data"
    }
   ],
   "source": [
    "# Confusion matrix (Trainset)\n",
    "yhat_train = svc_model.predict (X_train)\n",
    "yhat_test = svc_model.predict (X_test)\n",
    "\n",
    "cm_train = confusion_matrix(y_train, yhat_train)\n",
    "cm_test = confusion_matrix(y_test, yhat_test)\n",
    "\n",
    "CM_train = ConfusionMatrixDisplay (cm_train)\n",
    "CM_test = ConfusionMatrixDisplay (cm_test)\n",
    "\n",
    "\n",
    "CM_train.plot(cmap=\"PuBu\") # train\n",
    "plt.title (\"SVC Train Confusion Matrix\")\n",
    "plt.show ()\n",
    "\n",
    "CM_test.plot(cmap=\"PuBu\") # test\n",
    "plt.title (\"SVC Test Confusion Matrix\")\n",
    "plt.show ()"
   ]
  },
  {
   "cell_type": "markdown",
   "metadata": {
    "id": "Lh_ijzxv7TrN"
   },
   "source": [
    "- **True Positive:** person with PD predicted correctly\n",
    "- **True Negative:** person without PD predicted correctly\n",
    "\n",
    "- **False Positive:** person without PD predicted as having PD\n",
    "- **False Negative:** person with PD predicted as not having PD\n",
    "\n",
    "\n",
    "Note that false negative is the most important metric in this case, because a testee having the Parkinson's disease should not be predicted healthy. The SVC predictions contained less or no false negatives for both train and test data sets. In other words, support vector classifier can be considered a strong candidate for this task."
   ]
  },
  {
   "cell_type": "markdown",
   "metadata": {
    "id": "56d4Poj59X-L"
   },
   "source": [
    "# Multilayer Perceptron (MLP)"
   ]
  },
  {
   "cell_type": "markdown",
   "metadata": {
    "id": "BmzRlsNBhOQh"
   },
   "source": [
    "### Hyperparameter tuning"
   ]
  },
  {
   "cell_type": "code",
   "execution_count": null,
   "metadata": {
    "colab": {
     "base_uri": "https://localhost:8080/"
    },
    "id": "xQUddQpi8Bi3",
    "outputId": "93d215f5-0782-4a31-aeb5-15d6d067514b"
   },
   "outputs": [
    {
     "name": "stdout",
     "output_type": "stream",
     "text": [
      "{'activation': 'relu', 'alpha': 1.0, 'solver': 'sgd'}\n",
      "MLP test accuracy: 0.8571\n"
     ]
    },
    {
     "name": "stderr",
     "output_type": "stream",
     "text": [
      "/usr/local/lib/python3.8/dist-packages/sklearn/neural_network/_multilayer_perceptron.py:692: ConvergenceWarning: Stochastic Optimizer: Maximum iterations (10000) reached and the optimization hasn't converged yet.\n",
      "  warnings.warn(\n"
     ]
    }
   ],
   "source": [
    "\n",
    "mlp = MLPClassifier (tol=1e-6, max_iter=10000)\n",
    "\n",
    "\n",
    "param_grid = {'activation': ['relu', 'tanh'],\n",
    "              'solver': ['sgd', 'adam'],\n",
    "              'alpha': [0.001, 0.01, 0.1, 1.0]}\n",
    "\n",
    "mlp_cv = GridSearchCV (mlp, param_grid, n_jobs=3, cv=5)\n",
    "\n",
    "mlp_cv.fit (X_train, y_train)\n",
    "\n",
    "print (mlp_cv.best_params_)\n",
    "print (f\"MLP test accuracy: {mlp_cv.score (X_test,y_test):1.4f}\")"
   ]
  },
  {
   "cell_type": "markdown",
   "metadata": {
    "id": "A_vBhKsZhpSh"
   },
   "source": [
    "Through the hyperparameter tuning process shown above, the chosen hyperparameters for MLP were:\n",
    "\n",
    "- activation = 'tanh'\n",
    "- alpha = 1.0\n",
    "- solver = 'adam'\n"
   ]
  },
  {
   "cell_type": "code",
   "execution_count": 17,
   "metadata": {
    "colab": {
     "base_uri": "https://localhost:8080/",
     "height": 0
    },
    "id": "qNE3xXwr-DQH",
    "outputId": "22a862d4-4ecf-41f9-fd89-3316286d0ef4"
   },
   "outputs": [
    {
     "name": "stdout",
     "output_type": "stream",
     "text": [
      "Tuned parameters: activation=tanh, alpha=1.0, solver=adam\n",
      "MLP Test Accuracy: 89.2307692 %\n",
      "MLP Test f1 score: 93.2637065 %\n",
      "MLP Test ROC-AUC: 95.5000000 %\n"
     ]
    }
   ],
   "source": [
    "def mlp_test (activation:str, alpha, solver:str):\n",
    "  mlp_model = MLPClassifier (activation = activation, alpha=alpha, solver=solver, tol=1e-6, max_iter=10000)\n",
    "  mlp_scores = cross_validate (estimator = mlp_model,\n",
    "                              X = X_train,\n",
    "                              y = y_train,\n",
    "                              scoring = [\"accuracy\", \"f1\", \"roc_auc\"],\n",
    "                              cv=5)\n",
    "    \n",
    "  # test metrics\n",
    "  mean_accuracy = mlp_scores['test_accuracy'].mean()\n",
    "  mean_f1 = mlp_scores['test_f1'].mean()\n",
    "  mean_roc = mlp_scores['test_roc_auc'].mean()\n",
    "  return mean_accuracy, mean_f1, mean_roc\n",
    "\n",
    "# best param\n",
    "activation = 'tanh'\n",
    "alpha=1.0\n",
    "solver='adam'\n",
    "\n",
    "mean_accuracy, mean_f1, mean_roc = mlp_test (activation, alpha, solver)\n",
    "mlp_model = MLPClassifier (activation = activation, alpha=alpha, solver=solver, tol=1e-6, max_iter=10000)\n",
    "mlp_model.fit (X_train, y_train)\n",
    "\n",
    "print (f\"Tuned parameters: activation={activation}, alpha={alpha}, solver={solver}\")\n",
    "print (f\"MLP Test Accuracy: {mean_accuracy*100:1.7f} %\")\n",
    "print (f\"MLP Test f1 score: {mean_f1*100:1.7f} %\")\n",
    "print (f\"MLP Test ROC-AUC: {mean_roc*100:1.7f} %\")"
   ]
  },
  {
   "cell_type": "code",
   "execution_count": 18,
   "metadata": {
    "colab": {
     "base_uri": "https://localhost:8080/",
     "height": 591
    },
    "id": "1IPLrldJ9E9G",
    "outputId": "8e39e162-82b5-4bc3-a533-71ca9f9b4a4d"
   },
   "outputs": [
    {
     "name": "stdout",
     "output_type": "stream",
     "text": [
      "MLP test score: 0.8750\n"
     ]
    },
    {
     "data": {
      "image/png": "[encoded data removed]",
      "text/plain": [
       "<Figure size 432x288 with 2 Axes>"
      ]
     },
     "metadata": {
      "needs_background": "light"
     },
     "output_type": "display_data"
    },
    {
     "data": {
      "image/png": "[encoded data removed]",
      "text/plain": [
       "<Figure size 432x288 with 2 Axes>"
      ]
     },
     "metadata": {
      "needs_background": "light"
     },
     "output_type": "display_data"
    }
   ],
   "source": [
    "# Confusion matrix (Trainset)\n",
    "yhat_train = mlp.predict (X_train)\n",
    "yhat_test = mlp.predict (X_test)\n",
    "\n",
    "cm_train = confusion_matrix(y_train, yhat_train)\n",
    "cm_test = confusion_matrix(y_test, yhat_test)\n",
    "\n",
    "CM_train = ConfusionMatrixDisplay (cm_train)\n",
    "CM_test = ConfusionMatrixDisplay (cm_test)\n",
    "\n",
    "print (f\"MLP test score: {mlp.score (X_test, y_test):1.4f}\")\n",
    "\n",
    "\n",
    "CM_train.plot(cmap=\"PuBu\") # train\n",
    "plt.title (\"MLP Train Confusion Matrix\")\n",
    "plt.show ()\n",
    "\n",
    "CM_test.plot(cmap=\"PuBu\") # test\n",
    "plt.title (\"MLP Test Confusion Matrix\")\n",
    "plt.show ()"
   ]
  },
  {
   "cell_type": "markdown",
   "metadata": {
    "id": "vAt_JFMMaam7"
   },
   "source": [
    "# K-Nearest Neighbors Classifier"
   ]
  },
  {
   "cell_type": "code",
   "execution_count": 20,
   "metadata": {
    "id": "YGQpxnvF-HPh"
   },
   "outputs": [],
   "source": [
    "def knn_test (n_neighbors):\n",
    "  knn = KNeighborsClassifier (n_neighbors=n_neighbors)\n",
    "  knn_scores = cross_validate (estimator = knn,\n",
    "                               X = X_train,\n",
    "                               y = y_train,\n",
    "                               scoring = [\"accuracy\", \"f1\", \"roc_auc\"],\n",
    "                               cv=5)\n",
    "  \n",
    "  # test metrics\n",
    "  mean_accuracy = knn_scores['test_accuracy'].mean()\n",
    "  mean_f1 = knn_scores['test_f1'].mean()\n",
    "  mean_roc = knn_scores['test_roc_auc'].mean()\n",
    "\n",
    "  return mean_accuracy, mean_f1, mean_roc\n",
    "\n",
    "\n",
    "\n",
    "Nlist = np.arange (1,30,1)\n",
    "accuracies = []\n",
    "f1scores = []\n",
    "rocauc = []\n",
    "\n",
    "for N in Nlist:\n",
    "  mean_accuracy, mean_f1, mean_roc = knn_test (n_neighbors = N)\n",
    "  \n",
    "  # store N with highest f1 test score\n",
    "  if N > 1 and mean_f1 > max (f1scores):\n",
    "    n_neigh, max_f1 = N, mean_f1\n",
    "\n",
    "  accuracies.append (mean_accuracy)\n",
    "  f1scores.append (mean_f1)\n",
    "  rocauc.append (mean_roc)\n",
    "\n",
    "\n",
    "print (f\"Tuned n_neighbors: {n_neigh}\")\n",
    "print (f\"Test F1 score: {max_f1*100:1.3} %\")"
   ]
  },
  {
   "cell_type": "code",
   "execution_count": null,
   "metadata": {
    "colab": {
     "base_uri": "https://localhost:8080/",
     "height": 344
    },
    "id": "qV23Evz0_SDD",
    "outputId": "6066f2f6-0716-4d7f-bd01-220f4d81dd75"
   },
   "outputs": [
    {
     "data": {
      "image/png": "[encoded data removed]",
      "text/plain": [
       "<Figure size 1440x288 with 3 Axes>"
      ]
     },
     "metadata": {
      "needs_background": "light"
     },
     "output_type": "display_data"
    }
   ],
   "source": [
    "\n",
    "fig,ax = plt.subplots (1,3, figsize=(20,4))\n",
    "fig.suptitle (\"K-Neighbors Classifier\", y=1.1, fontsize=20)\n",
    "\n",
    "ax[0].plot (Nlist, accuracies, \"r\")\n",
    "ax[0].set_xlabel (\"n_neighbors\")\n",
    "ax[0].set_ylabel (\"Accuracy\")\n",
    "ax[0].set_title (\"Test Accuracy\",fontsize=16)\n",
    "\n",
    "ax[1].plot (Nlist, f1scores, \"g\")\n",
    "ax[1].plot (n_neigh, max_f1, \"ro\")\n",
    "ax[1].set_xlabel (\"n_neighbors\")\n",
    "ax[1].set_ylabel (\"f1 scores\")\n",
    "ax[1].set_title (\"Test f1 score\",fontsize=16)\n",
    "\n",
    "ax[2].plot (Nlist, rocauc, \"b\")\n",
    "ax[2].set_xlabel (\"n_neighbors\")\n",
    "ax[2].set_ylabel (\"ROC-AUC\")\n",
    "ax[2].set_title (\"Test ROC-AUC\",fontsize=16) ;"
   ]
  },
  {
   "cell_type": "code",
   "execution_count": 22,
   "metadata": {
    "colab": {
     "base_uri": "https://localhost:8080/",
     "height": 0
    },
    "id": "iOT_OuIkAsIf",
    "outputId": "c8e90bd8-7d66-46db-95f1-6ed54e01258c"
   },
   "outputs": [
    {
     "name": "stdout",
     "output_type": "stream",
     "text": [
      "Tuned parameters: n_neighbors=4\n",
      "KNN Test Accuracy: 93.8461538 %\n",
      "KNN Test f1 score: 96.0231395 %\n",
      "KNN Test ROC-AUC: 98.1428571 %\n"
     ]
    }
   ],
   "source": [
    "# best param\n",
    "n_neighbors = 4\n",
    "mean_accuracy, mean_f1, mean_roc = knn_test (n_neighbors=n_neighbors)\n",
    "knn_model = KNeighborsClassifier (n_neighbors=n_neighbors)\n",
    "knn_model.fit (X_train, y_train)\n",
    "\n",
    "print (f\"Tuned parameters: n_neighbors={n_neighbors}\")\n",
    "print (f\"KNN Test Accuracy: {mean_accuracy*100:1.7f} %\")\n",
    "print (f\"KNN Test f1 score: {mean_f1*100:1.7f} %\")\n",
    "print (f\"KNN Test ROC-AUC: {mean_roc*100:1.7f} %\")"
   ]
  },
  {
   "cell_type": "code",
   "execution_count": null,
   "metadata": {
    "colab": {
     "base_uri": "https://localhost:8080/",
     "height": 573
    },
    "id": "hrLg6Nco2ObX",
    "outputId": "39b61a82-a627-4e68-db0d-09eaf288d818"
   },
   "outputs": [
    {
     "data": {
      "image/png": "[encoded data removed]",
      "text/plain": [
       "<Figure size 432x288 with 2 Axes>"
      ]
     },
     "metadata": {
      "needs_background": "light"
     },
     "output_type": "display_data"
    },
    {
     "data": {
      "image/png": "[encoded data removed]",
      "text/plain": [
       "<Figure size 432x288 with 2 Axes>"
      ]
     },
     "metadata": {
      "needs_background": "light"
     },
     "output_type": "display_data"
    }
   ],
   "source": [
    "# knn best\n",
    "knn = KNeighborsClassifier (n_neighbors = n_neigh)\n",
    "knn.fit (X_train, y_train)\n",
    "\n",
    "# Confusion matrix (Trainset)\n",
    "yhat_train = knn.predict (X_train)\n",
    "yhat_test = knn.predict (X_test)\n",
    "\n",
    "cm_train = confusion_matrix(y_train, yhat_train)\n",
    "cm_test = confusion_matrix(y_test, yhat_test)\n",
    "\n",
    "CM_train = ConfusionMatrixDisplay (cm_train)\n",
    "CM_test = ConfusionMatrixDisplay (cm_test)\n",
    "\n",
    "\n",
    "CM_train.plot(cmap=\"PuBu\") # train\n",
    "plt.title (\"KNN Train Confusion Matrix\")\n",
    "plt.show ()\n",
    "\n",
    "CM_test.plot(cmap=\"PuBu\") # test\n",
    "plt.title (\"KNN Test Confusion Matrix\")\n",
    "plt.show ()"
   ]
  },
  {
   "cell_type": "markdown",
   "metadata": {
    "id": "jy3e3gVV2nJ-"
   },
   "source": [
    "KNN with 4 neighbors provides the highest test metrics (F1 score). However, unlike support vector classifier, false negatives exist in both train and test cases. Choosing KNN for disease dianosis classification can be a concern regardless of the high test accuracy."
   ]
  },
  {
   "cell_type": "markdown",
   "metadata": {
    "id": "9DWYDYgVJZPO"
   },
   "source": [
    "# Recall Ratio\n",
    "\n",
    "The recall ratios were calculated to evaluate the false negatives better.\n",
    "\n",
    "$Recall = \\cfrac{TP}{TP+FN}$"
   ]
  },
  {
   "cell_type": "code",
   "execution_count": 23,
   "metadata": {
    "colab": {
     "base_uri": "https://localhost:8080/",
     "height": 0
    },
    "id": "k_3KH76P3Ui_",
    "outputId": "bf044661-0476-4aae-bd25-89a4d72288a9"
   },
   "outputs": [
    {
     "name": "stdout",
     "output_type": "stream",
     "text": [
      "SVC Recall: 1.0\n",
      "KNN Recall: 0.8974\n",
      "MLP Recall: 0.9231\n"
     ]
    }
   ],
   "source": [
    "recall_svc = 39/39\n",
    "recall_knn = 35/39\n",
    "recall_mlp = 36/39\n",
    "print (f\"SVC Recall: {recall_svc}\")\n",
    "print (f\"KNN Recall: {recall_knn:1.4f}\")\n",
    "print (f\"MLP Recall: {recall_mlp:1.4f}\")"
   ]
  },
  {
   "cell_type": "markdown",
   "metadata": {
    "id": "DLNUfSVwLhLz"
   },
   "source": [
    "SVC ends up having recall rate of $1.0$ because it has no false negatives. In terms of recall, SVC is the better algorithm for this task over KNN."
   ]
  }
 ],
 "metadata": {
  "colab": {
   "collapsed_sections": [
    "56d4Poj59X-L"
   ],
   "provenance": []
  },
  "kernelspec": {
   "display_name": "Python 3 (ipykernel)",
   "language": "python",
   "name": "python3"
  },
  "language_info": {
   "codemirror_mode": {
    "name": "ipython",
    "version": 3
   },
   "file_extension": ".py",
   "mimetype": "text/x-python",
   "name": "python",
   "nbconvert_exporter": "python",
   "pygments_lexer": "ipython3",
   "version": "3.9.7"
  }
 },
 "nbformat": 4,
 "nbformat_minor": 1
}
